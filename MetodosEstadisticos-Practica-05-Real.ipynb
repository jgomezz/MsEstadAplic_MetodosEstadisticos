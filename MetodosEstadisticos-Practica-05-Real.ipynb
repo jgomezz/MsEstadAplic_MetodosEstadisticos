{
    "nbformat_minor": 1, 
    "cells": [
        {
            "execution_count": 1, 
            "cell_type": "code", 
            "metadata": {}, 
            "outputs": [
                {
                    "output_type": "display_data", 
                    "data": {
                        "text/html": "<table>\n<thead><tr><th scope=col>Cl\u00c3.nica</th><th scope=col>Genero</th><th scope=col>M2</th><th scope=col>M6</th><th scope=col>M12</th><th scope=col>P2</th><th scope=col>P6</th><th scope=col>P12</th></tr></thead>\n<tbody>\n\t<tr><td>San Borja</td><td>Femenino </td><td>184.4    </td><td>208.0    </td><td>200.3    </td><td>1        </td><td>0        </td><td>1        </td></tr>\n\t<tr><td>San Borja</td><td>Masculino</td><td>187.4    </td><td>202.3    </td><td>193.2    </td><td>1        </td><td>1        </td><td>1        </td></tr>\n\t<tr><td>San Borja</td><td>Femenino </td><td>234.1    </td><td>198.4    </td><td>209.1    </td><td>0        </td><td>1        </td><td>1        </td></tr>\n\t<tr><td>San Borja</td><td>Masculino</td><td>219.9    </td><td>205.8    </td><td>232.7    </td><td>0        </td><td>0        </td><td>1        </td></tr>\n\t<tr><td>San Borja</td><td>Masculino</td><td>198.0    </td><td>203.8    </td><td>205.7    </td><td>1        </td><td>0        </td><td>0        </td></tr>\n\t<tr><td>San Borja</td><td>Femenino </td><td>191.6    </td><td>210.5    </td><td>201.6    </td><td>0        </td><td>1        </td><td>1        </td></tr>\n</tbody>\n</table>\n", 
                        "text/latex": "\\begin{tabular}{r|llllllll}\n Cl\u00c3.nica & Genero & M2 & M6 & M12 & P2 & P6 & P12\\\\\n\\hline\n\t San Borja & Femenino  & 184.4     & 208.0     & 200.3     & 1         & 0         & 1        \\\\\n\t San Borja & Masculino & 187.4     & 202.3     & 193.2     & 1         & 1         & 1        \\\\\n\t San Borja & Femenino  & 234.1     & 198.4     & 209.1     & 0         & 1         & 1        \\\\\n\t San Borja & Masculino & 219.9     & 205.8     & 232.7     & 0         & 0         & 1        \\\\\n\t San Borja & Masculino & 198.0     & 203.8     & 205.7     & 1         & 0         & 0        \\\\\n\t San Borja & Femenino  & 191.6     & 210.5     & 201.6     & 0         & 1         & 1        \\\\\n\\end{tabular}\n", 
                        "text/markdown": "\nCl\u00c3.nica | Genero | M2 | M6 | M12 | P2 | P6 | P12 | \n|---|---|---|---|---|---|\n| San Borja | Femenino  | 184.4     | 208.0     | 200.3     | 1         | 0         | 1         | \n| San Borja | Masculino | 187.4     | 202.3     | 193.2     | 1         | 1         | 1         | \n| San Borja | Femenino  | 234.1     | 198.4     | 209.1     | 0         | 1         | 1         | \n| San Borja | Masculino | 219.9     | 205.8     | 232.7     | 0         | 0         | 1         | \n| San Borja | Masculino | 198.0     | 203.8     | 205.7     | 1         | 0         | 0         | \n| San Borja | Femenino  | 191.6     | 210.5     | 201.6     | 0         | 1         | 1         | \n\n\n", 
                        "text/plain": "  Cl\u00c3.nica  Genero    M2    M6    M12   P2 P6 P12\n1 San Borja Femenino  184.4 208.0 200.3 1  0  1  \n2 San Borja Masculino 187.4 202.3 193.2 1  1  1  \n3 San Borja Femenino  234.1 198.4 209.1 0  1  1  \n4 San Borja Masculino 219.9 205.8 232.7 0  0  1  \n5 San Borja Masculino 198.0 203.8 205.7 1  0  0  \n6 San Borja Femenino  191.6 210.5 201.6 0  1  1  "
                    }, 
                    "metadata": {}
                }
            ], 
            "source": "##########################################\n#  PRACTICA 5 : METODOS ESTADISTICOS\n#########################################\n\n# Define path file\n#FILE_URL <- \"https://raw.githubusercontent.com/jgomezz/MsEstadAplic_MetodosEstadisticos/master/data/practica/Practica5_ANSI.csv\"\nFILE_URL <- \"https://raw.githubusercontent.com/jgomezz/MsEstadAplic_MetodosEstadisticos/master/data/practica/Caso_5.csv\"\n\nFILE_ENCONDING <- \"ISO-8859-1\"\n\n# Read file\n#Clinica.data <- read.csv(FILE_URL, fileEncoding = FILE_ENCONDING, sep = \";\")\nClinica.data <- read.csv(FILE_URL, fileEncoding = FILE_ENCONDING)\nhead(Clinica.data)\n# Filtro solo la municipalidad de San Borja\nSBO.muni.data <- subset(Clinica.data,  Cl\u00c3.nica ==\"San Borja\")\n\n# Filtro solo la municipalidad de San Luis\nSL.muni.data <- subset(Clinica.data, Cl\u00c3.nica  ==\"San Luis\")\n"
        }, 
        {
            "execution_count": 2, 
            "cell_type": "code", 
            "metadata": {}, 
            "outputs": [
                {
                    "output_type": "stream", 
                    "name": "stderr", 
                    "text": "also installing the dependencies \u2018exactci\u2019, \u2018ssanv\u2019\n\nUpdating HTML index of packages in '.Library'\nMaking 'packages.html' ... done\nLoading required package: exactci\nLoading required package: ssanv\n"
                }
            ], 
            "source": "#####################################################\n# PREGUNTA 1\n#####################################################\n\n# El analista afirma que hay una variaci\u00f3n en los problemas bronquiales a los \n# 2 y 6 meses de nacidos en el local de San Luis. A un nivel de significaci\u00f3n \n# de 0.04 \u00bfEs cierta la afirmaci\u00f3n del analista? Use el programa que da el c\u00e1lculo exacto.\n\n# Mc Nemar\n\n# cargo las librerias\ninstall.packages(\"exact2x2\")\nlibrary(exact2x2)\n"
        }, 
        {
            "execution_count": 5, 
            "cell_type": "code", 
            "metadata": {}, 
            "outputs": [
                {
                    "output_type": "display_data", 
                    "data": {
                        "text/plain": "\n\tExact McNemar test (with central confidence intervals)\n\ndata:  SL.muni.data[, \"P2\"] and SL.muni.data[, \"P6\"]\nb = 10, c = 6, p-value = 0.4545\nalternative hypothesis: true odds ratio is not equal to 1\n95 percent confidence interval:\n 0.5488174 5.5796540\nsample estimates:\nodds ratio \n  1.666667 \n"
                    }, 
                    "metadata": {}
                }
            ], 
            "source": "# Calculo la prueba de Mc Nemar corregida\nmcnemar.exact(SL.muni.data[,\"P2\"], SL.muni.data[,\"P6\"])"
        }, 
        {
            "execution_count": 6, 
            "cell_type": "code", 
            "metadata": {}, 
            "outputs": [], 
            "source": "#####################################################\n# PREGUNTA 2\n#####################################################\n# El analista afirma que gasto mediano en medicamentos y vacunas en el control a los \n# 2 meses de los nacidos en el local de San Borja (1) es superior al del local de\n# San Luis (2) en m\u00e1s de 10 soles. \u00bfEs cierta la afirmaci\u00f3n del analista? \n# Verificaci\u00f3n de la distribuci\u00f3n de las muestras mediante la prueba de Kolmogorov-Smirnov"
        }, 
        {
            "execution_count": 7, 
            "cell_type": "code", 
            "metadata": {}, 
            "outputs": [
                {
                    "output_type": "stream", 
                    "name": "stderr", 
                    "text": "Updating HTML index of packages in '.Library'\nMaking 'packages.html' ... done\n"
                }
            ], 
            "source": "# Prueba de Kolmogorov-Smirnov - librerias\ninstall.packages(\"DescTools\")\nlibrary(DescTools)"
        }, 
        {
            "execution_count": 8, 
            "cell_type": "code", 
            "metadata": {}, 
            "outputs": [
                {
                    "output_type": "stream", 
                    "name": "stderr", 
                    "text": "Warning message in ks.test(SBO.muni.data[, \"M2\"], SL.muni.data[, \"M2\"]):\n\u201ccannot compute exact p-value with ties\u201d"
                }, 
                {
                    "output_type": "display_data", 
                    "data": {
                        "text/plain": "\n\tTwo-sample Kolmogorov-Smirnov test\n\ndata:  SBO.muni.data[, \"M2\"] and SL.muni.data[, \"M2\"]\nD = 0.2, p-value = 0.7232\nalternative hypothesis: two-sided\n"
                    }, 
                    "metadata": {}
                }
            ], 
            "source": "# Prueba de Kolmogorov-Smirnov\nks.test(SBO.muni.data[,\"M2\"], SL.muni.data[,\"M2\"])"
        }, 
        {
            "execution_count": 9, 
            "cell_type": "code", 
            "metadata": {}, 
            "outputs": [
                {
                    "output_type": "stream", 
                    "name": "stderr", 
                    "text": "Updating HTML index of packages in '.Library'\nMaking 'packages.html' ... done\n Package \u2018exactRankTests\u2019 is no longer under development.\n Please consider using package \u2018coin\u2019 instead.\n\n"
                }
            ], 
            "source": "# Prueba de Mann Whitney - librerias\ninstall.packages(\"exactRankTests\")\nlibrary(exactRankTests)"
        }, 
        {
            "execution_count": 10, 
            "cell_type": "code", 
            "metadata": {}, 
            "outputs": [
                {
                    "output_type": "display_data", 
                    "data": {
                        "text/plain": "\n\tExact Wilcoxon rank sum test\n\ndata:  SBO.muni.data[, \"M2\"] and SL.muni.data[, \"M2\"]\nW = 216, p-value = 0.9523\nalternative hypothesis: true mu is greater than 10\n"
                    }, 
                    "metadata": {}
                }
            ], 
            "source": "# Prueba de Mann Whitney\nwilcox.exact(SBO.muni.data[,\"M2\"], SL.muni.data[,\"M2\"], mu = 10, alternative = \"g\", paired=F)"
        }, 
        {
            "execution_count": 24, 
            "cell_type": "code", 
            "metadata": {}, 
            "outputs": [
                {
                    "output_type": "stream", 
                    "name": "stderr", 
                    "text": "Warning message in ks.test(SIS.muni.data[, \"M2\"], SBO.muni.data[, \"M2\"]):\n\u201ccannot compute exact p-value with ties\u201d"
                }, 
                {
                    "output_type": "display_data", 
                    "data": {
                        "text/plain": "\n\tTwo-sample Kolmogorov-Smirnov test\n\ndata:  SIS.muni.data[, \"M2\"] and SBO.muni.data[, \"M2\"]\nD = 0.92, p-value = 1.357e-08\nalternative hypothesis: two-sided\n"
                    }, 
                    "metadata": {}
                }
            ], 
            "source": "#####################################################\n# PREGUNTA 3\n#####################################################\n\n# El analista afirma que la distribuci\u00f3n del gasto en medicamentos y \n# vacunas en el control a los 2 meses de nacido de los locales de \n# San Isidro y San Borja es diferente. A un nivel de significaci\u00f3n \n# de 0.04 \u00bfEs cierta la afirmaci\u00f3n del analista?\n\nks.test(SIS.muni.data[,\"M2\"], SBO.muni.data[,\"M2\"])"
        }, 
        {
            "execution_count": null, 
            "cell_type": "code", 
            "metadata": {}, 
            "outputs": [], 
            "source": "\n\n"
        }, 
        {
            "execution_count": 11, 
            "cell_type": "code", 
            "metadata": {}, 
            "outputs": [], 
            "source": "#####################################################\n# PREGUNTA  4\n#####################################################\n#El analista afirma que el gasto mediano en medicamentos y vacunas en el control \n# a los 12 meses de los nacidos en el local de San Borja es inferior a 215 soles. \n# A un nivel de significaci\u00f3n de 0.04 \u00bfEs cierta la afirmaci\u00f3n del analista? \n# Sugerencia: Siempre prefiera utilizar la prueba m\u00e1s poderosa\n# Verificaci\u00f3n de la simetr\u00eda con la prueba de Agostino del paquete moments"
        }, 
        {
            "execution_count": 12, 
            "cell_type": "code", 
            "metadata": {}, 
            "outputs": [
                {
                    "output_type": "stream", 
                    "name": "stderr", 
                    "text": "Updating HTML index of packages in '.Library'\nMaking 'packages.html' ... done\n"
                }
            ], 
            "source": "# Prueba de moments - librerias\ninstall.packages(\"moments\")\nlibrary(moments)"
        }, 
        {
            "execution_count": 13, 
            "cell_type": "code", 
            "metadata": {}, 
            "outputs": [
                {
                    "output_type": "display_data", 
                    "data": {
                        "text/plain": "\n\tD'Agostino skewness test\n\ndata:  SBO.muni.data[, \"M12\"]\nskew = 0.16599, z = 0.37209, p-value = 0.7098\nalternative hypothesis: data have a skewness\n"
                    }, 
                    "metadata": {}
                }
            ], 
            "source": "#\n# agostino.test(x, alternative = c(\"two.sided\", \"less\", \"greater\"))\n\n# Filtro solo la municipalidad de San Martin de Porras\nSBO.muni.data <- subset(Clinica.data,  Cl\u00c3.nica ==\"San Borja\")\n\nagostino.test(SBO.muni.data[,\"M12\"]) # , alternative = c(\"two.sided\", \"less\", \"greater\"))\n"
        }, 
        {
            "execution_count": 14, 
            "cell_type": "code", 
            "metadata": {}, 
            "outputs": [
                {
                    "output_type": "stream", 
                    "name": "stderr", 
                    "text": "Updating HTML index of packages in '.Library'\nMaking 'packages.html' ... done\n"
                }
            ], 
            "source": "# Como hay empates, se debe usar la siguiente funcion - Librerias\ninstall.packages(\"exactRankTests\")\nlibrary(exactRankTests)"
        }, 
        {
            "execution_count": 15, 
            "cell_type": "code", 
            "metadata": {}, 
            "outputs": [
                {
                    "output_type": "display_data", 
                    "data": {
                        "text/plain": "\n\tExact Wilcoxon signed rank test\n\ndata:  SBO.muni.data[, \"M12\"]\nV = 124.5, p-value = 0.7655\nalternative hypothesis: true mu is less than 215\n"
                    }, 
                    "metadata": {}
                }
            ], 
            "source": "# Como hay empates, se debe usar la siguiente funcion\nwilcox.exact(SBO.muni.data[,\"M12\"], mu=215, alternative = \"l\")"
        }, 
        {
            "execution_count": 17, 
            "cell_type": "code", 
            "metadata": {}, 
            "outputs": [], 
            "source": "#####################################################\n# PREGUNTA 5  - Rachas\n#####################################################\n# El analista afirma que los datos del gasto en medicamentos y vacunas en el control \n# a los 2 meses de nacido provenientes de la cl\u00ednica ubicada en San Isidro son aleatorios \n# con respecto a su mediana. A un nivel de significaci\u00f3n de 0.04 \u00bfEs cierta la afirmaci\u00f3n \n# del analista? Sugerencia use Minitab"
        }, 
        {
            "execution_count": 16, 
            "cell_type": "code", 
            "metadata": {}, 
            "outputs": [
                {
                    "output_type": "stream", 
                    "name": "stderr", 
                    "text": "Updating HTML index of packages in '.Library'\nMaking 'packages.html' ... done\n"
                }
            ], 
            "source": "install.packages(\"tseries\")\nlibrary(tseries)"
        }, 
        {
            "execution_count": 19, 
            "cell_type": "code", 
            "metadata": {}, 
            "outputs": [
                {
                    "output_type": "display_data", 
                    "data": {
                        "text/plain": "\n\tRuns Test\n\ndata:  as.factor(SIS.muni.data[, \"M2\"] > me)\nStandard Normal = -0.13275, p-value = 0.8944\nalternative hypothesis: two.sided\n"
                    }, 
                    "metadata": {}
                }
            ], 
            "source": "# Filtro solo la municipalidad de San Luis\nSIS.muni.data <- subset(Clinica.data, Cl\u00c3.nica  ==\"San Isidro\")\n\nme <- median(SIS.muni.data[,\"M2\"])\nruns.test(as.factor(SIS.muni.data[,\"M2\"]>me))"
        }, 
        {
            "execution_count": 20, 
            "cell_type": "code", 
            "metadata": {}, 
            "outputs": [], 
            "source": "#####################################################\n# PREGUNTA 6  - Binomial\n#####################################################\n# El jefe de la sala de atenci\u00f3n de reci\u00e9n nacidos del local de San Borja afirma que menos \n# del 30% de nacidos en enero del a\u00f1o pasado son ni\u00f1as. A un nivel de significaci\u00f3n de 0.04 \n# \u00bfEs cierta la afirmaci\u00f3n del jefe de la sala de atenci\u00f3n de reci\u00e9n nacidos?"
        }, 
        {
            "execution_count": 21, 
            "cell_type": "code", 
            "metadata": {}, 
            "outputs": [
                {
                    "output_type": "display_data", 
                    "data": {
                        "text/plain": "\n Femenino Masculino \n        7        13 "
                    }, 
                    "metadata": {}
                }
            ], 
            "source": "# Filtro solo la municipalidad de San Borja\n#SBO.muni.data <- subset(Clinica.data,  Cl\u00c3.nica ==\"San Borja\")\n\ntable(SBO.muni.data[,\"Genero\"])"
        }, 
        {
            "execution_count": 22, 
            "cell_type": "code", 
            "metadata": {}, 
            "outputs": [
                {
                    "output_type": "display_data", 
                    "data": {
                        "text/plain": "\n\tExact binomial test\n\ndata:  7 and 20\nnumber of successes = 7, number of trials = 20, p-value = 0.7723\nalternative hypothesis: true probability of success is less than 0.3\n95 percent confidence interval:\n 0.0000000 0.5580345\nsample estimates:\nprobability of success \n                  0.35 \n"
                    }, 
                    "metadata": {}
                }
            ], 
            "source": "# Femenino Masculino \n#    7        13 \n\nbinom.test(7,20,p = 0.3, alternative = \"l\")"
        }, 
        {
            "execution_count": null, 
            "cell_type": "code", 
            "metadata": {}, 
            "outputs": [], 
            "source": "#####################################################\n# PREGUNTA 7\n#####################################################\n# El analista afirma que la variabilidad del gasto en medicamentos y vacunas\n# en el control a los 6 meses de los nacidos en el local de San Isidro es menor \n# que en el local de San Luis. A un nivel de significaci\u00f3n de 0.04 \u00bfEs cierta la afirmaci\u00f3n del analista?\n# Nota: Considere a O como un par\u00e1metro de variabilidad"
        }, 
        {
            "execution_count": 23, 
            "cell_type": "code", 
            "metadata": {}, 
            "outputs": [
                {
                    "output_type": "display_data", 
                    "data": {
                        "text/plain": "\n\tMood two-sample test of scale\n\ndata:  SIS.muni.data[, \"M6\"] and SL.muni.data[, \"M6\"]\nZ = 0.72554, p-value = 0.7659\nalternative hypothesis: less\n"
                    }, 
                    "metadata": {}
                }
            ], 
            "source": "mood.test(SIS.muni.data[,\"M6\"], SL.muni.data[,\"M6\"], alternative=\"l\")"
        }, 
        {
            "execution_count": null, 
            "cell_type": "code", 
            "metadata": {}, 
            "outputs": [], 
            "source": ""
        }, 
        {
            "execution_count": null, 
            "cell_type": "code", 
            "metadata": {}, 
            "outputs": [], 
            "source": ""
        }, 
        {
            "execution_count": null, 
            "cell_type": "code", 
            "metadata": {}, 
            "outputs": [], 
            "source": ""
        }, 
        {
            "execution_count": null, 
            "cell_type": "code", 
            "metadata": {}, 
            "outputs": [], 
            "source": ""
        }
    ], 
    "metadata": {
        "kernelspec": {
            "display_name": "R", 
            "name": "r", 
            "language": "R"
        }, 
        "language_info": {
            "mimetype": "text/x-r-source", 
            "version": "3.4.2", 
            "name": "R", 
            "pygments_lexer": "r", 
            "file_extension": ".r", 
            "codemirror_mode": "r"
        }
    }, 
    "nbformat": 4
}