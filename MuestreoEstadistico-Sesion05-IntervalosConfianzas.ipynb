{
    "nbformat_minor": 1, 
    "cells": [
        {
            "execution_count": 4, 
            "cell_type": "code", 
            "metadata": {}, 
            "outputs": [
                {
                    "output_type": "display_data", 
                    "data": {
                        "text/html": "<table>\n<thead><tr><th></th><th scope=col>Universidad</th><th scope=col>Facultad</th><th scope=col>Genero</th><th scope=col>Uso.de.carnet</th><th scope=col>Nota.2015.1</th><th scope=col>Nota.2015.2</th></tr></thead>\n<tbody>\n\t<tr><th scope=row>111</th><td>UNCI          </td><td>Ingenier\u00eda    </td><td>Masculino     </td><td>2             </td><td>12.4          </td><td>11.6          </td></tr>\n\t<tr><th scope=row>112</th><td>UNCI          </td><td>Administraci\u00f3n</td><td>Femenino      </td><td>5             </td><td>13.8          </td><td>13.0          </td></tr>\n\t<tr><th scope=row>113</th><td>UNCI          </td><td>Derecho       </td><td>Femenino      </td><td>2             </td><td>13.0          </td><td>13.3          </td></tr>\n\t<tr><th scope=row>114</th><td>UNCI          </td><td>Medicina      </td><td>Masculino     </td><td>2             </td><td>13.9          </td><td>15.5          </td></tr>\n\t<tr><th scope=row>115</th><td>UNCI          </td><td>Medicina      </td><td>Masculino     </td><td>4             </td><td>13.3          </td><td>11.4          </td></tr>\n\t<tr><th scope=row>116</th><td>UNCI          </td><td>Administraci\u00f3n</td><td>Femenino      </td><td>0             </td><td>14.3          </td><td>13.1          </td></tr>\n</tbody>\n</table>\n", 
                        "text/latex": "\\begin{tabular}{r|llllll}\n  & Universidad & Facultad & Genero & Uso.de.carnet & Nota.2015.1 & Nota.2015.2\\\\\n\\hline\n\t111 & UNCI           & Ingenier\u00eda     & Masculino      & 2              & 12.4           & 11.6          \\\\\n\t112 & UNCI           & Administraci\u00f3n & Femenino       & 5              & 13.8           & 13.0          \\\\\n\t113 & UNCI           & Derecho        & Femenino       & 2              & 13.0           & 13.3          \\\\\n\t114 & UNCI           & Medicina       & Masculino      & 2              & 13.9           & 15.5          \\\\\n\t115 & UNCI           & Medicina       & Masculino      & 4              & 13.3           & 11.4          \\\\\n\t116 & UNCI           & Administraci\u00f3n & Femenino       & 0              & 14.3           & 13.1          \\\\\n\\end{tabular}\n", 
                        "text/markdown": "\n| <!--/--> | Universidad | Facultad | Genero | Uso.de.carnet | Nota.2015.1 | Nota.2015.2 | \n|---|---|---|---|---|---|\n| 111 | UNCI           | Ingenier\u00eda     | Masculino      | 2              | 12.4           | 11.6           | \n| 112 | UNCI           | Administraci\u00f3n | Femenino       | 5              | 13.8           | 13.0           | \n| 113 | UNCI           | Derecho        | Femenino       | 2              | 13.0           | 13.3           | \n| 114 | UNCI           | Medicina       | Masculino      | 2              | 13.9           | 15.5           | \n| 115 | UNCI           | Medicina       | Masculino      | 4              | 13.3           | 11.4           | \n| 116 | UNCI           | Administraci\u00f3n | Femenino       | 0              | 14.3           | 13.1           | \n\n\n", 
                        "text/plain": "    Universidad Facultad       Genero    Uso.de.carnet Nota.2015.1 Nota.2015.2\n111 UNCI        Ingenier\u00eda     Masculino 2             12.4        11.6       \n112 UNCI        Administraci\u00f3n Femenino  5             13.8        13.0       \n113 UNCI        Derecho        Femenino  2             13.0        13.3       \n114 UNCI        Medicina       Masculino 2             13.9        15.5       \n115 UNCI        Medicina       Masculino 4             13.3        11.4       \n116 UNCI        Administraci\u00f3n Femenino  0             14.3        13.1       "
                    }, 
                    "metadata": {}
                }
            ], 
            "source": "# Define path file\nFILE_URL <- \"https://raw.githubusercontent.com/jgomezz/MsEstadAplic_MetodosEstadisticos/master/data/universidad/ansi/CasoB.csv\"\nFILE_ENCONDING <- \"ISO-8859-1\"\n\n# Read file\nuniversidad.data <- read.csv(FILE_URL, fileEncoding = FILE_ENCONDING)\n\n# Solo universidades \"UNCI\"\nUNCI.universidad.data <- subset(universidad.data, Universidad == \"UNCI\")\n\nhead(UNCI.universidad.data)"
        }, 
        {
            "execution_count": null, 
            "cell_type": "code", 
            "metadata": {}, 
            "outputs": [], 
            "source": ""
        }
    ], 
    "metadata": {
        "kernelspec": {
            "display_name": "R", 
            "name": "r", 
            "language": "R"
        }, 
        "language_info": {
            "mimetype": "text/x-r-source", 
            "version": "3.4.2", 
            "name": "R", 
            "pygments_lexer": "r", 
            "file_extension": ".r", 
            "codemirror_mode": "r"
        }
    }, 
    "nbformat": 4
}