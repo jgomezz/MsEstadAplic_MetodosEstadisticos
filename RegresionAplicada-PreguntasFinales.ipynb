{
    "nbformat_minor": 1, 
    "cells": [
        {
            "execution_count": 1, 
            "cell_type": "code", 
            "metadata": {}, 
            "outputs": [
                {
                    "output_type": "display_data", 
                    "data": {
                        "text/html": "<table>\n<thead><tr><th scope=col>Precio</th><th scope=col>Area</th><th scope=col>Distancia</th><th scope=col>Antiguedad</th></tr></thead>\n<tbody>\n\t<tr><td>48 </td><td> 75</td><td>0.1</td><td>12 </td></tr>\n\t<tr><td>50 </td><td> 85</td><td>8.0</td><td>10 </td></tr>\n\t<tr><td>55 </td><td> 85</td><td>2.0</td><td> 8 </td></tr>\n\t<tr><td>62 </td><td> 90</td><td>7.0</td><td> 8 </td></tr>\n\t<tr><td>70 </td><td> 95</td><td>5.0</td><td>10 </td></tr>\n\t<tr><td>75 </td><td>100</td><td>8.0</td><td> 9 </td></tr>\n</tbody>\n</table>\n", 
                        "text/latex": "\\begin{tabular}{r|llll}\n Precio & Area & Distancia & Antiguedad\\\\\n\\hline\n\t 48  &  75 & 0.1 & 12 \\\\\n\t 50  &  85 & 8.0 & 10 \\\\\n\t 55  &  85 & 2.0 &  8 \\\\\n\t 62  &  90 & 7.0 &  8 \\\\\n\t 70  &  95 & 5.0 & 10 \\\\\n\t 75  & 100 & 8.0 &  9 \\\\\n\\end{tabular}\n", 
                        "text/markdown": "\nPrecio | Area | Distancia | Antiguedad | \n|---|---|---|---|---|---|\n| 48  |  75 | 0.1 | 12  | \n| 50  |  85 | 8.0 | 10  | \n| 55  |  85 | 2.0 |  8  | \n| 62  |  90 | 7.0 |  8  | \n| 70  |  95 | 5.0 | 10  | \n| 75  | 100 | 8.0 |  9  | \n\n\n", 
                        "text/plain": "  Precio Area Distancia Antiguedad\n1 48      75  0.1       12        \n2 50      85  8.0       10        \n3 55      85  2.0        8        \n4 62      90  7.0        8        \n5 70      95  5.0       10        \n6 75     100  8.0        9        "
                    }, 
                    "metadata": {}
                }
            ], 
            "source": "##################################################################################\n#                                   Pregunta 1                                   #\n##################################################################################\n# La empresa inmobiliaria ALFARO SOLANO tiene inter\u00e9s en realizar un estudio de los precios de \n# las viviendas que posee en la urbanizaci\u00f3n \u201cEl Sol de la Molina\u201d, donde existe un solo centro \n# comercial. La empresa ha decidido incluir en el an\u00e1lisis las siguientes variables: Y = Precio \n# de la vivienda (miles de d\u00f3lares), X1 = Area construida de la vivienda (metros cuadrados), X2 = Distancia \n# al centro comercial (cientos de metros) y X3 = Antiguedad de la vivienda (a\u00f1os). Los resultados obtenidos \n# en 21 viviendas elegidas al azar se encuentran en el archivo AlfaroSolano.txt del aula virtual del curso.\n\nInmobiliaria.data <- read.table(file = \"https://tarwi.lamolina.edu.pe/~clopez/Regresion/Alfaro_Solano.txt\", header = T)\nhead(Inmobiliaria.data)"
        }, 
        {
            "execution_count": 3, 
            "cell_type": "code", 
            "metadata": {}, 
            "outputs": [
                {
                    "output_type": "display_data", 
                    "data": {
                        "text/plain": "\nCall:\nlm(formula = Precio ~ Area + Distancia + Antiguedad, data = Inmobiliaria.data)\n\nResiduals:\n    Min      1Q  Median      3Q     Max \n-23.508  -8.654  -3.437  12.259  22.765 \n\nCoefficients:\n            Estimate Std. Error t value Pr(>|t|)    \n(Intercept) 75.72933   16.76935   4.516 0.000305 ***\nArea         0.28469    0.03317   8.582 1.38e-07 ***\nDistancia    0.91821    1.33976   0.685 0.502359    \nAntiguedad  -3.37660    1.49462  -2.259 0.037299 *  \n---\nSignif. codes:  0 \u2018***\u2019 0.001 \u2018**\u2019 0.01 \u2018*\u2019 0.05 \u2018.\u2019 0.1 \u2018 \u2019 1\n\nResidual standard error: 15.17 on 17 degrees of freedom\nMultiple R-squared:  0.9307,\tAdjusted R-squared:  0.9185 \nF-statistic: 76.16 on 3 and 17 DF,  p-value: 4.63e-10\n"
                    }, 
                    "metadata": {}
                }
            ], 
            "source": "Inmobiliaria.m1 <- lm(Precio ~ Area + Distancia + Antiguedad, data=Inmobiliaria.data )\nsummary(Inmobiliaria.m1)"
        }, 
        {
            "execution_count": 4, 
            "cell_type": "code", 
            "metadata": {}, 
            "outputs": [], 
            "source": "# F-statistic: 76.16 on 3 and 17 DF,  p-value: 4.63e-10\n\n##################################################################################\n#  El estad\u00edstico de prueba para el proceso de validaci\u00f3n del modelo es:   76.16\n#  y su valor de probabilidad es:  4.63e-10 \n#  por lo que se SE RECHAZA LA HIPOTESIS NULA\n#  por lo que se puede concluir que el modelo de regresi\u00f3n lineal  ES APROPIADO\n##################################################################################\n"
        }, 
        {
            "execution_count": 5, 
            "cell_type": "code", 
            "metadata": {}, 
            "outputs": [
                {
                    "output_type": "display_data", 
                    "data": {
                        "text/plain": "\nCall:\nlm(formula = Precio ~ Area + Distancia + Antiguedad, data = Inmobiliaria.data)\n\nResiduals:\n    Min      1Q  Median      3Q     Max \n-23.508  -8.654  -3.437  12.259  22.765 \n\nCoefficients:\n            Estimate Std. Error t value Pr(>|t|)    \n(Intercept) 75.72933   16.76935   4.516 0.000305 ***\nArea         0.28469    0.03317   8.582 1.38e-07 ***\nDistancia    0.91821    1.33976   0.685 0.502359    \nAntiguedad  -3.37660    1.49462  -2.259 0.037299 *  \n---\nSignif. codes:  0 \u2018***\u2019 0.001 \u2018**\u2019 0.01 \u2018*\u2019 0.05 \u2018.\u2019 0.1 \u2018 \u2019 1\n\nResidual standard error: 15.17 on 17 degrees of freedom\nMultiple R-squared:  0.9307,\tAdjusted R-squared:  0.9185 \nF-statistic: 76.16 on 3 and 17 DF,  p-value: 4.63e-10\n"
                    }, 
                    "metadata": {}
                }
            ], 
            "source": "summary(Inmobiliaria.m1)"
        }, 
        {
            "execution_count": null, 
            "cell_type": "code", 
            "metadata": {}, 
            "outputs": [], 
            "source": "# Coefficients:\n#             Estimate Std. Error t value Pr(>|t|)    \n# (Intercept) 75.72933   16.76935   4.516 0.000305 ***\n# Area         0.28469    0.03317   8.582 1.38e-07 ***\n# Distancia    0.91821    1.33976   0.685 0.502359     --> MENOS IMPORTANTE\n# Antiguedad  -3.37660    1.49462  -2.259 0.037299 *\n\n##################################################################################\n# Considerando las pruebas individuales la variable predictora menos importante es DISTANCIA\n# con un estad\u00edstico de prueba de: 0.685\n# y un valor de probabilidad de: 0.502   \n# por lo que se debe : ELIMINAR\n# del modelo de regresi\u00f3n. Escriba sus respuestas con tres decimales.\n##################################################################################"
        }, 
        {
            "execution_count": 8, 
            "cell_type": "code", 
            "metadata": {
                "scrolled": true
            }, 
            "outputs": [
                {
                    "output_type": "stream", 
                    "name": "stderr", 
                    "text": "Updating HTML index of packages in '.Library'\nMaking 'packages.html' ... done\nLoading required package: car\n"
                }
            ], 
            "source": "# Carga de librerias para el calculo de ajuste\ninstall.packages(\"alr3\")\nlibrary(\"alr3\")"
        }, 
        {
            "execution_count": 9, 
            "cell_type": "code", 
            "metadata": {}, 
            "outputs": [
                {
                    "output_type": "display_data", 
                    "data": {
                        "text/html": "<table>\n<thead><tr><th></th><th scope=col>Df</th><th scope=col>Sum Sq</th><th scope=col>Mean Sq</th><th scope=col>F value</th><th scope=col>Pr(&gt;F)</th></tr></thead>\n<tbody>\n\t<tr><th scope=row>Area</th><td> 1        </td><td>51368.702 </td><td>51368.7015</td><td>607.913627</td><td>0.02580603</td></tr>\n\t<tr><th scope=row>Antiguedad</th><td> 1        </td><td> 1102.662 </td><td> 1102.6616</td><td> 13.049250</td><td>0.17192760</td></tr>\n\t<tr><th scope=row>Residuals</th><td>18        </td><td> 4020.446 </td><td>  223.3581</td><td>        NA</td><td>        NA</td></tr>\n\t<tr><th scope=row> Lack of fit</th><td>17        </td><td> 3935.946 </td><td>  231.5263</td><td>  2.739956</td><td>0.44626331</td></tr>\n\t<tr><th scope=row> Pure Error</th><td> 1        </td><td>   84.500 </td><td>   84.5000</td><td>        NA</td><td>        NA</td></tr>\n</tbody>\n</table>\n", 
                        "text/latex": "\\begin{tabular}{r|lllll}\n  & Df & Sum Sq & Mean Sq & F value & Pr(>F)\\\\\n\\hline\n\tArea &  1         & 51368.702  & 51368.7015 & 607.913627 & 0.02580603\\\\\n\tAntiguedad &  1         &  1102.662  &  1102.6616 &  13.049250 & 0.17192760\\\\\n\tResiduals & 18         &  4020.446  &   223.3581 &         NA &         NA\\\\\n\t Lack of fit & 17         &  3935.946  &   231.5263 &   2.739956 & 0.44626331\\\\\n\t Pure Error &  1         &    84.500  &    84.5000 &         NA &         NA\\\\\n\\end{tabular}\n", 
                        "text/markdown": "\n| <!--/--> | Df | Sum Sq | Mean Sq | F value | Pr(>F) | \n|---|---|---|---|---|\n| Area |  1         | 51368.702  | 51368.7015 | 607.913627 | 0.02580603 | \n| Antiguedad |  1         |  1102.662  |  1102.6616 |  13.049250 | 0.17192760 | \n| Residuals | 18         |  4020.446  |   223.3581 |         NA |         NA | \n|  Lack of fit | 17         |  3935.946  |   231.5263 |   2.739956 | 0.44626331 | \n|  Pure Error |  1         |    84.500  |    84.5000 |         NA |         NA | \n\n\n", 
                        "text/plain": "             Df Sum Sq    Mean Sq    F value    Pr(>F)    \nArea          1 51368.702 51368.7015 607.913627 0.02580603\nAntiguedad    1  1102.662  1102.6616  13.049250 0.17192760\nResiduals    18  4020.446   223.3581         NA         NA\n Lack of fit 17  3935.946   231.5263   2.739956 0.44626331\n Pure Error   1    84.500    84.5000         NA         NA"
                    }, 
                    "metadata": {}
                }
            ], 
            "source": "Inmobiliaria.m2 <- lm(Precio ~ Area + Antiguedad, data =Inmobiliaria.data )\npureErrorAnova(Inmobiliaria.m2)"
        }, 
        {
            "execution_count": null, 
            "cell_type": "code", 
            "metadata": {}, 
            "outputs": [], 
            "source": "#  Lack of fit\t17\t3935.946\t231.5263\t2.739956\t0.44626331\n\n\n# 1) \n#    H0 : El modelo no presenta falta de ajuste ( el modelo es apropiado)\n#    H1 : El modelo presenta falta de ajuste ( el modelo no es apropiado)\n# \n# 2) \n#    alfa = 0.05\n# \n# 3)   \n#    F  = 2.739956\n#    p_valor  = 0.44626331  > alfa = 0.05\n# \n# 4)\n#    No se rechaza H0\n# \n# 5)\n#    Conclusi\u00f3n: el modelo es apropiado\n#\n\n##################################################################################\n# Hallar el modelo de regresi\u00f3n usando las variables predictoras importantes al 5%. \n# El estad\u00edstico para la prueba de falta de ajuste es:   2.740\n# y su valor de probabilidad es:   0.446\n# por lo que se considera que el modelo anterior  NO PRESENTA problemas de falta de ajuste. \n# Escriba sus respuestas con tres decimales.\n##################################################################################"
        }, 
        {
            "execution_count": 11, 
            "cell_type": "code", 
            "metadata": {}, 
            "outputs": [
                {
                    "output_type": "display_data", 
                    "data": {
                        "text/html": "<table>\n<thead><tr><th scope=col>Consumo</th><th scope=col>Potencia</th><th scope=col>Precio</th><th scope=col>Peso</th><th scope=col>Origen</th></tr></thead>\n<tbody>\n\t<tr><td>36.1</td><td> 66 </td><td>1800</td><td>1900</td><td>1   </td></tr>\n\t<tr><td>19.9</td><td>110 </td><td>3365</td><td>3300</td><td>1   </td></tr>\n\t<tr><td>19.4</td><td>140 </td><td>3735</td><td>3125</td><td>1   </td></tr>\n\t<tr><td>20.2</td><td>139 </td><td>3570</td><td>2850</td><td>1   </td></tr>\n\t<tr><td>19.2</td><td>105 </td><td>3535</td><td>2800</td><td>1   </td></tr>\n\t<tr><td>20.5</td><td> 95 </td><td>3155</td><td>3275</td><td>1   </td></tr>\n</tbody>\n</table>\n", 
                        "text/latex": "\\begin{tabular}{r|lllll}\n Consumo & Potencia & Precio & Peso & Origen\\\\\n\\hline\n\t 36.1 &  66  & 1800 & 1900 & 1   \\\\\n\t 19.9 & 110  & 3365 & 3300 & 1   \\\\\n\t 19.4 & 140  & 3735 & 3125 & 1   \\\\\n\t 20.2 & 139  & 3570 & 2850 & 1   \\\\\n\t 19.2 & 105  & 3535 & 2800 & 1   \\\\\n\t 20.5 &  95  & 3155 & 3275 & 1   \\\\\n\\end{tabular}\n", 
                        "text/markdown": "\nConsumo | Potencia | Precio | Peso | Origen | \n|---|---|---|---|---|---|\n| 36.1 |  66  | 1800 | 1900 | 1    | \n| 19.9 | 110  | 3365 | 3300 | 1    | \n| 19.4 | 140  | 3735 | 3125 | 1    | \n| 20.2 | 139  | 3570 | 2850 | 1    | \n| 19.2 | 105  | 3535 | 2800 | 1    | \n| 20.5 |  95  | 3155 | 3275 | 1    | \n\n\n", 
                        "text/plain": "  Consumo Potencia Precio Peso Origen\n1 36.1     66      1800   1900 1     \n2 19.9    110      3365   3300 1     \n3 19.4    140      3735   3125 1     \n4 20.2    139      3570   2850 1     \n5 19.2    105      3535   2800 1     \n6 20.5     95      3155   3275 1     "
                    }, 
                    "metadata": {}
                }
            ], 
            "source": "##################################################################################\n#                                   Pregunta 2                                   #\n##################################################################################\n# Se ha recopilado informaci\u00f3n relacionada con 150 modelos de veh\u00edculos salidos al \n# mercado americano entre los a\u00f1os 1978 y 1982. Las variables consideradas son: \n# Y = Consumo (en millas por gal\u00f3n), X1 = Potencia (en caballos de vapor), \n# X2 = Precio (en miles de d\u00f3lares), X3 = Peso (en miles de kilogramos) y \n# X4 = Origen (1 = Americanos, 2 = Europeos y 3 = Japoneses). Los datos se encuentran \n# en el archivoVehiculos.txt. Considere los siguientes modelos usando solamente \n# las variables independientes X1 = Potencia y X4 = Origen:\n# \n#    Modelo 1: Regresi\u00f3n m\u00e1s general con intercepto com\u00fan     DEBE DECIR   Regresiones m\u00e1s general\n#    Modelo 2: Regresiones paralelas con intercepto com\u00fan     DEBE DECIR   Regresiones paralelas\n#    Modelo 3: Regresiones coincidentes con intercepto com\u00fan  DEBE DECIR   Regresiones coincidentes ( intercepto y pendiente iguales)\n#\n\nVehicules.data <- read.table(file = \"https://tarwi.lamolina.edu.pe/~clopez/Regresion/Vehiculos.txt\", header = T)\nhead(Vehicules.data)"
        }, 
        {
            "execution_count": 23, 
            "cell_type": "code", 
            "metadata": {}, 
            "outputs": [], 
            "source": "# X1 = Potencia\nX1 <- Vehicules.data$Potencia\n\n# X4 = Origen:\nX4 <- Vehicules.data$Origen\n\n# Y = Consumo \nY <- Vehicules.data$Consumo\n\n# Graficamos el factor\n#plot(X4, Y , xlab = \"Origen\", ylab = \"Consumo\")"
        }, 
        {
            "execution_count": 26, 
            "cell_type": "code", 
            "metadata": {}, 
            "outputs": [], 
            "source": "# Convertimos la variable Origen como FACTOR# Conve \nD_X4 <- as.factor(X4)"
        }, 
        {
            "execution_count": 20, 
            "cell_type": "code", 
            "metadata": {}, 
            "outputs": [], 
            "source": "# Se verifica distribuci\u00f3n del consumo, no se aprecia dispersi\u00f3n\n#boxplot(Vehicules.data$Consumo)\n#boxplot(Y)"
        }, 
        {
            "execution_count": 25, 
            "cell_type": "code", 
            "metadata": {}, 
            "outputs": [], 
            "source": "# Se verifica distribuci\u00f3n del potencia, no se aprecia dispersi\u00f3n\n#boxplot(Vehicules.data$Potencia)\n#boxplot(X1)"
        }, 
        {
            "execution_count": 53, 
            "cell_type": "code", 
            "metadata": {}, 
            "outputs": [
                {
                    "output_type": "display_data", 
                    "data": {
                        "text/html": "<dl class=dl-horizontal>\n\t<dt>(Intercept)</dt>\n\t\t<dd>44.1887692998186</dd>\n\t<dt>D_X42</dt>\n\t\t<dd>12.2627268062068</dd>\n\t<dt>D_X43</dt>\n\t\t<dd>2.99178400854755</dd>\n\t<dt>X1</dt>\n\t\t<dd>-0.192006843755048</dd>\n\t<dt>D_X42:X1</dt>\n\t\t<dd>-0.123833207253742</dd>\n\t<dt>D_X43:X1</dt>\n\t\t<dd>0.0144385534551622</dd>\n</dl>\n", 
                        "text/latex": "\\begin{description*}\n\\item[(Intercept)] 44.1887692998186\n\\item[D\\textbackslash{}\\_X42] 12.2627268062068\n\\item[D\\textbackslash{}\\_X43] 2.99178400854755\n\\item[X1] -0.192006843755048\n\\item[D\\textbackslash{}\\_X42:X1] -0.123833207253742\n\\item[D\\textbackslash{}\\_X43:X1] 0.0144385534551622\n\\end{description*}\n", 
                        "text/markdown": "(Intercept)\n:   44.1887692998186D_X42\n:   12.2627268062068D_X43\n:   2.99178400854755X1\n:   -0.192006843755048D_X42:X1\n:   -0.123833207253742D_X43:X1\n:   0.0144385534551622\n\n", 
                        "text/plain": "(Intercept)       D_X42       D_X43          X1    D_X42:X1    D_X43:X1 \n44.18876930 12.26272681  2.99178401 -0.19200684 -0.12383321  0.01443855 "
                    }, 
                    "metadata": {}
                }
            ], 
            "source": "#   Modelo 1: Regresiones m\u00e1s general\nVehicules.m1 <- lm(Y ~ D_X4 + D_X4*X1)\ncoef(Vehicules.m1)"
        }, 
        {
            "execution_count": 54, 
            "cell_type": "code", 
            "metadata": {}, 
            "outputs": [
                {
                    "output_type": "display_data", 
                    "data": {
                        "text/html": "<dl class=dl-horizontal>\n\t<dt>(Intercept)</dt>\n\t\t<dd>45.8451584963831</dd>\n\t<dt>D_X42</dt>\n\t\t<dd>2.35902033490486</dd>\n\t<dt>D_X43</dt>\n\t\t<dd>3.74928343615445</dd>\n\t<dt>X1</dt>\n\t\t<dd>-0.208852855679426</dd>\n</dl>\n", 
                        "text/latex": "\\begin{description*}\n\\item[(Intercept)] 45.8451584963831\n\\item[D\\textbackslash{}\\_X42] 2.35902033490486\n\\item[D\\textbackslash{}\\_X43] 3.74928343615445\n\\item[X1] -0.208852855679426\n\\end{description*}\n", 
                        "text/markdown": "(Intercept)\n:   45.8451584963831D_X42\n:   2.35902033490486D_X43\n:   3.74928343615445X1\n:   -0.208852855679426\n\n", 
                        "text/plain": "(Intercept)       D_X42       D_X43          X1 \n 45.8451585   2.3590203   3.7492834  -0.2088529 "
                    }, 
                    "metadata": {}
                }
            ], 
            "source": "#   Modelo 2: Regresiones paralelas\nVehicules.m2 <- lm(Y ~ D_X4 + X1)\ncoef(Vehicules.m2)"
        }, 
        {
            "execution_count": 55, 
            "cell_type": "code", 
            "metadata": {}, 
            "outputs": [
                {
                    "output_type": "display_data", 
                    "data": {
                        "text/html": "<dl class=dl-horizontal>\n\t<dt>(Intercept)</dt>\n\t\t<dd>49.8706413109475</dd>\n\t<dt>X1</dt>\n\t\t<dd>-0.237706969513251</dd>\n</dl>\n", 
                        "text/latex": "\\begin{description*}\n\\item[(Intercept)] 49.8706413109475\n\\item[X1] -0.237706969513251\n\\end{description*}\n", 
                        "text/markdown": "(Intercept)\n:   49.8706413109475X1\n:   -0.237706969513251\n\n", 
                        "text/plain": "(Intercept)          X1 \n  49.870641   -0.237707 "
                    }, 
                    "metadata": {}
                }
            ], 
            "source": "#   Modelo 3:  Regresiones coincidentes ( intercepto y pendiente iguales)\nVehicules.m3 <- lm(Y ~ X1)\ncoef(Vehicules.m3)"
        }, 
        {
            "execution_count": 56, 
            "cell_type": "code", 
            "metadata": {}, 
            "outputs": [
                {
                    "output_type": "display_data", 
                    "data": {
                        "text/plain": "\nCall:\nlm(formula = Y ~ D_X4 + D_X4 * X1)\n\nResiduals:\n     Min       1Q   Median       3Q      Max \n-10.2682  -2.5262  -0.3593   2.6330  10.9614 \n\nCoefficients:\n            Estimate Std. Error t value Pr(>|t|)    \n(Intercept) 44.18877    1.95934  22.553  < 2e-16 ***\nD_X42       12.26273    3.71193   3.304  0.00120 ** \nD_X43        2.99178    3.44548   0.868  0.38666    \nX1          -0.19201    0.01937  -9.914  < 2e-16 ***\nD_X42:X1    -0.12383    0.04380  -2.827  0.00536 ** \nD_X43:X1     0.01444    0.04070   0.355  0.72331    \n---\nSignif. codes:  0 \u2018***\u2019 0.001 \u2018**\u2019 0.01 \u2018*\u2019 0.05 \u2018.\u2019 0.1 \u2018 \u2019 1\n\nResidual standard error: 4.205 on 144 degrees of freedom\nMultiple R-squared:  0.6852,\tAdjusted R-squared:  0.6743 \nF-statistic: 62.68 on 5 and 144 DF,  p-value: < 2.2e-16\n"
                    }, 
                    "metadata": {}
                }
            ], 
            "source": "summary(Vehicules.m1)"
        }, 
        {
            "execution_count": null, 
            "cell_type": "code", 
            "metadata": {}, 
            "outputs": [], 
            "source": "# Multiple R-squared:  0.6852,\tAdjusted R-squared:  0.6743 \n\n##################################################################################\n# El coeficiente de determinaci\u00f3n del modelo 1 es:  68.52 %. \n# Escriba su respuesta con dos decimales y en porcentaje.\n##################################################################################"
        }, 
        {
            "execution_count": 57, 
            "cell_type": "code", 
            "metadata": {}, 
            "outputs": [
                {
                    "output_type": "display_data", 
                    "data": {
                        "text/plain": "\nCall:\nlm(formula = Y ~ D_X4 + X1)\n\nResiduals:\n     Min       1Q   Median       3Q      Max \n-10.4927  -2.6194  -0.4599   2.8791  10.6741 \n\nCoefficients:\n            Estimate Std. Error t value Pr(>|t|)    \n(Intercept) 45.84516    1.64211  27.918  < 2e-16 ***\nD_X42        2.35902    1.06945   2.206    0.029 *  \nD_X43        3.74928    0.87100   4.305 3.05e-05 ***\nX1          -0.20885    0.01599 -13.057  < 2e-16 ***\n---\nSignif. codes:  0 \u2018***\u2019 0.001 \u2018**\u2019 0.01 \u2018*\u2019 0.05 \u2018.\u2019 0.1 \u2018 \u2019 1\n\nResidual standard error: 4.303 on 146 degrees of freedom\nMultiple R-squared:  0.6656,\tAdjusted R-squared:  0.6588 \nF-statistic: 96.89 on 3 and 146 DF,  p-value: < 2.2e-16\n"
                    }, 
                    "metadata": {}
                }
            ], 
            "source": "summary(Vehicules.m2)"
        }, 
        {
            "execution_count": null, 
            "cell_type": "code", 
            "metadata": {}, 
            "outputs": [], 
            "source": "# Multiple R-squared:  0.6656,\tAdjusted R-squared:  0.6588 \n\n##################################################################################\n# El coeficiente de determinaci\u00f3n del modelo 2 es: 66.56  %. \n# Escriba su respuesta con dos decimales y en porcentaje.\n##################################################################################"
        }, 
        {
            "execution_count": 63, 
            "cell_type": "code", 
            "metadata": {
                "scrolled": true
            }, 
            "outputs": [
                {
                    "output_type": "display_data", 
                    "data": {
                        "text/html": "<table>\n<thead><tr><th scope=col>Res.Df</th><th scope=col>RSS</th><th scope=col>Df</th><th scope=col>Sum of Sq</th><th scope=col>F</th><th scope=col>Pr(&gt;F)</th></tr></thead>\n<tbody>\n\t<tr><td>146       </td><td>2703.847  </td><td>NA        </td><td>     NA   </td><td>      NA  </td><td>        NA</td></tr>\n\t<tr><td>144       </td><td>2545.843  </td><td> 2        </td><td>158.004   </td><td>4.468575  </td><td>0.01309676</td></tr>\n</tbody>\n</table>\n", 
                        "text/latex": "\\begin{tabular}{r|llllll}\n Res.Df & RSS & Df & Sum of Sq & F & Pr(>F)\\\\\n\\hline\n\t 146        & 2703.847   & NA         &      NA    &       NA   &         NA\\\\\n\t 144        & 2545.843   &  2         & 158.004    & 4.468575   & 0.01309676\\\\\n\\end{tabular}\n", 
                        "text/markdown": "\nRes.Df | RSS | Df | Sum of Sq | F | Pr(>F) | \n|---|---|\n| 146        | 2703.847   | NA         |      NA    |       NA   |         NA | \n| 144        | 2545.843   |  2         | 158.004    | 4.468575   | 0.01309676 | \n\n\n", 
                        "text/plain": "  Res.Df RSS      Df Sum of Sq F        Pr(>F)    \n1 146    2703.847 NA      NA         NA         NA\n2 144    2545.843  2 158.004   4.468575 0.01309676"
                    }, 
                    "metadata": {}
                }
            ], 
            "source": "# Comparando modelos\nanova(Vehicules.m2, Vehicules.m1)"
        }, 
        {
            "execution_count": null, 
            "cell_type": "code", 
            "metadata": {}, 
            "outputs": [], 
            "source": "# 144\t2545.843\t2\t158.004\t4.468575\t0.01309676\n\n##################################################################################\n# Al comparar los modelos anteriores se obtiene un estad\u00edstico de prueba F cuyo valor es:  4.468\n# y su valor de probabilidad es: 0.013 \n# Escriba sus respuestas usando tres decimales. \n# Se puede concluir que el MODELO_1 es mejor.\n##################################################################################"
        }, 
        {
            "execution_count": 64, 
            "cell_type": "code", 
            "metadata": {}, 
            "outputs": [
                {
                    "output_type": "display_data", 
                    "data": {
                        "text/plain": "\nCall:\nlm(formula = Y ~ X1)\n\nResiduals:\n     Min       1Q   Median       3Q      Max \n-12.0655  -2.7422  -0.2713   2.9841  14.2067 \n\nCoefficients:\n            Estimate Std. Error t value Pr(>|t|)    \n(Intercept) 49.87064    1.40312   35.54   <2e-16 ***\nX1          -0.23771    0.01523  -15.61   <2e-16 ***\n---\nSignif. codes:  0 \u2018***\u2019 0.001 \u2018**\u2019 0.01 \u2018*\u2019 0.05 \u2018.\u2019 0.1 \u2018 \u2019 1\n\nResidual standard error: 4.544 on 148 degrees of freedom\nMultiple R-squared:  0.6221,\tAdjusted R-squared:  0.6196 \nF-statistic: 243.7 on 1 and 148 DF,  p-value: < 2.2e-16\n"
                    }, 
                    "metadata": {}
                }
            ], 
            "source": "summary(Vehicules.m3)"
        }, 
        {
            "execution_count": null, 
            "cell_type": "code", 
            "metadata": {}, 
            "outputs": [], 
            "source": "# Multiple R-squared:  0.6221,\tAdjusted R-squared:  0.6196 \n\n##################################################################################\n# El coeficiente de determinaci\u00f3n del modelo 3 es: 0.622  %. \n# Escriba su respuesta con dos decimales y en porcentaje.\n##################################################################################"
        }, 
        {
            "execution_count": 65, 
            "cell_type": "code", 
            "metadata": {}, 
            "outputs": [
                {
                    "output_type": "display_data", 
                    "data": {
                        "text/html": "<table>\n<thead><tr><th scope=col>Res.Df</th><th scope=col>RSS</th><th scope=col>Df</th><th scope=col>Sum of Sq</th><th scope=col>F</th><th scope=col>Pr(&gt;F)</th></tr></thead>\n<tbody>\n\t<tr><td>148         </td><td>3055.827    </td><td>NA          </td><td>      NA    </td><td>      NA    </td><td>          NA</td></tr>\n\t<tr><td>144         </td><td>2545.843    </td><td> 4          </td><td>509.9841    </td><td>7.211532    </td><td>2.541453e-05</td></tr>\n</tbody>\n</table>\n", 
                        "text/latex": "\\begin{tabular}{r|llllll}\n Res.Df & RSS & Df & Sum of Sq & F & Pr(>F)\\\\\n\\hline\n\t 148          & 3055.827     & NA           &       NA     &       NA     &           NA\\\\\n\t 144          & 2545.843     &  4           & 509.9841     & 7.211532     & 2.541453e-05\\\\\n\\end{tabular}\n", 
                        "text/markdown": "\nRes.Df | RSS | Df | Sum of Sq | F | Pr(>F) | \n|---|---|\n| 148          | 3055.827     | NA           |       NA     |       NA     |           NA | \n| 144          | 2545.843     |  4           | 509.9841     | 7.211532     | 2.541453e-05 | \n\n\n", 
                        "text/plain": "  Res.Df RSS      Df Sum of Sq F        Pr(>F)      \n1 148    3055.827 NA       NA        NA           NA\n2 144    2545.843  4 509.9841  7.211532 2.541453e-05"
                    }, 
                    "metadata": {}
                }
            ], 
            "source": "# Comparando modelos\nanova(Vehicules.m3, Vehicules.m1)"
        }, 
        {
            "execution_count": null, 
            "cell_type": "code", 
            "metadata": {}, 
            "outputs": [], 
            "source": "##################################################################################\n# Al comparar el modelo 3 con el mejor modelo identificado previamente se obtiene\n# un estad\u00edstico de prueba F cuyo valor es: 7.211 \n# y su valor de probabilidad es:  2.541 e-05. \n# Escriba sus respuestas usando tres decimales. \n# Se puede concluir que el modelo 3  NO_ES_MEJOR .\n##################################################################################"
        }
    ], 
    "metadata": {
        "kernelspec": {
            "display_name": "R", 
            "name": "r", 
            "language": "R"
        }, 
        "language_info": {
            "mimetype": "text/x-r-source", 
            "version": "3.4.2", 
            "name": "R", 
            "pygments_lexer": "r", 
            "file_extension": ".r", 
            "codemirror_mode": "r"
        }
    }, 
    "nbformat": 4
}