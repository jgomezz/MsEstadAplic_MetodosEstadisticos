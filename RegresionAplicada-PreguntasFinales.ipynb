{
    "nbformat_minor": 1, 
    "cells": [
        {
            "execution_count": 1, 
            "cell_type": "code", 
            "metadata": {}, 
            "outputs": [
                {
                    "output_type": "display_data", 
                    "data": {
                        "text/html": "<table>\n<thead><tr><th scope=col>Precio</th><th scope=col>Area</th><th scope=col>Distancia</th><th scope=col>Antiguedad</th></tr></thead>\n<tbody>\n\t<tr><td>48 </td><td> 75</td><td>0.1</td><td>12 </td></tr>\n\t<tr><td>50 </td><td> 85</td><td>8.0</td><td>10 </td></tr>\n\t<tr><td>55 </td><td> 85</td><td>2.0</td><td> 8 </td></tr>\n\t<tr><td>62 </td><td> 90</td><td>7.0</td><td> 8 </td></tr>\n\t<tr><td>70 </td><td> 95</td><td>5.0</td><td>10 </td></tr>\n\t<tr><td>75 </td><td>100</td><td>8.0</td><td> 9 </td></tr>\n</tbody>\n</table>\n", 
                        "text/latex": "\\begin{tabular}{r|llll}\n Precio & Area & Distancia & Antiguedad\\\\\n\\hline\n\t 48  &  75 & 0.1 & 12 \\\\\n\t 50  &  85 & 8.0 & 10 \\\\\n\t 55  &  85 & 2.0 &  8 \\\\\n\t 62  &  90 & 7.0 &  8 \\\\\n\t 70  &  95 & 5.0 & 10 \\\\\n\t 75  & 100 & 8.0 &  9 \\\\\n\\end{tabular}\n", 
                        "text/markdown": "\nPrecio | Area | Distancia | Antiguedad | \n|---|---|---|---|---|---|\n| 48  |  75 | 0.1 | 12  | \n| 50  |  85 | 8.0 | 10  | \n| 55  |  85 | 2.0 |  8  | \n| 62  |  90 | 7.0 |  8  | \n| 70  |  95 | 5.0 | 10  | \n| 75  | 100 | 8.0 |  9  | \n\n\n", 
                        "text/plain": "  Precio Area Distancia Antiguedad\n1 48      75  0.1       12        \n2 50      85  8.0       10        \n3 55      85  2.0        8        \n4 62      90  7.0        8        \n5 70      95  5.0       10        \n6 75     100  8.0        9        "
                    }, 
                    "metadata": {}
                }
            ], 
            "source": "##################################################################################\n#                                   Pregunta 1                                   #\n##################################################################################\n# La empresa inmobiliaria ALFARO SOLANO tiene inter\u00e9s en realizar un estudio de los precios de \n# las viviendas que posee en la urbanizaci\u00f3n \u201cEl Sol de la Molina\u201d, donde existe un solo centro \n# comercial. La empresa ha decidido incluir en el an\u00e1lisis las siguientes variables: Y = Precio \n# de la vivienda (miles de d\u00f3lares), X1 = Area construida de la vivienda (metros cuadrados), X2 = Distancia \n# al centro comercial (cientos de metros) y X3 = Antiguedad de la vivienda (a\u00f1os). Los resultados obtenidos \n# en 21 viviendas elegidas al azar se encuentran en el archivo AlfaroSolano.txt del aula virtual del curso.\n\nInmobiliaria.data <- read.table(file = \"https://tarwi.lamolina.edu.pe/~clopez/Regresion/Alfaro_Solano.txt\", header = T)\nhead(Inmobiliaria.data)"
        }, 
        {
            "execution_count": 3, 
            "cell_type": "code", 
            "metadata": {}, 
            "outputs": [
                {
                    "output_type": "display_data", 
                    "data": {
                        "text/plain": "\nCall:\nlm(formula = Precio ~ Area + Distancia + Antiguedad, data = Inmobiliaria.data)\n\nResiduals:\n    Min      1Q  Median      3Q     Max \n-23.508  -8.654  -3.437  12.259  22.765 \n\nCoefficients:\n            Estimate Std. Error t value Pr(>|t|)    \n(Intercept) 75.72933   16.76935   4.516 0.000305 ***\nArea         0.28469    0.03317   8.582 1.38e-07 ***\nDistancia    0.91821    1.33976   0.685 0.502359    \nAntiguedad  -3.37660    1.49462  -2.259 0.037299 *  \n---\nSignif. codes:  0 \u2018***\u2019 0.001 \u2018**\u2019 0.01 \u2018*\u2019 0.05 \u2018.\u2019 0.1 \u2018 \u2019 1\n\nResidual standard error: 15.17 on 17 degrees of freedom\nMultiple R-squared:  0.9307,\tAdjusted R-squared:  0.9185 \nF-statistic: 76.16 on 3 and 17 DF,  p-value: 4.63e-10\n"
                    }, 
                    "metadata": {}
                }
            ], 
            "source": "Inmobiliaria.m1 <- lm(Precio ~ Area + Distancia + Antiguedad, data=Inmobiliaria.data )\nsummary(Inmobiliaria.m1)"
        }, 
        {
            "execution_count": 4, 
            "cell_type": "code", 
            "metadata": {}, 
            "outputs": [], 
            "source": "# F-statistic: 76.16 on 3 and 17 DF,  p-value: 4.63e-10\n\n##################################################################################\n#  El estad\u00edstico de prueba para el proceso de validaci\u00f3n del modelo es:   76.16\n#  y su valor de probabilidad es:  4.63e-10 \n#  por lo que se SE RECHAZA LA HIPOTESIS NULA\n#  por lo que se puede concluir que el modelo de regresi\u00f3n lineal  ES APROPIADO\n##################################################################################\n"
        }, 
        {
            "execution_count": 5, 
            "cell_type": "code", 
            "metadata": {}, 
            "outputs": [
                {
                    "output_type": "display_data", 
                    "data": {
                        "text/plain": "\nCall:\nlm(formula = Precio ~ Area + Distancia + Antiguedad, data = Inmobiliaria.data)\n\nResiduals:\n    Min      1Q  Median      3Q     Max \n-23.508  -8.654  -3.437  12.259  22.765 \n\nCoefficients:\n            Estimate Std. Error t value Pr(>|t|)    \n(Intercept) 75.72933   16.76935   4.516 0.000305 ***\nArea         0.28469    0.03317   8.582 1.38e-07 ***\nDistancia    0.91821    1.33976   0.685 0.502359    \nAntiguedad  -3.37660    1.49462  -2.259 0.037299 *  \n---\nSignif. codes:  0 \u2018***\u2019 0.001 \u2018**\u2019 0.01 \u2018*\u2019 0.05 \u2018.\u2019 0.1 \u2018 \u2019 1\n\nResidual standard error: 15.17 on 17 degrees of freedom\nMultiple R-squared:  0.9307,\tAdjusted R-squared:  0.9185 \nF-statistic: 76.16 on 3 and 17 DF,  p-value: 4.63e-10\n"
                    }, 
                    "metadata": {}
                }
            ], 
            "source": "summary(Inmobiliaria.m1)"
        }, 
        {
            "execution_count": null, 
            "cell_type": "code", 
            "metadata": {}, 
            "outputs": [], 
            "source": "# Coefficients:\n#             Estimate Std. Error t value Pr(>|t|)    \n# (Intercept) 75.72933   16.76935   4.516 0.000305 ***\n# Area         0.28469    0.03317   8.582 1.38e-07 ***\n# Distancia    0.91821    1.33976   0.685 0.502359     --> MENOS IMPORTANTE\n# Antiguedad  -3.37660    1.49462  -2.259 0.037299 *\n\n##################################################################################\n# Considerando las pruebas individuales la variable predictora menos importante es DISTANCIA\n# con un estad\u00edstico de prueba de: 0.685\n# y un valor de probabilidad de: 0.502   \n# por lo que se debe : ELIMINAR\n# del modelo de regresi\u00f3n. Escriba sus respuestas con tres decimales.\n##################################################################################"
        }, 
        {
            "execution_count": 8, 
            "cell_type": "code", 
            "metadata": {
                "scrolled": true
            }, 
            "outputs": [
                {
                    "output_type": "stream", 
                    "name": "stderr", 
                    "text": "Updating HTML index of packages in '.Library'\nMaking 'packages.html' ... done\nLoading required package: car\n"
                }
            ], 
            "source": "# Carga de librerias para el calculo de ajuste\ninstall.packages(\"alr3\")\nlibrary(\"alr3\")"
        }, 
        {
            "execution_count": 9, 
            "cell_type": "code", 
            "metadata": {}, 
            "outputs": [
                {
                    "output_type": "display_data", 
                    "data": {
                        "text/html": "<table>\n<thead><tr><th></th><th scope=col>Df</th><th scope=col>Sum Sq</th><th scope=col>Mean Sq</th><th scope=col>F value</th><th scope=col>Pr(&gt;F)</th></tr></thead>\n<tbody>\n\t<tr><th scope=row>Area</th><td> 1        </td><td>51368.702 </td><td>51368.7015</td><td>607.913627</td><td>0.02580603</td></tr>\n\t<tr><th scope=row>Antiguedad</th><td> 1        </td><td> 1102.662 </td><td> 1102.6616</td><td> 13.049250</td><td>0.17192760</td></tr>\n\t<tr><th scope=row>Residuals</th><td>18        </td><td> 4020.446 </td><td>  223.3581</td><td>        NA</td><td>        NA</td></tr>\n\t<tr><th scope=row> Lack of fit</th><td>17        </td><td> 3935.946 </td><td>  231.5263</td><td>  2.739956</td><td>0.44626331</td></tr>\n\t<tr><th scope=row> Pure Error</th><td> 1        </td><td>   84.500 </td><td>   84.5000</td><td>        NA</td><td>        NA</td></tr>\n</tbody>\n</table>\n", 
                        "text/latex": "\\begin{tabular}{r|lllll}\n  & Df & Sum Sq & Mean Sq & F value & Pr(>F)\\\\\n\\hline\n\tArea &  1         & 51368.702  & 51368.7015 & 607.913627 & 0.02580603\\\\\n\tAntiguedad &  1         &  1102.662  &  1102.6616 &  13.049250 & 0.17192760\\\\\n\tResiduals & 18         &  4020.446  &   223.3581 &         NA &         NA\\\\\n\t Lack of fit & 17         &  3935.946  &   231.5263 &   2.739956 & 0.44626331\\\\\n\t Pure Error &  1         &    84.500  &    84.5000 &         NA &         NA\\\\\n\\end{tabular}\n", 
                        "text/markdown": "\n| <!--/--> | Df | Sum Sq | Mean Sq | F value | Pr(>F) | \n|---|---|---|---|---|\n| Area |  1         | 51368.702  | 51368.7015 | 607.913627 | 0.02580603 | \n| Antiguedad |  1         |  1102.662  |  1102.6616 |  13.049250 | 0.17192760 | \n| Residuals | 18         |  4020.446  |   223.3581 |         NA |         NA | \n|  Lack of fit | 17         |  3935.946  |   231.5263 |   2.739956 | 0.44626331 | \n|  Pure Error |  1         |    84.500  |    84.5000 |         NA |         NA | \n\n\n", 
                        "text/plain": "             Df Sum Sq    Mean Sq    F value    Pr(>F)    \nArea          1 51368.702 51368.7015 607.913627 0.02580603\nAntiguedad    1  1102.662  1102.6616  13.049250 0.17192760\nResiduals    18  4020.446   223.3581         NA         NA\n Lack of fit 17  3935.946   231.5263   2.739956 0.44626331\n Pure Error   1    84.500    84.5000         NA         NA"
                    }, 
                    "metadata": {}
                }
            ], 
            "source": "Inmobiliaria.m2 <- lm(Precio ~ Area + Antiguedad, data =Inmobiliaria.data )\npureErrorAnova(Inmobiliaria.m2)"
        }, 
        {
            "execution_count": null, 
            "cell_type": "code", 
            "metadata": {}, 
            "outputs": [], 
            "source": "#  Lack of fit\t17\t3935.946\t231.5263\t2.739956\t0.44626331\n\n\n# 1) \n#    H0 : El modelo no presenta falta de ajuste ( el modelo es apropiado)\n#    H1 : El modelo presenta falta de ajuste ( el modelo no es apropiado)\n# \n# 2) \n#    alfa = 0.05\n# \n# 3)   \n#    F  = 2.739956\n#    p_valor  = 0.44626331  > alfa = 0.05\n# \n# 4)\n#    No se rechaza H0\n# \n# 5)\n#    Conclusi\u00f3n: el modelo es apropiado\n#\n\n##################################################################################\n# Hallar el modelo de regresi\u00f3n usando las variables predictoras importantes al 5%. \n# El estad\u00edstico para la prueba de falta de ajuste es:   2.740\n# y su valor de probabilidad es:   0.446\n# por lo que se considera que el modelo anterior  NO PRESENTA problemas de falta de ajuste. \n# Escriba sus respuestas con tres decimales.\n##################################################################################"
        }, 
        {
            "execution_count": null, 
            "cell_type": "code", 
            "metadata": {}, 
            "outputs": [], 
            "source": "##################################################################################\n#                                   Pregunta 2                                   #\n##################################################################################\n# Se ha recopilado informaci\u00f3n relacionada con 150 modelos de veh\u00edculos salidos al \n# mercado americano entre los a\u00f1os 1978 y 1982. Las variables consideradas son: \n# Y = Consumo (en millas por gal\u00f3n), X1 = Potencia (en caballos de vapor), \n# X2 = Precio (en miles de d\u00f3lares), X3 = Peso (en miles de kilogramos) y \n# X4 = Origen (1 = Americanos, 2 = Europeos y 3 = Japoneses). Los datos se encuentran \n# en el archivoVehiculos.txt. Considere los siguientes modelos usando solamente \n# las variables independientes X1 = Potencia y X4 = Origen:\n# \n#    Modelo 1: Regresi\u00f3n m\u00e1s general con intercepto com\u00fan\n#    Modelo 2: Regresiones paralelas con intercepto com\u00fan\n#    Modelo 3: Regresiones coincidentes con intercepto com\u00fan\n#\n\nInmobiliaria.data <- read.table(file = \"https://tarwi.lamolina.edu.pe/~clopez/Regresion/Alfaro_Solano.txt\", header = T)\n\n\n"
        }
    ], 
    "metadata": {
        "kernelspec": {
            "display_name": "R", 
            "name": "r", 
            "language": "R"
        }, 
        "language_info": {
            "mimetype": "text/x-r-source", 
            "version": "3.4.2", 
            "name": "R", 
            "pygments_lexer": "r", 
            "file_extension": ".r", 
            "codemirror_mode": "r"
        }
    }, 
    "nbformat": 4
}