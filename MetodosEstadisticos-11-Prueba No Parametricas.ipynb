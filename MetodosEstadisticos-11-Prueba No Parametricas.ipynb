{
    "nbformat_minor": 1, 
    "cells": [
        {
            "execution_count": 3, 
            "cell_type": "code", 
            "metadata": {}, 
            "outputs": [
                {
                    "output_type": "display_data", 
                    "data": {
                        "text/html": "<table>\n<thead><tr><th scope=col>Antes</th><th scope=col>Despu\u00e9s</th></tr></thead>\n<tbody>\n\t<tr><td>1</td><td>1</td></tr>\n\t<tr><td>1</td><td>1</td></tr>\n\t<tr><td>1</td><td>1</td></tr>\n\t<tr><td>1</td><td>1</td></tr>\n\t<tr><td>2</td><td>1</td></tr>\n\t<tr><td>2</td><td>1</td></tr>\n</tbody>\n</table>\n", 
                        "text/latex": "\\begin{tabular}{r|ll}\n Antes & Despu\u00e9s\\\\\n\\hline\n\t 1 & 1\\\\\n\t 1 & 1\\\\\n\t 1 & 1\\\\\n\t 1 & 1\\\\\n\t 2 & 1\\\\\n\t 2 & 1\\\\\n\\end{tabular}\n", 
                        "text/markdown": "\nAntes | Despu\u00e9s | \n|---|---|---|---|---|---|\n| 1 | 1 | \n| 1 | 1 | \n| 1 | 1 | \n| 1 | 1 | \n| 2 | 1 | \n| 2 | 1 | \n\n\n", 
                        "text/plain": "  Antes Despu\u00e9s\n1 1     1      \n2 1     1      \n3 1     1      \n4 1     1      \n5 2     1      \n6 2     1      "
                    }, 
                    "metadata": {}
                }
            ], 
            "source": "###############################################################################\n##  Curso : Metodos Estadistico\n##  Sesion : 11\n##  Tema : Pruebas No Parametricas\n###############################################################################\n\n# Define path file\nFILE_URL <- \"https://raw.githubusercontent.com/jgomezz/MsEstadAplic_MetodosEstadisticos/master/data/metodos_estadisticos/semana-11/ANSI/Mc_Nemar.csv\"\nFILE_ENCONDING <- \"ISO-8859-1\"\n\n# Read file\nDepre.data <- read.csv(FILE_URL, fileEncoding = FILE_ENCONDING)\n#\nhead(Depre.data)"
        }, 
        {
            "execution_count": 5, 
            "cell_type": "code", 
            "metadata": {}, 
            "outputs": [
                {
                    "output_type": "display_data", 
                    "data": {
                        "text/plain": "\n\tMcNemar's Chi-squared test with continuity correction\n\ndata:  Depre.data[, \"Antes\"] and Depre.data[, \"Despu\u00e9s\"]\nMcNemar's chi-squared = 4.0833, df = 1, p-value = 0.04331\n"
                    }, 
                    "metadata": {}
                }
            ], 
            "source": "###############################################################################\n#                        Prueba de Mc Nemar\n###############################################################################\nmcnemar.test(Depre.data[,\"Antes\"], Depre.data[,\"Despu\u00e9s\"])\n\n#  EL valor p-value = 0.04331 no es ajustado, no es el correcto"
        }, 
        {
            "execution_count": 6, 
            "cell_type": "code", 
            "metadata": {}, 
            "outputs": [
                {
                    "output_type": "stream", 
                    "name": "stderr", 
                    "text": "also installing the dependencies \u2018exactci\u2019, \u2018ssanv\u2019\n\nUpdating HTML index of packages in '.Library'\nMaking 'packages.html' ... done\nLoading required package: exactci\nLoading required package: ssanv\n"
                }, 
                {
                    "output_type": "display_data", 
                    "data": {
                        "text/plain": "\n\tExact McNemar test (with central confidence intervals)\n\ndata:  Depre.data[, \"Antes\"] and Depre.data[, \"Despu\u00e9s\"]\nb = 2, c = 10, p-value = 0.03857\nalternative hypothesis: true odds ratio is not equal to 1\n95 percent confidence interval:\n 0.02130704 0.93850199\nsample estimates:\nodds ratio \n       0.2 \n"
                    }, 
                    "metadata": {}
                }
            ], 
            "source": "# cargo las librerias\ninstall.packages(\"exact2x2\")\nlibrary(exact2x2)\n\n# Calculo la prueba de Mc Nemar corregida\nmcnemar.exact(Depre.data[,\"Antes\"], Depre.data[,\"Despu\u00e9s\"])\n"
        }, 
        {
            "execution_count": 8, 
            "cell_type": "code", 
            "metadata": {}, 
            "outputs": [], 
            "source": "# EL p-value = 0.03857 es el correcto\n#\n# Prueba de Hipotesis\n#\n#    1)  \n#      H0:  El tratamiento no ha sido efectivo\n#      H1 : EL tratamiento ha sido efectivo\n#\n#    2) alfa = 0.05\n#\n#    3) p-valor = 0.03857 < alfa , se rechaza H0\n#\n#    4) Conclusi\u00f3n: A un alfa = 0.05 , se puede afirmar que la frecuencia de depresi\u00f3n ha variado"
        }, 
        {
            "execution_count": 7, 
            "cell_type": "code", 
            "metadata": {}, 
            "outputs": [
                {
                    "output_type": "display_data", 
                    "data": {
                        "text/html": "<table>\n<thead><tr><th scope=col>Distrito</th><th scope=col>G\u00e9nero</th><th scope=col>Pago.2014</th><th scope=col>Pago.2015</th><th scope=col>Robos</th><th scope=col>Atenci\u00f3n</th><th scope=col>Opini\u00f3n</th></tr></thead>\n<tbody>\n\t<tr><td>Comas    </td><td>Femenino </td><td>148.0    </td><td>167.3    </td><td> 8       </td><td>46.2     </td><td>Muy Buena</td></tr>\n\t<tr><td>Comas    </td><td>Femenino </td><td>159.4    </td><td>163.8    </td><td> 2       </td><td>33.3     </td><td>Excelente</td></tr>\n\t<tr><td>Comas    </td><td>Femenino </td><td>151.4    </td><td>158.6    </td><td> 8       </td><td>13.7     </td><td>P\u00e9sima   </td></tr>\n\t<tr><td>Comas    </td><td>Masculino</td><td>145.1    </td><td>160.1    </td><td> 5       </td><td> 6.0     </td><td>Excelente</td></tr>\n\t<tr><td>Comas    </td><td>Femenino </td><td>147.0    </td><td>158.4    </td><td> 8       </td><td>16.1     </td><td>P\u00e9sima   </td></tr>\n\t<tr><td>Comas    </td><td>Masculino</td><td>145.2    </td><td>161.6    </td><td>12       </td><td>18.3     </td><td>Regular  </td></tr>\n</tbody>\n</table>\n", 
                        "text/latex": "\\begin{tabular}{r|lllllll}\n Distrito & G\u00e9nero & Pago.2014 & Pago.2015 & Robos & Atenci\u00f3n & Opini\u00f3n\\\\\n\\hline\n\t Comas     & Femenino  & 148.0     & 167.3     &  8        & 46.2      & Muy Buena\\\\\n\t Comas     & Femenino  & 159.4     & 163.8     &  2        & 33.3      & Excelente\\\\\n\t Comas     & Femenino  & 151.4     & 158.6     &  8        & 13.7      & P\u00e9sima   \\\\\n\t Comas     & Masculino & 145.1     & 160.1     &  5        &  6.0      & Excelente\\\\\n\t Comas     & Femenino  & 147.0     & 158.4     &  8        & 16.1      & P\u00e9sima   \\\\\n\t Comas     & Masculino & 145.2     & 161.6     & 12        & 18.3      & Regular  \\\\\n\\end{tabular}\n", 
                        "text/markdown": "\nDistrito | G\u00e9nero | Pago.2014 | Pago.2015 | Robos | Atenci\u00f3n | Opini\u00f3n | \n|---|---|---|---|---|---|\n| Comas     | Femenino  | 148.0     | 167.3     |  8        | 46.2      | Muy Buena | \n| Comas     | Femenino  | 159.4     | 163.8     |  2        | 33.3      | Excelente | \n| Comas     | Femenino  | 151.4     | 158.6     |  8        | 13.7      | P\u00e9sima    | \n| Comas     | Masculino | 145.1     | 160.1     |  5        |  6.0      | Excelente | \n| Comas     | Femenino  | 147.0     | 158.4     |  8        | 16.1      | P\u00e9sima    | \n| Comas     | Masculino | 145.2     | 161.6     | 12        | 18.3      | Regular   | \n\n\n", 
                        "text/plain": "  Distrito G\u00e9nero    Pago.2014 Pago.2015 Robos Atenci\u00f3n Opini\u00f3n  \n1 Comas    Femenino  148.0     167.3      8    46.2     Muy Buena\n2 Comas    Femenino  159.4     163.8      2    33.3     Excelente\n3 Comas    Femenino  151.4     158.6      8    13.7     P\u00e9sima   \n4 Comas    Masculino 145.1     160.1      5     6.0     Excelente\n5 Comas    Femenino  147.0     158.4      8    16.1     P\u00e9sima   \n6 Comas    Masculino 145.2     161.6     12    18.3     Regular  "
                    }, 
                    "metadata": {}
                }
            ], 
            "source": "###############################################################################\n#                        lectura de datos de la Municipalidad\n###############################################################################FILE2_URL <- \"https://raw.githubusercontent.com/jgomezz/MsEstadAplic_MetodosEstadisticos/master/data/metodos_estadisticos/semana-11/ANSI/Caso_D.csv\"\nFILE2_ENCONDING <- \"ISO-8859-1\"\n\n# Read file\nMuni.data <- read.csv(FILE2_URL, fileEncoding = FILE2_ENCONDING)\n#\nhead(Muni.data)"
        }, 
        {
            "execution_count": 10, 
            "cell_type": "code", 
            "metadata": {}, 
            "outputs": [
                {
                    "output_type": "display_data", 
                    "data": {
                        "text/html": "<table>\n<thead><tr><th scope=col>Distrito</th><th scope=col>G\u00e9nero</th><th scope=col>Pago.2014</th><th scope=col>Pago.2015</th><th scope=col>Robos</th><th scope=col>Atenci\u00f3n</th><th scope=col>Opini\u00f3n</th></tr></thead>\n<tbody>\n\t<tr><td>Comas    </td><td>Femenino </td><td>148.0    </td><td>167.3    </td><td> 8       </td><td>46.2     </td><td>Muy Buena</td></tr>\n\t<tr><td>Comas    </td><td>Femenino </td><td>159.4    </td><td>163.8    </td><td> 2       </td><td>33.3     </td><td>Excelente</td></tr>\n\t<tr><td>Comas    </td><td>Femenino </td><td>151.4    </td><td>158.6    </td><td> 8       </td><td>13.7     </td><td>P\u00e9sima   </td></tr>\n\t<tr><td>Comas    </td><td>Masculino</td><td>145.1    </td><td>160.1    </td><td> 5       </td><td> 6.0     </td><td>Excelente</td></tr>\n\t<tr><td>Comas    </td><td>Femenino </td><td>147.0    </td><td>158.4    </td><td> 8       </td><td>16.1     </td><td>P\u00e9sima   </td></tr>\n\t<tr><td>Comas    </td><td>Masculino</td><td>145.2    </td><td>161.6    </td><td>12       </td><td>18.3     </td><td>Regular  </td></tr>\n</tbody>\n</table>\n", 
                        "text/latex": "\\begin{tabular}{r|lllllll}\n Distrito & G\u00e9nero & Pago.2014 & Pago.2015 & Robos & Atenci\u00f3n & Opini\u00f3n\\\\\n\\hline\n\t Comas     & Femenino  & 148.0     & 167.3     &  8        & 46.2      & Muy Buena\\\\\n\t Comas     & Femenino  & 159.4     & 163.8     &  2        & 33.3      & Excelente\\\\\n\t Comas     & Femenino  & 151.4     & 158.6     &  8        & 13.7      & P\u00e9sima   \\\\\n\t Comas     & Masculino & 145.1     & 160.1     &  5        &  6.0      & Excelente\\\\\n\t Comas     & Femenino  & 147.0     & 158.4     &  8        & 16.1      & P\u00e9sima   \\\\\n\t Comas     & Masculino & 145.2     & 161.6     & 12        & 18.3      & Regular  \\\\\n\\end{tabular}\n", 
                        "text/markdown": "\nDistrito | G\u00e9nero | Pago.2014 | Pago.2015 | Robos | Atenci\u00f3n | Opini\u00f3n | \n|---|---|---|---|---|---|\n| Comas     | Femenino  | 148.0     | 167.3     |  8        | 46.2      | Muy Buena | \n| Comas     | Femenino  | 159.4     | 163.8     |  2        | 33.3      | Excelente | \n| Comas     | Femenino  | 151.4     | 158.6     |  8        | 13.7      | P\u00e9sima    | \n| Comas     | Masculino | 145.1     | 160.1     |  5        |  6.0      | Excelente | \n| Comas     | Femenino  | 147.0     | 158.4     |  8        | 16.1      | P\u00e9sima    | \n| Comas     | Masculino | 145.2     | 161.6     | 12        | 18.3      | Regular   | \n\n\n", 
                        "text/plain": "  Distrito G\u00e9nero    Pago.2014 Pago.2015 Robos Atenci\u00f3n Opini\u00f3n  \n1 Comas    Femenino  148.0     167.3      8    46.2     Muy Buena\n2 Comas    Femenino  159.4     163.8      2    33.3     Excelente\n3 Comas    Femenino  151.4     158.6      8    13.7     P\u00e9sima   \n4 Comas    Masculino 145.1     160.1      5     6.0     Excelente\n5 Comas    Femenino  147.0     158.4      8    16.1     P\u00e9sima   \n6 Comas    Masculino 145.2     161.6     12    18.3     Regular  "
                    }, 
                    "metadata": {}
                }
            ], 
            "source": "###############################################################################\n#                        Prueba de Signos\n###############################################################################\n# Solo se aplica para una muestra y muestras pariadas\n\n# Filtro solo la municipalidad de Comas\nComas.muni.data <- subset(Muni.data, Distrito==\"Comas\")\n\nhead(Comas.muni.data)"
        }, 
        {
            "execution_count": 11, 
            "cell_type": "code", 
            "metadata": {}, 
            "outputs": [
                {
                    "output_type": "stream", 
                    "name": "stderr", 
                    "text": "also installing the dependency \u2018e1071\u2019\n\nUpdating HTML index of packages in '.Library'\nMaking 'packages.html' ... done\nLoading required package: lattice\n\nAttaching package: \u2018BSDA\u2019\n\nThe following object is masked from \u2018package:datasets\u2019:\n\n    Orange\n\n"
                }
            ], 
            "source": "# Cargar las librerias para poder usar la Prueba de Signos\ninstall.packages(\"BSDA\")\nlibrary(BSDA)"
        }, 
        {
            "execution_count": 12, 
            "cell_type": "code", 
            "metadata": {}, 
            "outputs": [
                {
                    "output_type": "display_data", 
                    "data": {
                        "text/plain": "\n\tDependent-samples Sign-Test\n\ndata:  Comas.muni.data[, \"Pago.2014\"] and Comas.muni.data[, \"Pago.2015\"]\nS = 9, p-value = 5.614e-06\nalternative hypothesis: true median difference is not equal to 0\n95 percent confidence interval:\n -10.792977  -7.014046\nsample estimates:\nmedian of x-y \n         -9.5 \n\nAchieved and Interpolated Confidence Intervals: \n\n                  Conf.Level  L.E.pt U.E.pt\nLower Achieved CI     0.9351 -10.700 -7.200\nInterpolated CI       0.9500 -10.793 -7.014\nUpper Achieved CI     0.9672 -10.900 -6.800\n"
                    }, 
                    "metadata": {}
                }
            ], 
            "source": "# Hipotesis\n#\n#     1) \n#         HO: Me_2014 = Me_2015    HO: Me = 0\n#         H1: Me_2014 <> Me_2015   H1: Me <> 0\n#    \n#     2)  alfa = 0.05\n#\n#     3)  p-valor = ?\n#\n#     4)  Conclusion ......\n\nSIGN.test(Comas.muni.data[,\"Pago.2014\"], Comas.muni.data[,\"Pago.2015\"], md=0, alternative=\"t\")\n\n# Se calcula que p-value = 5.614e-06"
        }, 
        {
            "execution_count": 13, 
            "cell_type": "code", 
            "metadata": {}, 
            "outputs": [
                {
                    "output_type": "display_data", 
                    "data": {
                        "text/plain": "\n\tDependent-samples Sign-Test\n\ndata:  Comas.muni.data[, \"Pago.2015\"] and Comas.muni.data[, \"Pago.2014\"]\nS = 22, p-value = 0.2399\nalternative hypothesis: true median difference is less than 10\n95 percent confidence interval:\n     -Inf 10.50509\nsample estimates:\nmedian of x-y \n          9.5 \n\nAchieved and Interpolated Confidence Intervals: \n\n                  Conf.Level L.E.pt  U.E.pt\nLower Achieved CI     0.9405   -Inf 10.4000\nInterpolated CI       0.9500   -Inf 10.5051\nUpper Achieved CI     0.9675   -Inf 10.7000\n"
                    }, 
                    "metadata": {}
                }
            ], 
            "source": "SIGN.test(Comas.muni.data[,\"Pago.2015\"], Comas.muni.data[,\"Pago.2014\"], md=10, alternative=\"l\")"
        }, 
        {
            "execution_count": 14, 
            "cell_type": "code", 
            "metadata": {}, 
            "outputs": [
                {
                    "output_type": "stream", 
                    "name": "stderr", 
                    "text": "Updating HTML index of packages in '.Library'\nMaking 'packages.html' ... done\n"
                }
            ], 
            "source": "###############################################################################\n#                        Prueba de Wilcoxon\n###############################################################################\n# Se debe analizar la simetria de la diferencia\n\n# Cargar las librerias para realizar la prueba de simetria\ninstall.packages(\"moments\")\nlibrary(moments)"
        }, 
        {
            "execution_count": 15, 
            "cell_type": "code", 
            "metadata": {}, 
            "outputs": [
                {
                    "output_type": "display_data", 
                    "data": {
                        "text/html": "0.224686046539319", 
                        "text/latex": "0.224686046539319", 
                        "text/markdown": "0.224686046539319", 
                        "text/plain": "[1] 0.224686"
                    }, 
                    "metadata": {}
                }
            ], 
            "source": "# Calculo del coeficiente de simetria\nskewness(Comas.muni.data[,\"Pago.2014\"]-Comas.muni.data[,\"Pago.2015\"])"
        }, 
        {
            "execution_count": 16, 
            "cell_type": "code", 
            "metadata": {}, 
            "outputs": [
                {
                    "output_type": "display_data", 
                    "data": {
                        "image/png": "[encoded data removed]", 
                        "text/plain": "Plot with title \u201cHistogram of Comas.muni.data[, \"Pago.2014\"] - Comas.muni.data[, \"Pago.2015\"]\u201d"
                    }, 
                    "metadata": {}
                }
            ], 
            "source": "# EL valor 0.224686046539319 es cercano a cero, nos haria pensar que es simetrico\n# nos apoyamos en un gr\u00e1fico de histograma para ver si es simetr\u00edco\nhist(Comas.muni.data[,\"Pago.2014\"]-Comas.muni.data[,\"Pago.2015\"])"
        }, 
        {
            "execution_count": null, 
            "cell_type": "code", 
            "metadata": {}, 
            "outputs": [], 
            "source": ""
        }
    ], 
    "metadata": {
        "kernelspec": {
            "display_name": "R", 
            "name": "r", 
            "language": "R"
        }, 
        "language_info": {
            "mimetype": "text/x-r-source", 
            "version": "3.4.2", 
            "name": "R", 
            "pygments_lexer": "r", 
            "file_extension": ".r", 
            "codemirror_mode": "r"
        }
    }, 
    "nbformat": 4
}