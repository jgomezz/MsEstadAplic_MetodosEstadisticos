{
    "nbformat_minor": 1, 
    "cells": [
        {
            "execution_count": 1, 
            "cell_type": "code", 
            "metadata": {}, 
            "outputs": [
                {
                    "output_type": "display_data", 
                    "data": {
                        "text/html": "<table>\n<thead><tr><th scope=col>Tarjeta</th><th scope=col>G\u00e9nero</th><th scope=col>DEnero</th><th scope=col>DMarzo</th><th scope=col>DMayo</th><th scope=col>Retiros</th><th scope=col>Pagos</th><th scope=col>Cat2015</th><th scope=col>Cat2016</th><th scope=col>Edad</th><th scope=col>Ingreso</th><th scope=col>Opini\u00f3n1</th><th scope=col>Opini\u00f3n2</th><th scope=col>Uso</th></tr></thead>\n<tbody>\n\t<tr><td>Dorada   </td><td>Femenino </td><td>2.70     </td><td>3.20     </td><td>4.51     </td><td>1        </td><td>3        </td><td>A1       </td><td>A2       </td><td>58       </td><td>3.9      </td><td>1        </td><td>3        </td><td>Auto     </td></tr>\n\t<tr><td>Cl\u00e1sica  </td><td>Femenino </td><td>2.74     </td><td>3.14     </td><td>4.17     </td><td>3        </td><td>0        </td><td>A2       </td><td>A2       </td><td>61       </td><td>4.7      </td><td>1        </td><td>3        </td><td>Vivienda </td></tr>\n\t<tr><td>Cl\u00e1sica  </td><td>Femenino </td><td>3.35     </td><td>2.89     </td><td>1.79     </td><td>5        </td><td>4        </td><td>A1       </td><td>A1       </td><td>61       </td><td>3.2      </td><td>1        </td><td>3        </td><td>Vivienda </td></tr>\n\t<tr><td>Platino  </td><td>Masculino</td><td>2.03     </td><td>3.34     </td><td>3.01     </td><td>5        </td><td>4        </td><td>A2       </td><td>A2       </td><td>44       </td><td>3.2      </td><td>2        </td><td>5        </td><td>Auto     </td></tr>\n\t<tr><td>Cl\u00e1sica  </td><td>Femenino </td><td>2.75     </td><td>2.48     </td><td>3.37     </td><td>4        </td><td>0        </td><td>A1       </td><td>A2       </td><td>31       </td><td>3.7      </td><td>5        </td><td>5        </td><td>Vivienda </td></tr>\n\t<tr><td>Dorada   </td><td>Masculino</td><td>2.69     </td><td>3.15     </td><td>4.16     </td><td>4        </td><td>3        </td><td>A1       </td><td>A2       </td><td>34       </td><td>3.0      </td><td>2        </td><td>3        </td><td>Vivienda </td></tr>\n</tbody>\n</table>\n", 
                        "text/latex": "\\begin{tabular}{r|llllllllllllll}\n Tarjeta & G\u00e9nero & DEnero & DMarzo & DMayo & Retiros & Pagos & Cat2015 & Cat2016 & Edad & Ingreso & Opini\u00f3n1 & Opini\u00f3n2 & Uso\\\\\n\\hline\n\t Dorada    & Femenino  & 2.70      & 3.20      & 4.51      & 1         & 3         & A1        & A2        & 58        & 3.9       & 1         & 3         & Auto     \\\\\n\t Cl\u00e1sica   & Femenino  & 2.74      & 3.14      & 4.17      & 3         & 0         & A2        & A2        & 61        & 4.7       & 1         & 3         & Vivienda \\\\\n\t Cl\u00e1sica   & Femenino  & 3.35      & 2.89      & 1.79      & 5         & 4         & A1        & A1        & 61        & 3.2       & 1         & 3         & Vivienda \\\\\n\t Platino   & Masculino & 2.03      & 3.34      & 3.01      & 5         & 4         & A2        & A2        & 44        & 3.2       & 2         & 5         & Auto     \\\\\n\t Cl\u00e1sica   & Femenino  & 2.75      & 2.48      & 3.37      & 4         & 0         & A1        & A2        & 31        & 3.7       & 5         & 5         & Vivienda \\\\\n\t Dorada    & Masculino & 2.69      & 3.15      & 4.16      & 4         & 3         & A1        & A2        & 34        & 3.0       & 2         & 3         & Vivienda \\\\\n\\end{tabular}\n", 
                        "text/markdown": "\nTarjeta | G\u00e9nero | DEnero | DMarzo | DMayo | Retiros | Pagos | Cat2015 | Cat2016 | Edad | Ingreso | Opini\u00f3n1 | Opini\u00f3n2 | Uso | \n|---|---|---|---|---|---|\n| Dorada    | Femenino  | 2.70      | 3.20      | 4.51      | 1         | 3         | A1        | A2        | 58        | 3.9       | 1         | 3         | Auto      | \n| Cl\u00e1sica   | Femenino  | 2.74      | 3.14      | 4.17      | 3         | 0         | A2        | A2        | 61        | 4.7       | 1         | 3         | Vivienda  | \n| Cl\u00e1sica   | Femenino  | 3.35      | 2.89      | 1.79      | 5         | 4         | A1        | A1        | 61        | 3.2       | 1         | 3         | Vivienda  | \n| Platino   | Masculino | 2.03      | 3.34      | 3.01      | 5         | 4         | A2        | A2        | 44        | 3.2       | 2         | 5         | Auto      | \n| Cl\u00e1sica   | Femenino  | 2.75      | 2.48      | 3.37      | 4         | 0         | A1        | A2        | 31        | 3.7       | 5         | 5         | Vivienda  | \n| Dorada    | Masculino | 2.69      | 3.15      | 4.16      | 4         | 3         | A1        | A2        | 34        | 3.0       | 2         | 3         | Vivienda  | \n\n\n", 
                        "text/plain": "  Tarjeta G\u00e9nero    DEnero DMarzo DMayo Retiros Pagos Cat2015 Cat2016 Edad\n1 Dorada  Femenino  2.70   3.20   4.51  1       3     A1      A2      58  \n2 Cl\u00e1sica Femenino  2.74   3.14   4.17  3       0     A2      A2      61  \n3 Cl\u00e1sica Femenino  3.35   2.89   1.79  5       4     A1      A1      61  \n4 Platino Masculino 2.03   3.34   3.01  5       4     A2      A2      44  \n5 Cl\u00e1sica Femenino  2.75   2.48   3.37  4       0     A1      A2      31  \n6 Dorada  Masculino 2.69   3.15   4.16  4       3     A1      A2      34  \n  Ingreso Opini\u00f3n1 Opini\u00f3n2 Uso     \n1 3.9     1        3        Auto    \n2 4.7     1        3        Vivienda\n3 3.2     1        3        Vivienda\n4 3.2     2        5        Auto    \n5 3.7     5        5        Vivienda\n6 3.0     2        3        Vivienda"
                    }, 
                    "metadata": {}
                }
            ], 
            "source": "################################################ \n## Curso : Metodos Estadisticos\n## Semana : 13\n## Tema : Analisis de Datos Categoricos\n#########################################\n\n# Define path file\nFILE_URL <-  \"https://raw.githubusercontent.com/jgomezz/MsEstadAplic_MetodosEstadisticos/master/data/metodos_estadisticos/semana-13/Caso_E.csv\"\n\nFILE_ENCONDING <- \"ISO-8859-1\"\n\n# Read file\nTarjeta.data <- read.csv(FILE_URL, fileEncoding = FILE_ENCONDING)\n#\nhead(Tarjeta.data)"
        }, 
        {
            "execution_count": 3, 
            "cell_type": "code", 
            "metadata": {}, 
            "outputs": [
                {
                    "output_type": "display_data", 
                    "data": {
                        "text/html": "<table>\n<thead><tr><th></th><th scope=col>Tarjeta</th><th scope=col>G\u00e9nero</th><th scope=col>DEnero</th><th scope=col>DMarzo</th><th scope=col>DMayo</th><th scope=col>Retiros</th><th scope=col>Pagos</th><th scope=col>Cat2015</th><th scope=col>Cat2016</th><th scope=col>Edad</th><th scope=col>Ingreso</th><th scope=col>Opini\u00f3n1</th><th scope=col>Opini\u00f3n2</th><th scope=col>Uso</th></tr></thead>\n<tbody>\n\t<tr><th scope=row>1</th><td>Dorada   </td><td>Femenino </td><td>2.70     </td><td>3.20     </td><td>4.51     </td><td>1        </td><td>3        </td><td>A1       </td><td>A2       </td><td>58       </td><td>3.9      </td><td>1        </td><td>3        </td><td>Auto     </td></tr>\n\t<tr><th scope=row>6</th><td>Dorada   </td><td>Masculino</td><td>2.69     </td><td>3.15     </td><td>4.16     </td><td>4        </td><td>3        </td><td>A1       </td><td>A2       </td><td>34       </td><td>3.0      </td><td>2        </td><td>3        </td><td>Vivienda </td></tr>\n\t<tr><th scope=row>11</th><td>Dorada   </td><td>Femenino </td><td>4.19     </td><td>3.54     </td><td>2.95     </td><td>1        </td><td>2        </td><td>A1       </td><td>A1       </td><td>35       </td><td>3.4      </td><td>5        </td><td>2        </td><td>Otros    </td></tr>\n\t<tr><th scope=row>12</th><td>Dorada   </td><td>Masculino</td><td>3.07     </td><td>2.63     </td><td>2.86     </td><td>1        </td><td>4        </td><td>A2       </td><td>A2       </td><td>62       </td><td>3.8      </td><td>2        </td><td>3        </td><td>Otros    </td></tr>\n\t<tr><th scope=row>13</th><td>Dorada   </td><td>Femenino </td><td>1.95     </td><td>2.97     </td><td>3.56     </td><td>1        </td><td>1        </td><td>A1       </td><td>A2       </td><td>45       </td><td>4.0      </td><td>4        </td><td>5        </td><td>Otros    </td></tr>\n\t<tr><th scope=row>16</th><td>Dorada   </td><td>Femenino </td><td>4.29     </td><td>3.10     </td><td>1.82     </td><td>2        </td><td>3        </td><td>A2       </td><td>A1       </td><td>52       </td><td>3.7      </td><td>1        </td><td>1        </td><td>Auto     </td></tr>\n</tbody>\n</table>\n", 
                        "text/latex": "\\begin{tabular}{r|llllllllllllll}\n  & Tarjeta & G\u00e9nero & DEnero & DMarzo & DMayo & Retiros & Pagos & Cat2015 & Cat2016 & Edad & Ingreso & Opini\u00f3n1 & Opini\u00f3n2 & Uso\\\\\n\\hline\n\t1 & Dorada    & Femenino  & 2.70      & 3.20      & 4.51      & 1         & 3         & A1        & A2        & 58        & 3.9       & 1         & 3         & Auto     \\\\\n\t6 & Dorada    & Masculino & 2.69      & 3.15      & 4.16      & 4         & 3         & A1        & A2        & 34        & 3.0       & 2         & 3         & Vivienda \\\\\n\t11 & Dorada    & Femenino  & 4.19      & 3.54      & 2.95      & 1         & 2         & A1        & A1        & 35        & 3.4       & 5         & 2         & Otros    \\\\\n\t12 & Dorada    & Masculino & 3.07      & 2.63      & 2.86      & 1         & 4         & A2        & A2        & 62        & 3.8       & 2         & 3         & Otros    \\\\\n\t13 & Dorada    & Femenino  & 1.95      & 2.97      & 3.56      & 1         & 1         & A1        & A2        & 45        & 4.0       & 4         & 5         & Otros    \\\\\n\t16 & Dorada    & Femenino  & 4.29      & 3.10      & 1.82      & 2         & 3         & A2        & A1        & 52        & 3.7       & 1         & 1         & Auto     \\\\\n\\end{tabular}\n", 
                        "text/markdown": "\n| <!--/--> | Tarjeta | G\u00e9nero | DEnero | DMarzo | DMayo | Retiros | Pagos | Cat2015 | Cat2016 | Edad | Ingreso | Opini\u00f3n1 | Opini\u00f3n2 | Uso | \n|---|---|---|---|---|---|\n| 1 | Dorada    | Femenino  | 2.70      | 3.20      | 4.51      | 1         | 3         | A1        | A2        | 58        | 3.9       | 1         | 3         | Auto      | \n| 6 | Dorada    | Masculino | 2.69      | 3.15      | 4.16      | 4         | 3         | A1        | A2        | 34        | 3.0       | 2         | 3         | Vivienda  | \n| 11 | Dorada    | Femenino  | 4.19      | 3.54      | 2.95      | 1         | 2         | A1        | A1        | 35        | 3.4       | 5         | 2         | Otros     | \n| 12 | Dorada    | Masculino | 3.07      | 2.63      | 2.86      | 1         | 4         | A2        | A2        | 62        | 3.8       | 2         | 3         | Otros     | \n| 13 | Dorada    | Femenino  | 1.95      | 2.97      | 3.56      | 1         | 1         | A1        | A2        | 45        | 4.0       | 4         | 5         | Otros     | \n| 16 | Dorada    | Femenino  | 4.29      | 3.10      | 1.82      | 2         | 3         | A2        | A1        | 52        | 3.7       | 1         | 1         | Auto      | \n\n\n", 
                        "text/plain": "   Tarjeta G\u00e9nero    DEnero DMarzo DMayo Retiros Pagos Cat2015 Cat2016 Edad\n1  Dorada  Femenino  2.70   3.20   4.51  1       3     A1      A2      58  \n6  Dorada  Masculino 2.69   3.15   4.16  4       3     A1      A2      34  \n11 Dorada  Femenino  4.19   3.54   2.95  1       2     A1      A1      35  \n12 Dorada  Masculino 3.07   2.63   2.86  1       4     A2      A2      62  \n13 Dorada  Femenino  1.95   2.97   3.56  1       1     A1      A2      45  \n16 Dorada  Femenino  4.29   3.10   1.82  2       3     A2      A1      52  \n   Ingreso Opini\u00f3n1 Opini\u00f3n2 Uso     \n1  3.9     1        3        Auto    \n6  3.0     2        3        Vivienda\n11 3.4     5        2        Otros   \n12 3.8     2        3        Otros   \n13 4.0     4        5        Otros   \n16 3.7     1        1        Auto    "
                    }, 
                    "metadata": {}
                }
            ], 
            "source": "Dorada.tarjeta.data = subset(Tarjeta.data, Tarjeta == \"Dorada\")\nhead(Dorada.tarjeta.data)"
        }, 
        {
            "execution_count": 4, 
            "cell_type": "code", 
            "metadata": {}, 
            "outputs": [
                {
                    "output_type": "display_data", 
                    "data": {
                        "text/plain": "\n\tPearson's Chi-squared test\n\ndata:  Dorada.tarjeta.data[, \"G\u00e9nero\"] and Dorada.tarjeta.data[, \"Uso\"]\nX-squared = 1.0636, df = 2, p-value = 0.5875\n"
                    }, 
                    "metadata": {}
                }
            ], 
            "source": "# CHi2 de Pearson\nchisq.test(Dorada.tarjeta.data[,\"G\u00e9nero\"],Dorada.tarjeta.data[,\"Uso\"] )\n\n# sin la correccion de Yates, pero no es necesario porque se tiene mas de 5 registros"
        }, 
        {
            "execution_count": 8, 
            "cell_type": "code", 
            "metadata": {}, 
            "outputs": [
                {
                    "output_type": "display_data", 
                    "data": {
                        "text/html": "<table>\n<thead><tr><th></th><th scope=col>Auto</th><th scope=col>Otros</th><th scope=col>Vivienda</th></tr></thead>\n<tbody>\n\t<tr><th scope=row>Femenino</th><td>1.952015</td><td>2.102170</td><td>2.277350</td></tr>\n\t<tr><th scope=row>Masculino</th><td>2.661838</td><td>2.866595</td><td>3.105478</td></tr>\n</tbody>\n</table>\n", 
                        "text/latex": "\\begin{tabular}{r|lll}\n  & Auto & Otros & Vivienda\\\\\n\\hline\n\tFemenino & 1.952015 & 2.102170 & 2.277350\\\\\n\tMasculino & 2.661838 & 2.866595 & 3.105478\\\\\n\\end{tabular}\n", 
                        "text/markdown": "\n| <!--/--> | Auto | Otros | Vivienda | \n|---|---|\n| Femenino | 1.952015 | 2.102170 | 2.277350 | \n| Masculino | 2.661838 | 2.866595 | 3.105478 | \n\n\n", 
                        "text/plain": "           Dorada.tarjeta.data[, \"Uso\"]\n            Auto     Otros    Vivienda\n  Femenino  1.952015 2.102170 2.277350\n  Masculino 2.661838 2.866595 3.105478"
                    }, 
                    "metadata": {}
                }
            ], 
            "source": "# Forma para calcular la correcion de Yates, pero para este caso no es necesario\n# porque se tiene mas de 5 registros\nres <- chisq.test(Dorada.tarjeta.data[,\"G\u00e9nero\"],Dorada.tarjeta.data[,\"Uso\"] )\nsum(abs(res$obs-res$exp)-0.5)^2/res$exp\n"
        }, 
        {
            "execution_count": 5, 
            "cell_type": "code", 
            "metadata": {}, 
            "outputs": [
                {
                    "output_type": "stream", 
                    "name": "stderr", 
                    "text": "Updating HTML index of packages in '.Library'\nMaking 'packages.html' ... done\nLoading required package: grid\n"
                }
            ], 
            "source": "########################################\n#  Razon de Verosimilitud\n########################################\ninstall.packages(\"vcd\")\nlibrary(vcd)"
        }, 
        {
            "execution_count": 7, 
            "cell_type": "code", 
            "metadata": {}, 
            "outputs": [
                {
                    "output_type": "display_data", 
                    "data": {
                        "text/plain": "                    X^2 df P(> X^2)\nLikelihood Ratio 1.0597  2  0.58869\nPearson          1.0636  2  0.58754\n\nPhi-Coefficient   : NA \nContingency Coeff.: 0.116 \nCramer's V        : 0.117 "
                    }, 
                    "metadata": {}
                }
            ], 
            "source": "tabla <- table(Dorada.tarjeta.data[,\"G\u00e9nero\"],Dorada.tarjeta.data[,\"Uso\"] )\nassocstats(tabla)"
        }, 
        {
            "execution_count": null, 
            "cell_type": "code", 
            "metadata": {}, 
            "outputs": [], 
            "source": "# Pearson          1.0636  2  0.58754\n\n#######################################\n#    1.- Prueba de Independencia\n#######################################\n\n# 1) \n#    H0 : No existe relaci\u00f3n entre el uso del cr\u00e9dito y el g\u00e9nero del cliente\n#    H1 : Existe relaci\u00f3n entre el uso del cr\u00e9dito y el g\u00e9nero del cliente\n#\n# 2)  alfa = 0.05\n#                                                                               2  \n# 3)  p-valor = 0.58754 > alfa, no se rechaza HO   , X   = 1.0636\n#\n# 4)  Conclusi\u00f3n : A un alfa = 0.05, no se puede afirmar que existe \n#     una relaci\u00f3n entre el uso del cr\u00e9dito y el g\u00e9nero del cliente\n"
        }
    ], 
    "metadata": {
        "kernelspec": {
            "display_name": "R", 
            "name": "r", 
            "language": "R"
        }, 
        "language_info": {
            "mimetype": "text/x-r-source", 
            "version": "3.4.2", 
            "name": "R", 
            "pygments_lexer": "r", 
            "file_extension": ".r", 
            "codemirror_mode": "r"
        }
    }, 
    "nbformat": 4
}