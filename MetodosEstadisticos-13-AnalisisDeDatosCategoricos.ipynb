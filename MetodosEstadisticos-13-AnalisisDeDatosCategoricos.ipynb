{
    "nbformat_minor": 1, 
    "cells": [
        {
            "execution_count": 1, 
            "cell_type": "code", 
            "metadata": {}, 
            "outputs": [
                {
                    "output_type": "display_data", 
                    "data": {
                        "text/html": "<table>\n<thead><tr><th scope=col>Tarjeta</th><th scope=col>G\u00e9nero</th><th scope=col>DEnero</th><th scope=col>DMarzo</th><th scope=col>DMayo</th><th scope=col>Retiros</th><th scope=col>Pagos</th><th scope=col>Cat2015</th><th scope=col>Cat2016</th><th scope=col>Edad</th><th scope=col>Ingreso</th><th scope=col>Opini\u00f3n1</th><th scope=col>Opini\u00f3n2</th><th scope=col>Uso</th></tr></thead>\n<tbody>\n\t<tr><td>Dorada   </td><td>Femenino </td><td>2.70     </td><td>3.20     </td><td>4.51     </td><td>1        </td><td>3        </td><td>A1       </td><td>A2       </td><td>58       </td><td>3.9      </td><td>1        </td><td>3        </td><td>Auto     </td></tr>\n\t<tr><td>Cl\u00e1sica  </td><td>Femenino </td><td>2.74     </td><td>3.14     </td><td>4.17     </td><td>3        </td><td>0        </td><td>A2       </td><td>A2       </td><td>61       </td><td>4.7      </td><td>1        </td><td>3        </td><td>Vivienda </td></tr>\n\t<tr><td>Cl\u00e1sica  </td><td>Femenino </td><td>3.35     </td><td>2.89     </td><td>1.79     </td><td>5        </td><td>4        </td><td>A1       </td><td>A1       </td><td>61       </td><td>3.2      </td><td>1        </td><td>3        </td><td>Vivienda </td></tr>\n\t<tr><td>Platino  </td><td>Masculino</td><td>2.03     </td><td>3.34     </td><td>3.01     </td><td>5        </td><td>4        </td><td>A2       </td><td>A2       </td><td>44       </td><td>3.2      </td><td>2        </td><td>5        </td><td>Auto     </td></tr>\n\t<tr><td>Cl\u00e1sica  </td><td>Femenino </td><td>2.75     </td><td>2.48     </td><td>3.37     </td><td>4        </td><td>0        </td><td>A1       </td><td>A2       </td><td>31       </td><td>3.7      </td><td>5        </td><td>5        </td><td>Vivienda </td></tr>\n\t<tr><td>Dorada   </td><td>Masculino</td><td>2.69     </td><td>3.15     </td><td>4.16     </td><td>4        </td><td>3        </td><td>A1       </td><td>A2       </td><td>34       </td><td>3.0      </td><td>2        </td><td>3        </td><td>Vivienda </td></tr>\n</tbody>\n</table>\n", 
                        "text/latex": "\\begin{tabular}{r|llllllllllllll}\n Tarjeta & G\u00e9nero & DEnero & DMarzo & DMayo & Retiros & Pagos & Cat2015 & Cat2016 & Edad & Ingreso & Opini\u00f3n1 & Opini\u00f3n2 & Uso\\\\\n\\hline\n\t Dorada    & Femenino  & 2.70      & 3.20      & 4.51      & 1         & 3         & A1        & A2        & 58        & 3.9       & 1         & 3         & Auto     \\\\\n\t Cl\u00e1sica   & Femenino  & 2.74      & 3.14      & 4.17      & 3         & 0         & A2        & A2        & 61        & 4.7       & 1         & 3         & Vivienda \\\\\n\t Cl\u00e1sica   & Femenino  & 3.35      & 2.89      & 1.79      & 5         & 4         & A1        & A1        & 61        & 3.2       & 1         & 3         & Vivienda \\\\\n\t Platino   & Masculino & 2.03      & 3.34      & 3.01      & 5         & 4         & A2        & A2        & 44        & 3.2       & 2         & 5         & Auto     \\\\\n\t Cl\u00e1sica   & Femenino  & 2.75      & 2.48      & 3.37      & 4         & 0         & A1        & A2        & 31        & 3.7       & 5         & 5         & Vivienda \\\\\n\t Dorada    & Masculino & 2.69      & 3.15      & 4.16      & 4         & 3         & A1        & A2        & 34        & 3.0       & 2         & 3         & Vivienda \\\\\n\\end{tabular}\n", 
                        "text/markdown": "\nTarjeta | G\u00e9nero | DEnero | DMarzo | DMayo | Retiros | Pagos | Cat2015 | Cat2016 | Edad | Ingreso | Opini\u00f3n1 | Opini\u00f3n2 | Uso | \n|---|---|---|---|---|---|\n| Dorada    | Femenino  | 2.70      | 3.20      | 4.51      | 1         | 3         | A1        | A2        | 58        | 3.9       | 1         | 3         | Auto      | \n| Cl\u00e1sica   | Femenino  | 2.74      | 3.14      | 4.17      | 3         | 0         | A2        | A2        | 61        | 4.7       | 1         | 3         | Vivienda  | \n| Cl\u00e1sica   | Femenino  | 3.35      | 2.89      | 1.79      | 5         | 4         | A1        | A1        | 61        | 3.2       | 1         | 3         | Vivienda  | \n| Platino   | Masculino | 2.03      | 3.34      | 3.01      | 5         | 4         | A2        | A2        | 44        | 3.2       | 2         | 5         | Auto      | \n| Cl\u00e1sica   | Femenino  | 2.75      | 2.48      | 3.37      | 4         | 0         | A1        | A2        | 31        | 3.7       | 5         | 5         | Vivienda  | \n| Dorada    | Masculino | 2.69      | 3.15      | 4.16      | 4         | 3         | A1        | A2        | 34        | 3.0       | 2         | 3         | Vivienda  | \n\n\n", 
                        "text/plain": "  Tarjeta G\u00e9nero    DEnero DMarzo DMayo Retiros Pagos Cat2015 Cat2016 Edad\n1 Dorada  Femenino  2.70   3.20   4.51  1       3     A1      A2      58  \n2 Cl\u00e1sica Femenino  2.74   3.14   4.17  3       0     A2      A2      61  \n3 Cl\u00e1sica Femenino  3.35   2.89   1.79  5       4     A1      A1      61  \n4 Platino Masculino 2.03   3.34   3.01  5       4     A2      A2      44  \n5 Cl\u00e1sica Femenino  2.75   2.48   3.37  4       0     A1      A2      31  \n6 Dorada  Masculino 2.69   3.15   4.16  4       3     A1      A2      34  \n  Ingreso Opini\u00f3n1 Opini\u00f3n2 Uso     \n1 3.9     1        3        Auto    \n2 4.7     1        3        Vivienda\n3 3.2     1        3        Vivienda\n4 3.2     2        5        Auto    \n5 3.7     5        5        Vivienda\n6 3.0     2        3        Vivienda"
                    }, 
                    "metadata": {}
                }
            ], 
            "source": "################################################ \n## Curso : Metodos Estadisticos\n## Semana : 13\n## Tema : Analisis de Datos Categoricos\n#########################################\n\n# Define path file\nFILE_URL <-  \"https://raw.githubusercontent.com/jgomezz/MsEstadAplic_MetodosEstadisticos/master/data/metodos_estadisticos/semana-13/Caso_E.csv\"\n\nFILE_ENCONDING <- \"ISO-8859-1\"\n\n# Read file\nTarjeta.data <- read.csv(FILE_URL, fileEncoding = FILE_ENCONDING)\n#\nhead(Tarjeta.data)"
        }, 
        {
            "execution_count": 3, 
            "cell_type": "code", 
            "metadata": {}, 
            "outputs": [
                {
                    "output_type": "display_data", 
                    "data": {
                        "text/html": "<table>\n<thead><tr><th></th><th scope=col>Tarjeta</th><th scope=col>G\u00e9nero</th><th scope=col>DEnero</th><th scope=col>DMarzo</th><th scope=col>DMayo</th><th scope=col>Retiros</th><th scope=col>Pagos</th><th scope=col>Cat2015</th><th scope=col>Cat2016</th><th scope=col>Edad</th><th scope=col>Ingreso</th><th scope=col>Opini\u00f3n1</th><th scope=col>Opini\u00f3n2</th><th scope=col>Uso</th></tr></thead>\n<tbody>\n\t<tr><th scope=row>1</th><td>Dorada   </td><td>Femenino </td><td>2.70     </td><td>3.20     </td><td>4.51     </td><td>1        </td><td>3        </td><td>A1       </td><td>A2       </td><td>58       </td><td>3.9      </td><td>1        </td><td>3        </td><td>Auto     </td></tr>\n\t<tr><th scope=row>6</th><td>Dorada   </td><td>Masculino</td><td>2.69     </td><td>3.15     </td><td>4.16     </td><td>4        </td><td>3        </td><td>A1       </td><td>A2       </td><td>34       </td><td>3.0      </td><td>2        </td><td>3        </td><td>Vivienda </td></tr>\n\t<tr><th scope=row>11</th><td>Dorada   </td><td>Femenino </td><td>4.19     </td><td>3.54     </td><td>2.95     </td><td>1        </td><td>2        </td><td>A1       </td><td>A1       </td><td>35       </td><td>3.4      </td><td>5        </td><td>2        </td><td>Otros    </td></tr>\n\t<tr><th scope=row>12</th><td>Dorada   </td><td>Masculino</td><td>3.07     </td><td>2.63     </td><td>2.86     </td><td>1        </td><td>4        </td><td>A2       </td><td>A2       </td><td>62       </td><td>3.8      </td><td>2        </td><td>3        </td><td>Otros    </td></tr>\n\t<tr><th scope=row>13</th><td>Dorada   </td><td>Femenino </td><td>1.95     </td><td>2.97     </td><td>3.56     </td><td>1        </td><td>1        </td><td>A1       </td><td>A2       </td><td>45       </td><td>4.0      </td><td>4        </td><td>5        </td><td>Otros    </td></tr>\n\t<tr><th scope=row>16</th><td>Dorada   </td><td>Femenino </td><td>4.29     </td><td>3.10     </td><td>1.82     </td><td>2        </td><td>3        </td><td>A2       </td><td>A1       </td><td>52       </td><td>3.7      </td><td>1        </td><td>1        </td><td>Auto     </td></tr>\n</tbody>\n</table>\n", 
                        "text/latex": "\\begin{tabular}{r|llllllllllllll}\n  & Tarjeta & G\u00e9nero & DEnero & DMarzo & DMayo & Retiros & Pagos & Cat2015 & Cat2016 & Edad & Ingreso & Opini\u00f3n1 & Opini\u00f3n2 & Uso\\\\\n\\hline\n\t1 & Dorada    & Femenino  & 2.70      & 3.20      & 4.51      & 1         & 3         & A1        & A2        & 58        & 3.9       & 1         & 3         & Auto     \\\\\n\t6 & Dorada    & Masculino & 2.69      & 3.15      & 4.16      & 4         & 3         & A1        & A2        & 34        & 3.0       & 2         & 3         & Vivienda \\\\\n\t11 & Dorada    & Femenino  & 4.19      & 3.54      & 2.95      & 1         & 2         & A1        & A1        & 35        & 3.4       & 5         & 2         & Otros    \\\\\n\t12 & Dorada    & Masculino & 3.07      & 2.63      & 2.86      & 1         & 4         & A2        & A2        & 62        & 3.8       & 2         & 3         & Otros    \\\\\n\t13 & Dorada    & Femenino  & 1.95      & 2.97      & 3.56      & 1         & 1         & A1        & A2        & 45        & 4.0       & 4         & 5         & Otros    \\\\\n\t16 & Dorada    & Femenino  & 4.29      & 3.10      & 1.82      & 2         & 3         & A2        & A1        & 52        & 3.7       & 1         & 1         & Auto     \\\\\n\\end{tabular}\n", 
                        "text/markdown": "\n| <!--/--> | Tarjeta | G\u00e9nero | DEnero | DMarzo | DMayo | Retiros | Pagos | Cat2015 | Cat2016 | Edad | Ingreso | Opini\u00f3n1 | Opini\u00f3n2 | Uso | \n|---|---|---|---|---|---|\n| 1 | Dorada    | Femenino  | 2.70      | 3.20      | 4.51      | 1         | 3         | A1        | A2        | 58        | 3.9       | 1         | 3         | Auto      | \n| 6 | Dorada    | Masculino | 2.69      | 3.15      | 4.16      | 4         | 3         | A1        | A2        | 34        | 3.0       | 2         | 3         | Vivienda  | \n| 11 | Dorada    | Femenino  | 4.19      | 3.54      | 2.95      | 1         | 2         | A1        | A1        | 35        | 3.4       | 5         | 2         | Otros     | \n| 12 | Dorada    | Masculino | 3.07      | 2.63      | 2.86      | 1         | 4         | A2        | A2        | 62        | 3.8       | 2         | 3         | Otros     | \n| 13 | Dorada    | Femenino  | 1.95      | 2.97      | 3.56      | 1         | 1         | A1        | A2        | 45        | 4.0       | 4         | 5         | Otros     | \n| 16 | Dorada    | Femenino  | 4.29      | 3.10      | 1.82      | 2         | 3         | A2        | A1        | 52        | 3.7       | 1         | 1         | Auto      | \n\n\n", 
                        "text/plain": "   Tarjeta G\u00e9nero    DEnero DMarzo DMayo Retiros Pagos Cat2015 Cat2016 Edad\n1  Dorada  Femenino  2.70   3.20   4.51  1       3     A1      A2      58  \n6  Dorada  Masculino 2.69   3.15   4.16  4       3     A1      A2      34  \n11 Dorada  Femenino  4.19   3.54   2.95  1       2     A1      A1      35  \n12 Dorada  Masculino 3.07   2.63   2.86  1       4     A2      A2      62  \n13 Dorada  Femenino  1.95   2.97   3.56  1       1     A1      A2      45  \n16 Dorada  Femenino  4.29   3.10   1.82  2       3     A2      A1      52  \n   Ingreso Opini\u00f3n1 Opini\u00f3n2 Uso     \n1  3.9     1        3        Auto    \n6  3.0     2        3        Vivienda\n11 3.4     5        2        Otros   \n12 3.8     2        3        Otros   \n13 4.0     4        5        Otros   \n16 3.7     1        1        Auto    "
                    }, 
                    "metadata": {}
                }
            ], 
            "source": "Dorada.tarjeta.data = subset(Tarjeta.data, Tarjeta == \"Dorada\")\nhead(Dorada.tarjeta.data)"
        }, 
        {
            "execution_count": 4, 
            "cell_type": "code", 
            "metadata": {}, 
            "outputs": [
                {
                    "output_type": "display_data", 
                    "data": {
                        "text/plain": "\n\tPearson's Chi-squared test\n\ndata:  Dorada.tarjeta.data[, \"G\u00e9nero\"] and Dorada.tarjeta.data[, \"Uso\"]\nX-squared = 1.0636, df = 2, p-value = 0.5875\n"
                    }, 
                    "metadata": {}
                }
            ], 
            "source": "# CHi2 de Pearson\nchisq.test(Dorada.tarjeta.data[,\"G\u00e9nero\"],Dorada.tarjeta.data[,\"Uso\"] )\n\n# sin la correccion de Yates, pero no es necesario porque se tiene mas de 5 registros"
        }, 
        {
            "execution_count": 13, 
            "cell_type": "code", 
            "metadata": {}, 
            "outputs": [
                {
                    "output_type": "display_data", 
                    "data": {
                        "text/html": "0.773913558003697", 
                        "text/latex": "0.773913558003697", 
                        "text/markdown": "0.773913558003697", 
                        "text/plain": "[1] 0.7739136"
                    }, 
                    "metadata": {}
                }
            ], 
            "source": "# Forma para calcular la correcion de Yates, pero para este caso no es necesario\n# porque se tiene mas de 5 registros\nres <- chisq.test(Dorada.tarjeta.data[,\"G\u00e9nero\"],Dorada.tarjeta.data[,\"Uso\"] )\ncal <- sum((abs(res$obs-res$exp)-0.5)^2/res$exp)\n1-pchisq(cal,2)\n# HAY QUE REVISAR CON EL VALOR REAL\n# 0.5125902"
        }, 
        {
            "execution_count": 5, 
            "cell_type": "code", 
            "metadata": {}, 
            "outputs": [
                {
                    "output_type": "stream", 
                    "name": "stderr", 
                    "text": "Updating HTML index of packages in '.Library'\nMaking 'packages.html' ... done\nLoading required package: grid\n"
                }
            ], 
            "source": "########################################\n#  Razon de Verosimilitud\n########################################\ninstall.packages(\"vcd\")\nlibrary(vcd)"
        }, 
        {
            "execution_count": 7, 
            "cell_type": "code", 
            "metadata": {}, 
            "outputs": [
                {
                    "output_type": "display_data", 
                    "data": {
                        "text/plain": "                    X^2 df P(> X^2)\nLikelihood Ratio 1.0597  2  0.58869\nPearson          1.0636  2  0.58754\n\nPhi-Coefficient   : NA \nContingency Coeff.: 0.116 \nCramer's V        : 0.117 "
                    }, 
                    "metadata": {}
                }
            ], 
            "source": "tabla <- table(Dorada.tarjeta.data[,\"G\u00e9nero\"],Dorada.tarjeta.data[,\"Uso\"] )\nassocstats(tabla)"
        }, 
        {
            "execution_count": 14, 
            "cell_type": "code", 
            "metadata": {}, 
            "outputs": [], 
            "source": "# Pearson          1.0636  2  0.58754\n\n#######################################\n#    1.- Prueba de Independencia\n#######################################\n\n# 1) \n#    H0 : No existe relaci\u00f3n entre el uso del cr\u00e9dito y el g\u00e9nero del cliente\n#    H1 : Existe relaci\u00f3n entre el uso del cr\u00e9dito y el g\u00e9nero del cliente\n#\n# 2)  alfa = 0.05\n#                                                                               2  \n# 3)  p-valor = 0.58754 > alfa, no se rechaza HO   , X   = 1.0636\n#\n# 4)  Conclusi\u00f3n : A un alfa = 0.05, no se puede afirmar que existe \n#     una relaci\u00f3n entre el uso del cr\u00e9dito y el g\u00e9nero del cliente\n"
        }, 
        {
            "execution_count": 16, 
            "cell_type": "code", 
            "metadata": {}, 
            "outputs": [
                {
                    "output_type": "display_data", 
                    "data": {
                        "text/plain": "\n\tPearson's Chi-squared test\n\ndata:  Tarjeta.data[, \"Tarjeta\"] and Tarjeta.data[, \"G\u00e9nero\"]\nX-squared = 2.3337, df = 2, p-value = 0.3114\n"
                    }, 
                    "metadata": {}
                }
            ], 
            "source": "#######################################\n#  2.- Prueba de Homogeneidad de Subpoblaciones\n#######################################\nchisq.test(Tarjeta.data[,\"Tarjeta\"],Tarjeta.data[,\"G\u00e9nero\"] )\n"
        }, 
        {
            "execution_count": 17, 
            "cell_type": "code", 
            "metadata": {}, 
            "outputs": [
                {
                    "output_type": "display_data", 
                    "data": {
                        "text/plain": "\n\tFisher's Exact Test for Count Data\n\ndata:  tabla2\np-value = 0.03497\nalternative hypothesis: true odds ratio is greater than 1\n95 percent confidence interval:\n 1.179718      Inf\nsample estimates:\nodds ratio \n  13.59412 \n"
                    }, 
                    "metadata": {}
                }
            ], 
            "source": "#######################################\n# Prueba Exacta de Fisher\n#######################################\n\ntabla2 <-  matrix( c(5,2,1,7),2,2)\nfisher.test(tabla2, alternative=\"g\")"
        }, 
        {
            "execution_count": 21, 
            "cell_type": "code", 
            "metadata": {}, 
            "outputs": [
                {
                    "output_type": "display_data", 
                    "data": {
                        "text/plain": "\n\tFisher's Exact Test for Count Data\n\ndata:  tabla3\np-value = 0.2994\nalternative hypothesis: true odds ratio is greater than 1\n95 percent confidence interval:\n 0.668984      Inf\nsample estimates:\nodds ratio \n  1.290358 \n"
                    }, 
                    "metadata": {}
                }
            ], 
            "source": "#Ejercicio : 3. Pruebe si la proporci\u00f3n de clientes de categor\u00eda A1 en el a\u00f1o 2015 es superior en\n#los clientes que se les otorg\u00f3 tarjeta de cr\u00e9dito Cl\u00e1sica que los que se les otorg\u00f3\n# tarjeta de cr\u00e9dito Platino.\n\ncyp <- subset(Tarjeta.data, Tarjeta != \"Dorada\")\ntabla3 <- table(cyp[,1], cyp[,8])[-2,]\nfisher.test(tabla3, alternative = \"g\")\n"
        }, 
        {
            "execution_count": 20, 
            "cell_type": "code", 
            "metadata": {
                "scrolled": true
            }, 
            "outputs": [
                {
                    "output_type": "display_data", 
                    "data": {
                        "text/plain": "\n\tFisher's Exact Test for Count Data\n\ndata:  tabla4\np-value = 0.2994\nalternative hypothesis: true odds ratio is greater than 1\n95 percent confidence interval:\n 0.668984      Inf\nsample estimates:\nodds ratio \n  1.290358 \n"
                    }, 
                    "metadata": {}
                }
            ], 
            "source": "# otra forma\ntabla4 <- table(Tarjeta.data[,1], Tarjeta.data[,8])[-2,]\nfisher.test(tabla4, alternative = \"g\")"
        }, 
        {
            "execution_count": 22, 
            "cell_type": "code", 
            "metadata": {}, 
            "outputs": [
                {
                    "output_type": "display_data", 
                    "data": {
                        "text/html": "<table>\n<thead><tr><th scope=col>Tarjeta</th><th scope=col>G\u00e9nero</th><th scope=col>DEnero</th><th scope=col>DMarzo</th><th scope=col>DMayo</th><th scope=col>Retiros</th><th scope=col>Pagos</th><th scope=col>Cat2015</th><th scope=col>Cat2016</th><th scope=col>Edad</th><th scope=col>Ingreso</th><th scope=col>Opini\u00f3n1</th><th scope=col>Opini\u00f3n2</th><th scope=col>Uso</th></tr></thead>\n<tbody>\n\t<tr><td>Dorada   </td><td>Femenino </td><td>2.70     </td><td>3.20     </td><td>4.51     </td><td>1        </td><td>3        </td><td>A1       </td><td>A2       </td><td>58       </td><td>3.9      </td><td>1        </td><td>3        </td><td>Auto     </td></tr>\n\t<tr><td>Cl\u00e1sica  </td><td>Femenino </td><td>2.74     </td><td>3.14     </td><td>4.17     </td><td>3        </td><td>0        </td><td>A2       </td><td>A2       </td><td>61       </td><td>4.7      </td><td>1        </td><td>3        </td><td>Vivienda </td></tr>\n\t<tr><td>Cl\u00e1sica  </td><td>Femenino </td><td>3.35     </td><td>2.89     </td><td>1.79     </td><td>5        </td><td>4        </td><td>A1       </td><td>A1       </td><td>61       </td><td>3.2      </td><td>1        </td><td>3        </td><td>Vivienda </td></tr>\n\t<tr><td>Platino  </td><td>Masculino</td><td>2.03     </td><td>3.34     </td><td>3.01     </td><td>5        </td><td>4        </td><td>A2       </td><td>A2       </td><td>44       </td><td>3.2      </td><td>2        </td><td>5        </td><td>Auto     </td></tr>\n\t<tr><td>Cl\u00e1sica  </td><td>Femenino </td><td>2.75     </td><td>2.48     </td><td>3.37     </td><td>4        </td><td>0        </td><td>A1       </td><td>A2       </td><td>31       </td><td>3.7      </td><td>5        </td><td>5        </td><td>Vivienda </td></tr>\n\t<tr><td>Dorada   </td><td>Masculino</td><td>2.69     </td><td>3.15     </td><td>4.16     </td><td>4        </td><td>3        </td><td>A1       </td><td>A2       </td><td>34       </td><td>3.0      </td><td>2        </td><td>3        </td><td>Vivienda </td></tr>\n</tbody>\n</table>\n", 
                        "text/latex": "\\begin{tabular}{r|llllllllllllll}\n Tarjeta & G\u00e9nero & DEnero & DMarzo & DMayo & Retiros & Pagos & Cat2015 & Cat2016 & Edad & Ingreso & Opini\u00f3n1 & Opini\u00f3n2 & Uso\\\\\n\\hline\n\t Dorada    & Femenino  & 2.70      & 3.20      & 4.51      & 1         & 3         & A1        & A2        & 58        & 3.9       & 1         & 3         & Auto     \\\\\n\t Cl\u00e1sica   & Femenino  & 2.74      & 3.14      & 4.17      & 3         & 0         & A2        & A2        & 61        & 4.7       & 1         & 3         & Vivienda \\\\\n\t Cl\u00e1sica   & Femenino  & 3.35      & 2.89      & 1.79      & 5         & 4         & A1        & A1        & 61        & 3.2       & 1         & 3         & Vivienda \\\\\n\t Platino   & Masculino & 2.03      & 3.34      & 3.01      & 5         & 4         & A2        & A2        & 44        & 3.2       & 2         & 5         & Auto     \\\\\n\t Cl\u00e1sica   & Femenino  & 2.75      & 2.48      & 3.37      & 4         & 0         & A1        & A2        & 31        & 3.7       & 5         & 5         & Vivienda \\\\\n\t Dorada    & Masculino & 2.69      & 3.15      & 4.16      & 4         & 3         & A1        & A2        & 34        & 3.0       & 2         & 3         & Vivienda \\\\\n\\end{tabular}\n", 
                        "text/markdown": "\nTarjeta | G\u00e9nero | DEnero | DMarzo | DMayo | Retiros | Pagos | Cat2015 | Cat2016 | Edad | Ingreso | Opini\u00f3n1 | Opini\u00f3n2 | Uso | \n|---|---|---|---|---|---|\n| Dorada    | Femenino  | 2.70      | 3.20      | 4.51      | 1         | 3         | A1        | A2        | 58        | 3.9       | 1         | 3         | Auto      | \n| Cl\u00e1sica   | Femenino  | 2.74      | 3.14      | 4.17      | 3         | 0         | A2        | A2        | 61        | 4.7       | 1         | 3         | Vivienda  | \n| Cl\u00e1sica   | Femenino  | 3.35      | 2.89      | 1.79      | 5         | 4         | A1        | A1        | 61        | 3.2       | 1         | 3         | Vivienda  | \n| Platino   | Masculino | 2.03      | 3.34      | 3.01      | 5         | 4         | A2        | A2        | 44        | 3.2       | 2         | 5         | Auto      | \n| Cl\u00e1sica   | Femenino  | 2.75      | 2.48      | 3.37      | 4         | 0         | A1        | A2        | 31        | 3.7       | 5         | 5         | Vivienda  | \n| Dorada    | Masculino | 2.69      | 3.15      | 4.16      | 4         | 3         | A1        | A2        | 34        | 3.0       | 2         | 3         | Vivienda  | \n\n\n", 
                        "text/plain": "  Tarjeta G\u00e9nero    DEnero DMarzo DMayo Retiros Pagos Cat2015 Cat2016 Edad\n1 Dorada  Femenino  2.70   3.20   4.51  1       3     A1      A2      58  \n2 Cl\u00e1sica Femenino  2.74   3.14   4.17  3       0     A2      A2      61  \n3 Cl\u00e1sica Femenino  3.35   2.89   1.79  5       4     A1      A1      61  \n4 Platino Masculino 2.03   3.34   3.01  5       4     A2      A2      44  \n5 Cl\u00e1sica Femenino  2.75   2.48   3.37  4       0     A1      A2      31  \n6 Dorada  Masculino 2.69   3.15   4.16  4       3     A1      A2      34  \n  Ingreso Opini\u00f3n1 Opini\u00f3n2 Uso     \n1 3.9     1        3        Auto    \n2 4.7     1        3        Vivienda\n3 3.2     1        3        Vivienda\n4 3.2     2        5        Auto    \n5 3.7     5        5        Vivienda\n6 3.0     2        3        Vivienda"
                    }, 
                    "metadata": {}
                }
            ], 
            "source": "#######################################\n# Prueba de Mantel - Haenszel -Cochran\n#######################################\n\n# 4. Pruebe si la categor\u00eda A1 en el a\u00f1o 2015 del cliente en hombres y mujeres no es\n# la misma seg\u00fan el tipo de tarjeta de cr\u00e9dito otorgado al cliente.\nhead(Tarjeta.data)\n\n"
        }, 
        {
            "execution_count": 26, 
            "cell_type": "code", 
            "metadata": {}, 
            "outputs": [
                {
                    "output_type": "display_data", 
                    "data": {
                        "text/plain": "\n\tCochran-Mantel-Haenszel test\n\ndata:  Tarjeta.data[, \"Tarjeta\"] and Tarjeta.data[, \"G\u00e9nero\"] and Tarjeta.data[, \"Cat2015\"]\nCochran-Mantel-Haenszel M^2 = 2.4014, df = 2, p-value = 0.301\n"
                    }, 
                    "metadata": {}
                }
            ], 
            "source": "# Por defecto todas las pruebas son bilaterales\n\n# primero es el estrato, capa superior\n# segundo ....\n# tercero ....\nmantelhaen.test(Tarjeta.data[,\"Tarjeta\"], Tarjeta.data[,\"G\u00e9nero\"], Tarjeta.data[,\"Cat2015\"], alternative=\"t\")"
        }, 
        {
            "execution_count": null, 
            "cell_type": "code", 
            "metadata": {}, 
            "outputs": [], 
            "source": "#\n#   1)  H0: Pi   =  Pi\n#             1i      2i\n#       H1: Pi   <> Pi\n#             1i      2i\n#\n#   2) alfa = 0.05\n#\n#   3) p-valor=0.301 \n#\n#   4) Conclusi\u00f3n : A un alfa = 0.05 , no se puede afirmar que la proporci\u00f3n\n#                   de hombres y mujeres que fueron asignados como clientes\n#                   A1 en el 2015 es diferente segun el tipo de tarjeta de cr\u00e9dito "
        }
    ], 
    "metadata": {
        "kernelspec": {
            "display_name": "R", 
            "name": "r", 
            "language": "R"
        }, 
        "language_info": {
            "mimetype": "text/x-r-source", 
            "version": "3.4.2", 
            "name": "R", 
            "pygments_lexer": "r", 
            "file_extension": ".r", 
            "codemirror_mode": "r"
        }
    }, 
    "nbformat": 4
}