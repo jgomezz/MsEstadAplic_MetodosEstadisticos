{
    "nbformat_minor": 1, 
    "cells": [
        {
            "execution_count": 1, 
            "cell_type": "code", 
            "metadata": {}, 
            "outputs": [
                {
                    "output_type": "display_data", 
                    "data": {
                        "text/html": "<table>\n<thead><tr><th scope=col>Tarjeta</th><th scope=col>G\u00e9nero</th><th scope=col>DEnero</th><th scope=col>DMarzo</th><th scope=col>DMayo</th><th scope=col>Retiros</th><th scope=col>Pagos</th><th scope=col>Cat2015</th><th scope=col>Cat2016</th><th scope=col>Edad</th><th scope=col>Ingreso</th><th scope=col>Opini\u00f3n1</th><th scope=col>Opini\u00f3n2</th><th scope=col>Uso</th></tr></thead>\n<tbody>\n\t<tr><td>Dorada   </td><td>Femenino </td><td>2.70     </td><td>3.20     </td><td>4.51     </td><td>1        </td><td>3        </td><td>A1       </td><td>A2       </td><td>58       </td><td>3.9      </td><td>1        </td><td>3        </td><td>Auto     </td></tr>\n\t<tr><td>Cl\u00e1sica  </td><td>Femenino </td><td>2.74     </td><td>3.14     </td><td>4.17     </td><td>3        </td><td>0        </td><td>A2       </td><td>A2       </td><td>61       </td><td>4.7      </td><td>1        </td><td>3        </td><td>Vivienda </td></tr>\n\t<tr><td>Cl\u00e1sica  </td><td>Femenino </td><td>3.35     </td><td>2.89     </td><td>1.79     </td><td>5        </td><td>4        </td><td>A1       </td><td>A1       </td><td>61       </td><td>3.2      </td><td>1        </td><td>3        </td><td>Vivienda </td></tr>\n\t<tr><td>Platino  </td><td>Masculino</td><td>2.03     </td><td>3.34     </td><td>3.01     </td><td>5        </td><td>4        </td><td>A2       </td><td>A2       </td><td>44       </td><td>3.2      </td><td>2        </td><td>5        </td><td>Auto     </td></tr>\n\t<tr><td>Cl\u00e1sica  </td><td>Femenino </td><td>2.75     </td><td>2.48     </td><td>3.37     </td><td>4        </td><td>0        </td><td>A1       </td><td>A2       </td><td>31       </td><td>3.7      </td><td>5        </td><td>5        </td><td>Vivienda </td></tr>\n\t<tr><td>Dorada   </td><td>Masculino</td><td>2.69     </td><td>3.15     </td><td>4.16     </td><td>4        </td><td>3        </td><td>A1       </td><td>A2       </td><td>34       </td><td>3.0      </td><td>2        </td><td>3        </td><td>Vivienda </td></tr>\n</tbody>\n</table>\n", 
                        "text/latex": "\\begin{tabular}{r|llllllllllllll}\n Tarjeta & G\u00e9nero & DEnero & DMarzo & DMayo & Retiros & Pagos & Cat2015 & Cat2016 & Edad & Ingreso & Opini\u00f3n1 & Opini\u00f3n2 & Uso\\\\\n\\hline\n\t Dorada    & Femenino  & 2.70      & 3.20      & 4.51      & 1         & 3         & A1        & A2        & 58        & 3.9       & 1         & 3         & Auto     \\\\\n\t Cl\u00e1sica   & Femenino  & 2.74      & 3.14      & 4.17      & 3         & 0         & A2        & A2        & 61        & 4.7       & 1         & 3         & Vivienda \\\\\n\t Cl\u00e1sica   & Femenino  & 3.35      & 2.89      & 1.79      & 5         & 4         & A1        & A1        & 61        & 3.2       & 1         & 3         & Vivienda \\\\\n\t Platino   & Masculino & 2.03      & 3.34      & 3.01      & 5         & 4         & A2        & A2        & 44        & 3.2       & 2         & 5         & Auto     \\\\\n\t Cl\u00e1sica   & Femenino  & 2.75      & 2.48      & 3.37      & 4         & 0         & A1        & A2        & 31        & 3.7       & 5         & 5         & Vivienda \\\\\n\t Dorada    & Masculino & 2.69      & 3.15      & 4.16      & 4         & 3         & A1        & A2        & 34        & 3.0       & 2         & 3         & Vivienda \\\\\n\\end{tabular}\n", 
                        "text/markdown": "\nTarjeta | G\u00e9nero | DEnero | DMarzo | DMayo | Retiros | Pagos | Cat2015 | Cat2016 | Edad | Ingreso | Opini\u00f3n1 | Opini\u00f3n2 | Uso | \n|---|---|---|---|---|---|\n| Dorada    | Femenino  | 2.70      | 3.20      | 4.51      | 1         | 3         | A1        | A2        | 58        | 3.9       | 1         | 3         | Auto      | \n| Cl\u00e1sica   | Femenino  | 2.74      | 3.14      | 4.17      | 3         | 0         | A2        | A2        | 61        | 4.7       | 1         | 3         | Vivienda  | \n| Cl\u00e1sica   | Femenino  | 3.35      | 2.89      | 1.79      | 5         | 4         | A1        | A1        | 61        | 3.2       | 1         | 3         | Vivienda  | \n| Platino   | Masculino | 2.03      | 3.34      | 3.01      | 5         | 4         | A2        | A2        | 44        | 3.2       | 2         | 5         | Auto      | \n| Cl\u00e1sica   | Femenino  | 2.75      | 2.48      | 3.37      | 4         | 0         | A1        | A2        | 31        | 3.7       | 5         | 5         | Vivienda  | \n| Dorada    | Masculino | 2.69      | 3.15      | 4.16      | 4         | 3         | A1        | A2        | 34        | 3.0       | 2         | 3         | Vivienda  | \n\n\n", 
                        "text/plain": "  Tarjeta G\u00e9nero    DEnero DMarzo DMayo Retiros Pagos Cat2015 Cat2016 Edad\n1 Dorada  Femenino  2.70   3.20   4.51  1       3     A1      A2      58  \n2 Cl\u00e1sica Femenino  2.74   3.14   4.17  3       0     A2      A2      61  \n3 Cl\u00e1sica Femenino  3.35   2.89   1.79  5       4     A1      A1      61  \n4 Platino Masculino 2.03   3.34   3.01  5       4     A2      A2      44  \n5 Cl\u00e1sica Femenino  2.75   2.48   3.37  4       0     A1      A2      31  \n6 Dorada  Masculino 2.69   3.15   4.16  4       3     A1      A2      34  \n  Ingreso Opini\u00f3n1 Opini\u00f3n2 Uso     \n1 3.9     1        3        Auto    \n2 4.7     1        3        Vivienda\n3 3.2     1        3        Vivienda\n4 3.2     2        5        Auto    \n5 3.7     5        5        Vivienda\n6 3.0     2        3        Vivienda"
                    }, 
                    "metadata": {}
                }
            ], 
            "source": "################################################ \n## Curso : Metodos Estadisticos\n## Semana : 13\n## Tema : Analisis de Datos Categoricos\n#########################################\n\n# Define path file\nFILE_URL <-  \"https://raw.githubusercontent.com/jgomezz/MsEstadAplic_MetodosEstadisticos/master/data/metodos_estadisticos/semana-13/Caso_E.csv\"\n\nFILE_ENCONDING <- \"ISO-8859-1\"\n\n# Read file\nTarjeta.data <- read.csv(FILE_URL, fileEncoding = FILE_ENCONDING)\n#\nhead(Tarjeta.data)"
        }
    ], 
    "metadata": {
        "kernelspec": {
            "display_name": "R", 
            "name": "r", 
            "language": "R"
        }, 
        "language_info": {
            "mimetype": "text/x-r-source", 
            "version": "3.4.2", 
            "name": "R", 
            "pygments_lexer": "r", 
            "file_extension": ".r", 
            "codemirror_mode": "r"
        }
    }, 
    "nbformat": 4
}