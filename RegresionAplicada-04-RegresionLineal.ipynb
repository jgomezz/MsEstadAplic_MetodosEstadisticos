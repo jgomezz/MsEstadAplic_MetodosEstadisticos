{
    "nbformat_minor": 1, 
    "cells": [
        {
            "execution_count": 3, 
            "cell_type": "code", 
            "metadata": {}, 
            "outputs": [
                {
                    "output_type": "display_data", 
                    "data": {
                        "text/html": "<table>\n<thead><tr><th scope=col>Tiempo</th><th scope=col>Temperatura</th></tr></thead>\n<tbody>\n\t<tr><td>1200</td><td>18  </td></tr>\n\t<tr><td>1215</td><td>18  </td></tr>\n\t<tr><td>1150</td><td>18  </td></tr>\n\t<tr><td>1000</td><td>22  </td></tr>\n\t<tr><td> 974</td><td>22  </td></tr>\n\t<tr><td> 810</td><td>26  </td></tr>\n</tbody>\n</table>\n", 
                        "text/latex": "\\begin{tabular}{r|ll}\n Tiempo & Temperatura\\\\\n\\hline\n\t 1200 & 18  \\\\\n\t 1215 & 18  \\\\\n\t 1150 & 18  \\\\\n\t 1000 & 22  \\\\\n\t  974 & 22  \\\\\n\t  810 & 26  \\\\\n\\end{tabular}\n", 
                        "text/markdown": "\nTiempo | Temperatura | \n|---|---|---|---|---|---|\n| 1200 | 18   | \n| 1215 | 18   | \n| 1150 | 18   | \n| 1000 | 22   | \n|  974 | 22   | \n|  810 | 26   | \n\n\n", 
                        "text/plain": "  Tiempo Temperatura\n1 1200   18         \n2 1215   18         \n3 1150   18         \n4 1000   22         \n5  974   22         \n6  810   26         "
                    }, 
                    "metadata": {}
                }
            ], 
            "source": ""
        }, 
        {
            "execution_count": 3, 
            "cell_type": "code", 
            "metadata": {}, 
            "outputs": [
                {
                    "output_type": "display_data", 
                    "data": {
                        "text/html": "<table>\n<thead><tr><th scope=col>Tiempo</th><th scope=col>Temperatura</th></tr></thead>\n<tbody>\n\t<tr><td>1200</td><td>18  </td></tr>\n\t<tr><td>1215</td><td>18  </td></tr>\n\t<tr><td>1150</td><td>18  </td></tr>\n\t<tr><td>1000</td><td>22  </td></tr>\n\t<tr><td> 974</td><td>22  </td></tr>\n\t<tr><td> 810</td><td>26  </td></tr>\n</tbody>\n</table>\n", 
                        "text/latex": "\\begin{tabular}{r|ll}\n Tiempo & Temperatura\\\\\n\\hline\n\t 1200 & 18  \\\\\n\t 1215 & 18  \\\\\n\t 1150 & 18  \\\\\n\t 1000 & 22  \\\\\n\t  974 & 22  \\\\\n\t  810 & 26  \\\\\n\\end{tabular}\n", 
                        "text/markdown": "\nTiempo | Temperatura | \n|---|---|---|---|---|---|\n| 1200 | 18   | \n| 1215 | 18   | \n| 1150 | 18   | \n| 1000 | 22   | \n|  974 | 22   | \n|  810 | 26   | \n\n\n", 
                        "text/plain": "  Tiempo Temperatura\n1 1200   18         \n2 1215   18         \n3 1150   18         \n4 1000   22         \n5  974   22         \n6  810   26         "
                    }, 
                    "metadata": {}
                }
            ], 
            "source": "# Pregunta 1\n# -----------------------------------------------------------------------------\n# Hallar la ecuacion de la recta para el tiempo de operacion en funcion a la \n# temperatura sando el meotod de minimos cuadrado ordinarios\n# El intercept estimado es ______________ y la pendiente estimada es ______________ \n# .Escriba sus respuestas con 3 decimales\n\n\n## Lectura de datos\nURL <- \"http://tarwi.lamolina.edu.pe/~clopez/Regresion/Tiempo.txt\"\nTiempo.data <- read.table(file = URL, header = T)\nhead(Tiempo.data)\nattach(Tiempo.data)"
        }, 
        {
            "execution_count": 4, 
            "cell_type": "code", 
            "metadata": {}, 
            "outputs": [
                {
                    "output_type": "display_data", 
                    "data": {
                        "text/plain": "\nCall:\nlm(formula = Tiempo ~ Temperatura)\n\nResiduals:\n   Min     1Q Median     3Q    Max \n-92.40 -11.91  11.26  32.76  61.76 \n\nCoefficients:\n            Estimate Std. Error t value Pr(>|t|)    \n(Intercept) 2184.003     75.022   29.11 1.45e-08 ***\nTemperatura  -54.459      3.015  -18.06 3.94e-07 ***\n---\nSignif. codes:  0 \u2018***\u2019 0.001 \u2018**\u2019 0.01 \u2018*\u2019 0.05 \u2018.\u2019 0.1 \u2018 \u2019 1\n\nResidual standard error: 51.48 on 7 degrees of freedom\nMultiple R-squared:  0.979,\tAdjusted R-squared:  0.976 \nF-statistic: 326.2 on 1 and 7 DF,  p-value: 3.942e-07\n"
                    }, 
                    "metadata": {}
                }
            ], 
            "source": "# Modelo\nTiempo.m1 <- lm(Tiempo ~ Temperatura)\nsummary(Tiempo.m1)\n"
        }, 
        {
            "execution_count": 19, 
            "cell_type": "code", 
            "metadata": {}, 
            "outputs": [
                {
                    "output_type": "display_data", 
                    "data": {
                        "text/html": "' t = 1.119711551278294'", 
                        "text/latex": "' t = 1.119711551278294'", 
                        "text/markdown": "' t = 1.119711551278294'", 
                        "text/plain": "[1] \" t = 1.119711551278294\""
                    }, 
                    "metadata": {}
                }, 
                {
                    "output_type": "display_data", 
                    "data": {
                        "text/html": "' p.valor = 0.149889937585050'", 
                        "text/latex": "' p.valor = 0.149889937585050'", 
                        "text/markdown": "' p.valor = 0.149889937585050'", 
                        "text/plain": "[1] \" p.valor = 0.149889937585050\""
                    }, 
                    "metadata": {}
                }
            ], 
            "source": "# Pregunta \n# Se puede afirmar al 5% de nivel de significacion que si la temperatura\n# es igual a 0 grados Celsius el tiempo de operacion del dispositivo\n# supera las 2100 hora?. La hipotesis _______ con un valor para el estadistico\n# de prueba de ____ . El valor de probabilidad es ____ con lo que ______\n# Escriba sus respuesta con 3 decimaes\n\n# Coefficients:\n#            Estimate Std. Error t value Pr(>|t|)    \n# (Intercept) 2184.003     75.022   29.11 1.45e-08 ***\n\n##### calculo de t\nt <- (2184.003 - 2100)/75.022\nsprintf(\" t = %.15f\",t)\n\n#### Calculo de p.valor\np.valor <- (1 - pt(t,df=7))\nsprintf(\" p.valor = %.15f\",p.valor)"
        }, 
        {
            "execution_count": 23, 
            "cell_type": "code", 
            "metadata": {}, 
            "outputs": [
                {
                    "ename": "ERROR", 
                    "evalue": "Error in parse(text = x, srcfile = src): <text>:12:14: unexpected ','\n11: #### Calculo de p.valor\n12: p.valor <- (t,\n                 ^\n", 
                    "traceback": [
                        "Error in parse(text = x, srcfile = src): <text>:12:14: unexpected ','\n11: #### Calculo de p.valor\n12: p.valor <- (t,\n                 ^\nTraceback:\n"
                    ], 
                    "output_type": "error"
                }
            ], 
            "source": "# Pregunta 2\n# Se puede afirmar al 3% de nivel de significacion que por cada grado celsius adicional de temperatura\n# el tiempo de operacion del dispositivo disminuye en mas de 55 horas??. La hipotesis alterna es __\n# con u nvalor para el estadistico de prueba de _____. El valor de probabilidad es____ con lo que\n# ___________________________. Escriba sus respuesta con 3 decimales\n\n##### Calculo del valor t\nt <- (-54.459 + 55)/3.015\nsprintf(\" t = %.15f\",t)\n\n#### Calculo de p.valor\np.valor <- (t,df=7)\nsprintf(\" p.valor = %.15f\",p.valor)"
        }, 
        {
            "execution_count": 6, 
            "cell_type": "code", 
            "metadata": {}, 
            "outputs": [
                {
                    "output_type": "display_data", 
                    "data": {
                        "text/html": "0.17943615257048", 
                        "text/latex": "0.17943615257048", 
                        "text/markdown": "0.17943615257048", 
                        "text/plain": "[1] 0.1794362"
                    }, 
                    "metadata": {}
                }
            ], 
            "source": ""
        }
    ], 
    "metadata": {
        "kernelspec": {
            "display_name": "R", 
            "name": "r", 
            "language": "R"
        }, 
        "language_info": {
            "mimetype": "text/x-r-source", 
            "version": "3.4.2", 
            "name": "R", 
            "pygments_lexer": "r", 
            "file_extension": ".r", 
            "codemirror_mode": "r"
        }
    }, 
    "nbformat": 4
}