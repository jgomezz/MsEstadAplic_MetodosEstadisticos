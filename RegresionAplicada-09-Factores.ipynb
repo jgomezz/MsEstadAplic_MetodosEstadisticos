{
    "nbformat_minor": 1, 
    "cells": [
        {
            "execution_count": 1, 
            "cell_type": "code", 
            "metadata": {}, 
            "outputs": [
                {
                    "output_type": "display_data", 
                    "data": {
                        "text/html": "<table>\n<thead><tr><th scope=col>SWS</th><th scope=col>PS</th><th scope=col>TS</th><th scope=col>PesoCuerpo</th><th scope=col>PesoCerebro</th><th scope=col>Life</th><th scope=col>GP</th><th scope=col>P</th><th scope=col>SE</th><th scope=col>D</th><th scope=col>Especie</th></tr></thead>\n<tbody>\n\t<tr><td> NA                      </td><td> NA                      </td><td> 3.3                     </td><td>6654.000                 </td><td>5712.0                   </td><td>38.6                     </td><td>645                      </td><td>3                        </td><td>5                        </td><td>3                        </td><td>African_elephant         </td></tr>\n\t<tr><td>6.3                      </td><td>2.0                      </td><td> 8.3                     </td><td>   1.000                 </td><td>   6.6                   </td><td> 4.5                     </td><td> 42                      </td><td>3                        </td><td>1                        </td><td>3                        </td><td>African_giant_pouched_rat</td></tr>\n\t<tr><td> NA                      </td><td> NA                      </td><td>12.5                     </td><td>   3.385                 </td><td>  44.5                   </td><td>14.0                     </td><td> 60                      </td><td>1                        </td><td>1                        </td><td>1                        </td><td>Arctic_Fox               </td></tr>\n\t<tr><td> NA                      </td><td> NA                      </td><td>16.5                     </td><td>   0.920                 </td><td>   5.7                   </td><td>  NA                     </td><td> 25                      </td><td>5                        </td><td>2                        </td><td>3                        </td><td>Arctic_ground_squirrel   </td></tr>\n\t<tr><td>2.1                      </td><td>1.8                      </td><td> 3.9                     </td><td>2547.000                 </td><td>4603.0                   </td><td>69.0                     </td><td>624                      </td><td>3                        </td><td>5                        </td><td>4                        </td><td>Asian_elephant           </td></tr>\n\t<tr><td>9.1                      </td><td>0.7                      </td><td> 9.8                     </td><td>  10.550                 </td><td> 179.5                   </td><td>27.0                     </td><td>180                      </td><td>4                        </td><td>4                        </td><td>4                        </td><td>Baboon                   </td></tr>\n</tbody>\n</table>\n", 
                        "text/latex": "\\begin{tabular}{r|lllllllllll}\n SWS & PS & TS & PesoCuerpo & PesoCerebro & Life & GP & P & SE & D & Especie\\\\\n\\hline\n\t  NA                         &  NA                         &  3.3                        & 6654.000                    & 5712.0                      & 38.6                        & 645                         & 3                           & 5                           & 3                           & African\\_elephant         \\\\\n\t 6.3                             & 2.0                             &  8.3                            &    1.000                        &    6.6                          &  4.5                            &  42                             & 3                               & 1                               & 3                               & African\\_giant\\_pouched\\_rat\\\\\n\t  NA                         &  NA                         & 12.5                        &    3.385                    &   44.5                      & 14.0                        &  60                         & 1                           & 1                           & 1                           & Arctic\\_Fox               \\\\\n\t  NA                           &  NA                           & 16.5                          &    0.920                      &    5.7                        &   NA                          &  25                           & 5                             & 2                             & 3                             & Arctic\\_ground\\_squirrel   \\\\\n\t 2.1                         & 1.8                         &  3.9                        & 2547.000                    & 4603.0                      & 69.0                        & 624                         & 3                           & 5                           & 4                           & Asian\\_elephant           \\\\\n\t 9.1                       & 0.7                       &  9.8                      &   10.550                  &  179.5                    & 27.0                      & 180                       & 4                         & 4                         & 4                         & Baboon                   \\\\\n\\end{tabular}\n", 
                        "text/markdown": "\nSWS | PS | TS | PesoCuerpo | PesoCerebro | Life | GP | P | SE | D | Especie | \n|---|---|---|---|---|---|\n|  NA                       |  NA                       |  3.3                      | 6654.000                  | 5712.0                    | 38.6                      | 645                       | 3                         | 5                         | 3                         | African_elephant          | \n| 6.3                       | 2.0                       |  8.3                      |    1.000                  |    6.6                    |  4.5                      |  42                       | 3                         | 1                         | 3                         | African_giant_pouched_rat | \n|  NA                       |  NA                       | 12.5                      |    3.385                  |   44.5                    | 14.0                      |  60                       | 1                         | 1                         | 1                         | Arctic_Fox                | \n|  NA                       |  NA                       | 16.5                      |    0.920                  |    5.7                    |   NA                      |  25                       | 5                         | 2                         | 3                         | Arctic_ground_squirrel    | \n| 2.1                       | 1.8                       |  3.9                      | 2547.000                  | 4603.0                    | 69.0                      | 624                       | 3                         | 5                         | 4                         | Asian_elephant            | \n| 9.1                       | 0.7                       |  9.8                      |   10.550                  |  179.5                    | 27.0                      | 180                       | 4                         | 4                         | 4                         | Baboon                    | \n\n\n", 
                        "text/plain": "  SWS PS  TS   PesoCuerpo PesoCerebro Life GP  P SE D Especie                  \n1  NA  NA  3.3 6654.000   5712.0      38.6 645 3 5  3 African_elephant         \n2 6.3 2.0  8.3    1.000      6.6       4.5  42 3 1  3 African_giant_pouched_rat\n3  NA  NA 12.5    3.385     44.5      14.0  60 1 1  1 Arctic_Fox               \n4  NA  NA 16.5    0.920      5.7        NA  25 5 2  3 Arctic_ground_squirrel   \n5 2.1 1.8  3.9 2547.000   4603.0      69.0 624 3 5  4 Asian_elephant           \n6 9.1 0.7  9.8   10.550    179.5      27.0 180 4 4  4 Baboon                   "
                    }, 
                    "metadata": {}
                }
            ], 
            "source": "########### FACTOR ################\nMamiferos.data <- read.table(file = \"http://tarwi.lamolina.edu.pe/~clopez/Regresion/Mamiferos.txt\", header = T)\nattach(Mamiferos.data)\nhead(Mamiferos.data)\n"
        }, 
        {
            "execution_count": 2, 
            "cell_type": "code", 
            "metadata": {}, 
            "outputs": [
                {
                    "output_type": "display_data", 
                    "data": {
                        "image/png": "[encoded data removed]", 
                        "text/plain": "plot without title"
                    }, 
                    "metadata": {}
                }
            ], 
            "source": "# Graficamos los datos\nplot(D, TS, xlab = \"Indice de peligro\", ylab = \"Total horas de sue\u00f1o\")"
        }, 
        {
            "execution_count": 3, 
            "cell_type": "code", 
            "metadata": {}, 
            "outputs": [], 
            "source": "# Convertimos la variable D como FACTOR\nD <- as.factor(D)"
        }, 
        {
            "execution_count": 4, 
            "cell_type": "code", 
            "metadata": {}, 
            "outputs": [
                {
                    "output_type": "display_data", 
                    "data": {
                        "text/html": "<dl class=dl-horizontal>\n\t<dt>(Intercept)</dt>\n\t\t<dd>13.0833333333333</dd>\n\t<dt>D2</dt>\n\t\t<dd>-1.33333333333333</dd>\n\t<dt>D3</dt>\n\t\t<dd>-2.77333333333334</dd>\n\t<dt>D4</dt>\n\t\t<dd>-4.27222222222222</dd>\n\t<dt>D5</dt>\n\t\t<dd>-9.01190476190476</dd>\n</dl>\n", 
                        "text/latex": "\\begin{description*}\n\\item[(Intercept)] 13.0833333333333\n\\item[D2] -1.33333333333333\n\\item[D3] -2.77333333333334\n\\item[D4] -4.27222222222222\n\\item[D5] -9.01190476190476\n\\end{description*}\n", 
                        "text/markdown": "(Intercept)\n:   13.0833333333333D2\n:   -1.33333333333333D3\n:   -2.77333333333334D4\n:   -4.27222222222222D5\n:   -9.01190476190476\n\n", 
                        "text/plain": "(Intercept)          D2          D3          D4          D5 \n  13.083333   -1.333333   -2.773333   -4.272222   -9.011905 "
                    }, 
                    "metadata": {}
                }
            ], 
            "source": "# Calculamos los valores de D\nMamiferos.m1 <- lm(TS ~ D)\ncoef(Mamiferos.m1)"
        }, 
        {
            "execution_count": 6, 
            "cell_type": "code", 
            "metadata": {}, 
            "outputs": [
                {
                    "output_type": "display_data", 
                    "data": {
                        "text/html": "<strong>1:</strong> 13.0833333333333", 
                        "text/latex": "\\textbf{1:} 13.0833333333333", 
                        "text/markdown": "**1:** 13.0833333333333", 
                        "text/plain": "       1 \n13.08333 "
                    }, 
                    "metadata": {}
                }
            ], 
            "source": "# El modelo seria\n#         TS = 13.083 -1.333*D2 -2.773*D3 -4.272*D4 - 9.012*D5\n\n# Calculemos el valor de TS para D=1  --- TS es Muy poco\npredict(Mamiferos.m1, data.frame(D=\"1\"))"
        }, 
        {
            "execution_count": 7, 
            "cell_type": "code", 
            "metadata": {}, 
            "outputs": [
                {
                    "output_type": "display_data", 
                    "data": {
                        "text/html": "<strong>1:</strong> 11.75", 
                        "text/latex": "\\textbf{1:} 11.75", 
                        "text/markdown": "**1:** 11.75", 
                        "text/plain": "    1 \n11.75 "
                    }, 
                    "metadata": {}
                }
            ], 
            "source": "# Calculemos el valor de TS para D=2  -- TS es Poco\npredict(Mamiferos.m1, data.frame(D=\"2\"))"
        }, 
        {
            "execution_count": 8, 
            "cell_type": "code", 
            "metadata": {}, 
            "outputs": [
                {
                    "output_type": "display_data", 
                    "data": {
                        "text/html": "<dl class=dl-horizontal>\n\t<dt>D1</dt>\n\t\t<dd>13.0833333333333</dd>\n\t<dt>D2</dt>\n\t\t<dd>11.75</dd>\n\t<dt>D3</dt>\n\t\t<dd>10.31</dd>\n\t<dt>D4</dt>\n\t\t<dd>8.81111111111111</dd>\n\t<dt>D5</dt>\n\t\t<dd>4.07142857142857</dd>\n</dl>\n", 
                        "text/latex": "\\begin{description*}\n\\item[D1] 13.0833333333333\n\\item[D2] 11.75\n\\item[D3] 10.31\n\\item[D4] 8.81111111111111\n\\item[D5] 4.07142857142857\n\\end{description*}\n", 
                        "text/markdown": "D1\n:   13.0833333333333D2\n:   11.75D3\n:   10.31D4\n:   8.81111111111111D5\n:   4.07142857142857\n\n", 
                        "text/plain": "       D1        D2        D3        D4        D5 \n13.083333 11.750000 10.310000  8.811111  4.071429 "
                    }, 
                    "metadata": {}
                }
            ], 
            "source": "# Creamos el mismo modelo sin intercepto\n#\nMamiferos.m2 <- lm(TS ~ -1 + D)\ncoef(Mamiferos.m2)\n"
        }, 
        {
            "execution_count": null, 
            "cell_type": "code", 
            "metadata": {}, 
            "outputs": [], 
            "source": "# El modelo seria\n#         TS = 13.083*D1 +1.75*D2 + 10.31*D3 + 8.811*D4 + 4.071*D5\n\n# si tenemos un interceptos en el modelo tiene ventaja, tendrias el coeficiente de determinacion, \n# los residuales no tendrian el comportamiento normal\n# se recomienda sacrificar un variable dummy para que exista el intercepto."
        }, 
        {
            "execution_count": 9, 
            "cell_type": "code", 
            "metadata": {}, 
            "outputs": [
                {
                    "output_type": "display_data", 
                    "data": {
                        "image/png": "[encoded data removed]", 
                        "text/plain": "plot without title"
                    }, 
                    "metadata": {}
                }
            ], 
            "source": "# Creamos una variable de cajas para la\n# columna PesoCuerpo\n\nboxplot(PesoCuerpo)\n\n# Se observa que la  la dispersion es demasiado notoria"
        }, 
        {
            "execution_count": 10, 
            "cell_type": "code", 
            "metadata": {}, 
            "outputs": [
                {
                    "output_type": "display_data", 
                    "data": {
                        "image/png": "[encoded data removed]", 
                        "text/plain": "plot without title"
                    }, 
                    "metadata": {}
                }
            ], 
            "source": "# Aplicamos el logaritmo en base 2\n\nx <- logb(PesoCuerpo,2)\nboxplot(x)\n\n# Se observa una distribucion mas equilibrada"
        }, 
        {
            "execution_count": 11, 
            "cell_type": "code", 
            "metadata": {}, 
            "outputs": [
                {
                    "output_type": "display_data", 
                    "data": {
                        "text/html": "<dl class=dl-horizontal>\n\t<dt>(Intercept)</dt>\n\t\t<dd>13.8681822252944</dd>\n\t<dt>D2</dt>\n\t\t<dd>-2.35924292204143</dd>\n\t<dt>D3</dt>\n\t\t<dd>-3.50086642039418</dd>\n\t<dt>D4</dt>\n\t\t<dd>-4.22738075096682</dd>\n\t<dt>D5</dt>\n\t\t<dd>-7.03108292409256</dd>\n\t<dt>x</dt>\n\t\t<dd>-0.40274346135445</dd>\n\t<dt>D2:x</dt>\n\t\t<dd>-0.0238854855652957</dd>\n\t<dt>D3:x</dt>\n\t\t<dd>-0.238695761615775</dd>\n\t<dt>D4:x</dt>\n\t\t<dd>0.117602386344906</dd>\n\t<dt>D5:x</dt>\n\t\t<dd>-0.0668054495602655</dd>\n</dl>\n", 
                        "text/latex": "\\begin{description*}\n\\item[(Intercept)] 13.8681822252944\n\\item[D2] -2.35924292204143\n\\item[D3] -3.50086642039418\n\\item[D4] -4.22738075096682\n\\item[D5] -7.03108292409256\n\\item[x] -0.40274346135445\n\\item[D2:x] -0.0238854855652957\n\\item[D3:x] -0.238695761615775\n\\item[D4:x] 0.117602386344906\n\\item[D5:x] -0.0668054495602655\n\\end{description*}\n", 
                        "text/markdown": "(Intercept)\n:   13.8681822252944D2\n:   -2.35924292204143D3\n:   -3.50086642039418D4\n:   -4.22738075096682D5\n:   -7.03108292409256x\n:   -0.40274346135445D2:x\n:   -0.0238854855652957D3:x\n:   -0.238695761615775D4:x\n:   0.117602386344906D5:x\n:   -0.0668054495602655\n\n", 
                        "text/plain": "(Intercept)          D2          D3          D4          D5           x \n13.86818223 -2.35924292 -3.50086642 -4.22738075 -7.03108292 -0.40274346 \n       D2:x        D3:x        D4:x        D5:x \n-0.02388549 -0.23869576  0.11760239 -0.06680545 "
                    }, 
                    "metadata": {}
                }
            ], 
            "source": "############################################################\n#                 Modelo 1 : \"Mas General\"\n#   Es un conjuntos de rectas que es empaquetado en \n#    una sola ecuaci\u00f3n\n############################################################\n\nx <- logb(PesoCuerpo,2) ## ya se habia calculado, se vuelve a usar\nMamiferos.n1 <- lm(TS ~ D + D*x)\ncoef(Mamiferos.n1)"
        }, 
        {
            "execution_count": 12, 
            "cell_type": "code", 
            "metadata": {}, 
            "outputs": [
                {
                    "output_type": "display_data", 
                    "data": {
                        "text/html": "<strong>1:</strong> 9.3757945686542", 
                        "text/latex": "\\textbf{1:} 9.3757945686542", 
                        "text/markdown": "**1:** 9.3757945686542", 
                        "text/plain": "       1 \n9.375795 "
                    }, 
                    "metadata": {}
                }
            ], 
            "source": "#\n# TS = 13.86818223 - 2.359242922*D2 - 3.50086642*D3 - 4.227380751*D4 - 7.031082924*D5 - 0.402743461*x\n#     - 0.023885486*D2*x - 0.238695762*D3*x + 0.117602386*D4*x - 0.06680545*D5*x\n#\n# D = 1  ==>  TS = 13.86818223 - 0.402743461*x\n#\n#\n#\n# El modelo tiene 10 parametros estimados\n\n# Para predecir un valor\npredict(Mamiferos.n1, data.frame(D=\"2\", x=5))"
        }, 
        {
            "execution_count": 13, 
            "cell_type": "code", 
            "metadata": {}, 
            "outputs": [
                {
                    "output_type": "display_data", 
                    "data": {
                        "text/html": "<dl class=dl-horizontal>\n\t<dt>(Intercept)</dt>\n\t\t<dd>13.9325020014493</dd>\n\t<dt>D2</dt>\n\t\t<dd>-2.42871586251691</dd>\n\t<dt>D3</dt>\n\t\t<dd>-3.58356564641954</dd>\n\t<dt>D4</dt>\n\t\t<dd>-3.85346849289951</dd>\n\t<dt>D5</dt>\n\t\t<dd>-7.29448609909114</dd>\n\t<dt>x</dt>\n\t\t<dd>-0.435749011273047</dd>\n</dl>\n", 
                        "text/latex": "\\begin{description*}\n\\item[(Intercept)] 13.9325020014493\n\\item[D2] -2.42871586251691\n\\item[D3] -3.58356564641954\n\\item[D4] -3.85346849289951\n\\item[D5] -7.29448609909114\n\\item[x] -0.435749011273047\n\\end{description*}\n", 
                        "text/markdown": "(Intercept)\n:   13.9325020014493D2\n:   -2.42871586251691D3\n:   -3.58356564641954D4\n:   -3.85346849289951D5\n:   -7.29448609909114x\n:   -0.435749011273047\n\n", 
                        "text/plain": "(Intercept)          D2          D3          D4          D5           x \n  13.932502   -2.428716   -3.583566   -3.853468   -7.294486   -0.435749 "
                    }, 
                    "metadata": {}
                }
            ], 
            "source": "############################################################\n#                 Modelo 2: \"Rectas Paralelas\"\n#   Es un conjuntos de rectas que es empaquetado en \n#   una sola ecuaci\u00f3n, pero tienen la misma pendiente\n############################################################\nMamiferos.n2 <- lm(TS ~ D + x)\ncoef(Mamiferos.n2)\n"
        }, 
        {
            "execution_count": null, 
            "cell_type": "code", 
            "metadata": {}, 
            "outputs": [], 
            "source": "#\n# TS = 13.9325020014493 -2.42871586251691*D2 - 3.58356564641954*D3 - 3.85346849289951*D4 - 7.29448609909114*D5 - 0.435749011273047*x\n#\n#  D = 1    ==> TS = 13.9325020014493                      - 0.435749011273047*x\n#  D = 2    ==> TS = (13.9325020014493 - 2.42871586251691) - 0.435749011273047*x\n#  D = 3    ==> TS = (13.9325020014493 - 3.58356564641954) - 0.435749011273047*x\n#  D = 4    ==> TS = (13.9325020014493 - 3.85346849289951) - 0.435749011273047*x\n#  D = 4    ==> TS = (13.9325020014493 - 7.29448609909114) - 0.435749011273047*x\n#\n\n"
        }, 
        {
            "execution_count": 14, 
            "cell_type": "code", 
            "metadata": {}, 
            "outputs": [
                {
                    "output_type": "display_data", 
                    "data": {
                        "text/html": "<dl class=dl-horizontal>\n\t<dt>(Intercept)</dt>\n\t\t<dd>11.6258528797202</dd>\n\t<dt>x</dt>\n\t\t<dd>-0.200472438216469</dd>\n\t<dt>x:D2</dt>\n\t\t<dd>-0.210576066788876</dd>\n\t<dt>x:D3</dt>\n\t\t<dd>-0.44587692380633</dd>\n\t<dt>x:D4</dt>\n\t\t<dd>-0.244139056297243</dd>\n\t<dt>x:D5</dt>\n\t\t<dd>-0.949116768310321</dd>\n</dl>\n", 
                        "text/latex": "\\begin{description*}\n\\item[(Intercept)] 11.6258528797202\n\\item[x] -0.200472438216469\n\\item[x:D2] -0.210576066788876\n\\item[x:D3] -0.44587692380633\n\\item[x:D4] -0.244139056297243\n\\item[x:D5] -0.949116768310321\n\\end{description*}\n", 
                        "text/markdown": "(Intercept)\n:   11.6258528797202x\n:   -0.200472438216469x:D2\n:   -0.210576066788876x:D3\n:   -0.44587692380633x:D4\n:   -0.244139056297243x:D5\n:   -0.949116768310321\n\n", 
                        "text/plain": "(Intercept)           x        x:D2        x:D3        x:D4        x:D5 \n 11.6258529  -0.2004724  -0.2105761  -0.4458769  -0.2441391  -0.9491168 "
                    }, 
                    "metadata": {}
                }
            ], 
            "source": "############################################################\n#                 Modelo 3: \"Intercepto Com\u00fan\"\n#   Es un conjuntos de rectas que es empaquetado en \n#   una sola ecuaci\u00f3n, pero tienen el mismo intercepto\n############################################################\nMamiferos.n3 <- lm(TS ~ x + x:D)\ncoef(Mamiferos.n3)"
        }, 
        {
            "execution_count": null, 
            "cell_type": "code", 
            "metadata": {}, 
            "outputs": [], 
            "source": "#\n# TS = 11.6258528797202 -0.200472438216469*x - 0.210576066788876*x*D2 - 0.44587692380633*x*D3 - 0.244139056297243*x*D4 - 0.949116768310321*x*D5\n#\n#  D = 1    ==> TS = 11.6258528797202 - (0.200472438216469)*x\n#  D = 2    ==> TS = 11.6258528797202 - (0.200472438216469 + 0.210576066788876)*x\n#  D = 3    ==> TS = 11.6258528797202 - (0.200472438216469 + 0.44587692380633)*x\n#  D = 4    ==> TS = 11.6258528797202 - (0.200472438216469 + 0.244139056297243)*x\n#  D = 4    ==> TS = 11.6258528797202 - (0.200472438216469 + 0.949116768310321)*x\n#"
        }, 
        {
            "execution_count": 15, 
            "cell_type": "code", 
            "metadata": {}, 
            "outputs": [
                {
                    "output_type": "display_data", 
                    "data": {
                        "text/html": "<dl class=dl-horizontal>\n\t<dt>(Intercept)</dt>\n\t\t<dd>11.4377412358963</dd>\n\t<dt>x</dt>\n\t\t<dd>-0.549744647364136</dd>\n</dl>\n", 
                        "text/latex": "\\begin{description*}\n\\item[(Intercept)] 11.4377412358963\n\\item[x] -0.549744647364136\n\\end{description*}\n", 
                        "text/markdown": "(Intercept)\n:   11.4377412358963x\n:   -0.549744647364136\n\n", 
                        "text/plain": "(Intercept)           x \n 11.4377412  -0.5497446 "
                    }, 
                    "metadata": {}
                }
            ], 
            "source": "############################################################\n#       Modelo 4: \"L\u00edneas de regresi\u00f3n coincidentes\"\n#   Es un conjuntos de rectas que es empaquetado en \n#   una sola ecuaci\u00f3n, pero tienen la misma \n#   pendiente e intercepto\n############################################################\nMamiferos.n4 <- lm(TS ~ x )\ncoef(Mamiferos.n4)"
        }, 
        {
            "execution_count": null, 
            "cell_type": "code", 
            "metadata": {}, 
            "outputs": [], 
            "source": "#\n# D = 1,2,3,4,5 ==> TS = 11.4377412358963 -0.549744647364136*x\n#\n\n# Los modelos que tiene indicadores no se pueden comparar con la funcion ANOVA, no es recomendable\n# porque en el ANOVA se compara modelos que contienen a otros, para este caso concreto no necesariamente\n# los modelos estan contenidos en otros."
        }, 
        {
            "execution_count": 19, 
            "cell_type": "code", 
            "metadata": {}, 
            "outputs": [
                {
                    "output_type": "display_data", 
                    "data": {
                        "text/html": "'AIC(Mamiferos.n1) = 318.673891'", 
                        "text/latex": "'AIC(Mamiferos.n1) = 318.673891'", 
                        "text/markdown": "'AIC(Mamiferos.n1) = 318.673891'", 
                        "text/plain": "[1] \"AIC(Mamiferos.n1) = 318.673891\""
                    }, 
                    "metadata": {}
                }, 
                {
                    "output_type": "display_data", 
                    "data": {
                        "text/html": "'AIC(Mamiferos.n2) = 312.268324'", 
                        "text/latex": "'AIC(Mamiferos.n2) = 312.268324'", 
                        "text/markdown": "'AIC(Mamiferos.n2) = 312.268324'", 
                        "text/plain": "[1] \"AIC(Mamiferos.n2) = 312.268324\""
                    }, 
                    "metadata": {}
                }, 
                {
                    "output_type": "display_data", 
                    "data": {
                        "text/html": "'AIC(Mamiferos.n3) = 323.835050'", 
                        "text/latex": "'AIC(Mamiferos.n3) = 323.835050'", 
                        "text/markdown": "'AIC(Mamiferos.n3) = 323.835050'", 
                        "text/plain": "[1] \"AIC(Mamiferos.n3) = 323.835050\""
                    }, 
                    "metadata": {}
                }, 
                {
                    "output_type": "display_data", 
                    "data": {
                        "text/html": "'AIC(Mamiferos.n4) = 327.411757'", 
                        "text/latex": "'AIC(Mamiferos.n4) = 327.411757'", 
                        "text/markdown": "'AIC(Mamiferos.n4) = 327.411757'", 
                        "text/plain": "[1] \"AIC(Mamiferos.n4) = 327.411757\""
                    }, 
                    "metadata": {}
                }
            ], 
            "source": "#############################################################\n#  Comparaci\u00f3n de modelos con parametros\n#  Se usa el indicador AIC : Criterio de informaci\u00f3n de Akaite\n#  El mejor modelo es el que tiene el menor valor para \n#  este indicador\n#############################################################\n\nsprintf(\"AIC(Mamiferos.n1) = %f\", AIC(Mamiferos.n1))\nsprintf(\"AIC(Mamiferos.n2) = %f\", AIC(Mamiferos.n2))\nsprintf(\"AIC(Mamiferos.n3) = %f\", AIC(Mamiferos.n3))\nsprintf(\"AIC(Mamiferos.n4) = %f\", AIC(Mamiferos.n4))\n"
        }, 
        {
            "execution_count": 20, 
            "cell_type": "code", 
            "metadata": {}, 
            "outputs": [
                {
                    "output_type": "display_data", 
                    "data": {
                        "text/plain": "\nCall:\nlm(formula = TS ~ D + x)\n\nResiduals:\n    Min      1Q  Median      3Q     Max \n-7.6165 -1.8447 -0.0214  1.9043  6.7414 \n\nCoefficients:\n            Estimate Std. Error t value Pr(>|t|)    \n(Intercept)  13.9325     0.8173  17.046  < 2e-16 ***\nD2           -2.4287     1.2238  -1.985 0.052479 .  \nD3           -3.5836     1.3347  -2.685 0.009714 ** \nD4           -3.8535     1.3691  -2.815 0.006879 ** \nD5           -7.2945     1.5525  -4.699 1.96e-05 ***\nx            -0.4357     0.1113  -3.914 0.000266 ***\n---\nSignif. codes:  0 \u2018***\u2019 0.001 \u2018**\u2019 0.01 \u2018*\u2019 0.05 \u2018.\u2019 0.1 \u2018 \u2019 1\n\nResidual standard error: 3.343 on 52 degrees of freedom\n  (4 observations deleted due to missingness)\nMultiple R-squared:  0.5195,\tAdjusted R-squared:  0.4733 \nF-statistic: 11.25 on 5 and 52 DF,  p-value: 2.23e-07\n"
                    }, 
                    "metadata": {}
                }
            ], 
            "source": "# El modelo adecuado es el Modelo Paralelo porque el valor de \n# AIC es el menor, pero no es el mejor, se debe calcular el \n# coeficiente de determinacion.\n\n# Calcular el coeficiente de determinaci\u00f3n\nsummary(Mamiferos.n2)\n"
        }, 
        {
            "execution_count": null, 
            "cell_type": "code", 
            "metadata": {}, 
            "outputs": [], 
            "source": "# Multiple R-squared:  0.5195, ==> UN VALOR ADECUADO SERIA MAYOR A 0.75"
        }, 
        {
            "execution_count": null, 
            "cell_type": "code", 
            "metadata": {}, 
            "outputs": [], 
            "source": "#############################################################\n#  Consideraciones para la comparaci\u00f3n de modelos\n#                                                         \n#  1.- Si tiene el mismo n\u00famero de parametros \n#      se usa el \"R cuadrado\"\n#  \n#  2.- Si se tiene diferente n\u00fameros de parametros\n#      \"R cuadrado ajustado\"  --> el mejor modelo es que\n#                                  el tiene el mayor valor\n#\n#      AIC, BIC, Cp, etc      --> el mejor modelo es el \n#                                 que tiene el menor valor\n#############################################################"
        }, 
        {
            "execution_count": 21, 
            "cell_type": "code", 
            "metadata": {}, 
            "outputs": [
                {
                    "output_type": "display_data", 
                    "data": {
                        "text/plain": "\nCall:\nlm(formula = TS ~ D)\n\nCoefficients:\n(Intercept)           D2           D3           D4           D5  \n     13.083       -1.333       -2.773       -4.272       -9.012  \n"
                    }, 
                    "metadata": {}
                }
            ], 
            "source": "# Cambiar la categoria referencial\nm1 <- lm(TS ~ D)\nm1"
        }, 
        {
            "execution_count": 23, 
            "cell_type": "code", 
            "metadata": {}, 
            "outputs": [
                {
                    "output_type": "display_data", 
                    "data": {
                        "text/plain": "\nCall:\nlm(formula = TS ~ D)\n\nCoefficients:\n(Intercept)           D1           D3           D4           D5  \n     11.750        1.333       -1.440       -2.939       -7.679  \n"
                    }, 
                    "metadata": {}
                }
            ], 
            "source": "# Cambiamos el nivel referencial\n#\nD <- relevel(D, ref=\"2\")\n\n# Volvemos a generar el modelo\nm1 <- lm(TS ~ D)\nm1"
        }, 
        {
            "execution_count": 24, 
            "cell_type": "code", 
            "metadata": {}, 
            "outputs": [
                {
                    "output_type": "display_data", 
                    "data": {
                        "text/plain": "\nCall:\nlm(formula = TS ~ D)\n\nCoefficients:\n(Intercept)           D2           D3           D4           D5  \n     13.083       -1.333       -2.773       -4.272       -9.012  \n"
                    }, 
                    "metadata": {}
                }
            ], 
            "source": "# Volvemos a su nivel original\n#\nD <- relevel(D, ref=\"1\")\n\n# Volvemos a generar el modelo\nm1 <- lm(TS ~ D)\nm1"
        }
    ], 
    "metadata": {
        "kernelspec": {
            "display_name": "R", 
            "name": "r", 
            "language": "R"
        }, 
        "language_info": {
            "mimetype": "text/x-r-source", 
            "version": "3.4.2", 
            "name": "R", 
            "pygments_lexer": "r", 
            "file_extension": ".r", 
            "codemirror_mode": "r"
        }
    }, 
    "nbformat": 4
}