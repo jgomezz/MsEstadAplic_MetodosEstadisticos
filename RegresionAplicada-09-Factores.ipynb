{
    "nbformat_minor": 0, 
    "cells": [
        {
            "execution_count": null, 
            "cell_type": "code", 
            "metadata": {
                "collapsed": true
            }, 
            "outputs": [], 
            "source": ""
        }
    ], 
    "metadata": {
        "kernelspec": {
            "name": "R", 
            "language": "R"
        }
    }, 
    "nbformat": 4
}