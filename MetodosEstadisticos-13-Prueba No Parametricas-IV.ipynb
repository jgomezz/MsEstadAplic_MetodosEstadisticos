{
    "nbformat_minor": 1, 
    "cells": [
        {
            "execution_count": 1, 
            "cell_type": "code", 
            "metadata": {}, 
            "outputs": [], 
            "source": "#########################################\n## Curso : Metodos Estadisticos\n## Semana : 13\n## Tema : Pruebas no parametricas\n#########################################\n\n#                          EJERCICIO \n# 14) Si la variabilidad del tiempo que se demora en ser atendido en la\n# municipalidad cuando va a pagar sus impuestos es diferente en al\n# menos uno de los distritos en estudio\n\n# VARIABILIDAD ES LA DISPERSION\n\nFILE2_URL <- \"https://raw.githubusercontent.com/jgomezz/MsEstadAplic_MetodosEstadisticos/master/data/metodos_estadisticos/semana-11/ANSI/Caso_D.csv\"\nFILE2_ENCONDING <- \"ISO-8859-1\"\n\n# Read file\nMuni.data <- read.csv(FILE2_URL, fileEncoding = FILE2_ENCONDING)"
        }, 
        {
            "execution_count": 2, 
            "cell_type": "code", 
            "metadata": {}, 
            "outputs": [
                {
                    "output_type": "display_data", 
                    "data": {
                        "text/html": "<table>\n<thead><tr><th scope=col>Distrito</th><th scope=col>G\u00e9nero</th><th scope=col>Pago.2014</th><th scope=col>Pago.2015</th><th scope=col>Robos</th><th scope=col>Atenci\u00f3n</th><th scope=col>Opini\u00f3n</th></tr></thead>\n<tbody>\n\t<tr><td>Comas    </td><td>Femenino </td><td>148.0    </td><td>167.3    </td><td> 8       </td><td>46.2     </td><td>Muy Buena</td></tr>\n\t<tr><td>Comas    </td><td>Femenino </td><td>159.4    </td><td>163.8    </td><td> 2       </td><td>33.3     </td><td>Excelente</td></tr>\n\t<tr><td>Comas    </td><td>Femenino </td><td>151.4    </td><td>158.6    </td><td> 8       </td><td>13.7     </td><td>P\u00e9sima   </td></tr>\n\t<tr><td>Comas    </td><td>Masculino</td><td>145.1    </td><td>160.1    </td><td> 5       </td><td> 6.0     </td><td>Excelente</td></tr>\n\t<tr><td>Comas    </td><td>Femenino </td><td>147.0    </td><td>158.4    </td><td> 8       </td><td>16.1     </td><td>P\u00e9sima   </td></tr>\n\t<tr><td>Comas    </td><td>Masculino</td><td>145.2    </td><td>161.6    </td><td>12       </td><td>18.3     </td><td>Regular  </td></tr>\n</tbody>\n</table>\n", 
                        "text/latex": "\\begin{tabular}{r|lllllll}\n Distrito & G\u00e9nero & Pago.2014 & Pago.2015 & Robos & Atenci\u00f3n & Opini\u00f3n\\\\\n\\hline\n\t Comas     & Femenino  & 148.0     & 167.3     &  8        & 46.2      & Muy Buena\\\\\n\t Comas     & Femenino  & 159.4     & 163.8     &  2        & 33.3      & Excelente\\\\\n\t Comas     & Femenino  & 151.4     & 158.6     &  8        & 13.7      & P\u00e9sima   \\\\\n\t Comas     & Masculino & 145.1     & 160.1     &  5        &  6.0      & Excelente\\\\\n\t Comas     & Femenino  & 147.0     & 158.4     &  8        & 16.1      & P\u00e9sima   \\\\\n\t Comas     & Masculino & 145.2     & 161.6     & 12        & 18.3      & Regular  \\\\\n\\end{tabular}\n", 
                        "text/markdown": "\nDistrito | G\u00e9nero | Pago.2014 | Pago.2015 | Robos | Atenci\u00f3n | Opini\u00f3n | \n|---|---|---|---|---|---|\n| Comas     | Femenino  | 148.0     | 167.3     |  8        | 46.2      | Muy Buena | \n| Comas     | Femenino  | 159.4     | 163.8     |  2        | 33.3      | Excelente | \n| Comas     | Femenino  | 151.4     | 158.6     |  8        | 13.7      | P\u00e9sima    | \n| Comas     | Masculino | 145.1     | 160.1     |  5        |  6.0      | Excelente | \n| Comas     | Femenino  | 147.0     | 158.4     |  8        | 16.1      | P\u00e9sima    | \n| Comas     | Masculino | 145.2     | 161.6     | 12        | 18.3      | Regular   | \n\n\n", 
                        "text/plain": "  Distrito G\u00e9nero    Pago.2014 Pago.2015 Robos Atenci\u00f3n Opini\u00f3n  \n1 Comas    Femenino  148.0     167.3      8    46.2     Muy Buena\n2 Comas    Femenino  159.4     163.8      2    33.3     Excelente\n3 Comas    Femenino  151.4     158.6      8    13.7     P\u00e9sima   \n4 Comas    Masculino 145.1     160.1      5     6.0     Excelente\n5 Comas    Femenino  147.0     158.4      8    16.1     P\u00e9sima   \n6 Comas    Masculino 145.2     161.6     12    18.3     Regular  "
                    }, 
                    "metadata": {}
                }
            ], 
            "source": "head(Muni.data)"
        }, 
        {
            "execution_count": 3, 
            "cell_type": "code", 
            "metadata": {}, 
            "outputs": [
                {
                    "output_type": "stream", 
                    "name": "stderr", 
                    "text": "also installing the dependencies \u2018Kendall\u2019, \u2018VGAM\u2019\n\nUpdating HTML index of packages in '.Library'\nMaking 'packages.html' ... done\nLoading required package: Kendall\nLoading required package: mvtnorm\nLoading required package: VGAM\nLoading required package: stats4\nLoading required package: splines\n"
                }
            ], 
            "source": "######################\n# Prueba de Levene\n######################\ninstall.packages(\"lawstat\")\nlibrary(lawstat)\n"
        }, 
        {
            "execution_count": 5, 
            "cell_type": "code", 
            "metadata": {}, 
            "outputs": [
                {
                    "output_type": "display_data", 
                    "data": {
                        "text/plain": "\n\tmodified robust Brown-Forsythe Levene-type test based on the absolute\n\tdeviations from the median\n\ndata:  Muni.data[, \"Atenci\u00f3n\"]\nTest Statistic = 3.1896, p-value = 0.04479\n"
                    }, 
                    "metadata": {}
                }
            ], 
            "source": "# la mediana no se ve afectado por los valores extremos\n# la media si se ve afectado por los valores extremos\n\nlevene.test(Muni.data[,\"Atenci\u00f3n\"], Muni.data[,\"Distrito\"], location=\"median\")      # mediana \n#levene.test(muni[,6], muni[,1], location=\"mean\")        # media\n#levene.test(muni[,6], muni[,1], location=\"trim.mean\")   # media podada"
        }, 
        {
            "execution_count": 7, 
            "cell_type": "code", 
            "metadata": {}, 
            "outputs": [
                {
                    "output_type": "display_data", 
                    "data": {
                        "image/png": "[encoded data removed]", 
                        "text/plain": "plot without title"
                    }, 
                    "metadata": {}
                }
            ], 
            "source": "# se usa un diagrama de cajas\nboxplot(Muni.data[,\"Atenci\u00f3n\"]~ Muni.data[,\"Distrito\"])"
        }, 
        {
            "execution_count": 6, 
            "cell_type": "code", 
            "metadata": {
                "scrolled": true
            }, 
            "outputs": [
                {
                    "output_type": "display_data", 
                    "data": {
                        "text/plain": "\n\tFligner-Killeen test of homogeneity of variances\n\ndata:  Muni.data[, \"Atenci\u00f3n\"] and Muni.data[, \"Distrito\"]\nFligner-Killeen:med chi-squared = 10.016, df = 2, p-value = 0.006684\n"
                    }, 
                    "metadata": {}
                }
            ], 
            "source": "######################\n# Prueba de Fligner\n######################\nfligner.test(Muni.data[,\"Atenci\u00f3n\"], Muni.data[,\"Distrito\"])\n"
        }, 
        {
            "execution_count": 8, 
            "cell_type": "code", 
            "metadata": {}, 
            "outputs": [
                {
                    "output_type": "stream", 
                    "name": "stderr", 
                    "text": "Updating HTML index of packages in '.Library'\nMaking 'packages.html' ... done\n"
                }
            ], 
            "source": "######################\n# Prueba de Cochran\n######################\ninstall.packages(\"outliers\")\nlibrary(outliers)\n"
        }, 
        {
            "execution_count": 9, 
            "cell_type": "code", 
            "metadata": {}, 
            "outputs": [
                {
                    "output_type": "display_data", 
                    "data": {
                        "text/plain": "\n\tCochran test for outlying variance\n\ndata:  x ~ group\nC = 0.64334, df = 40, k = 3, p-value = 2.148e-06\nalternative hypothesis: Group San Mart\u00edn de Porras has outlying variance\nsample estimates:\n               Comas           Los Olivos San Mart\u00edn de Porras \n           165.14442             57.66731            401.91333 \n"
                    }, 
                    "metadata": {}
                }
            ], 
            "source": "x <- Muni.data[,\"Atenci\u00f3n\"]\nd <- data.frame(x=x, group=Muni.data[,\"Distrito\"] )\ncochran.test(x ~ group, d)   "
        }, 
        {
            "execution_count": 10, 
            "cell_type": "code", 
            "metadata": {}, 
            "outputs": [], 
            "source": "#\n#\n#   1) H0:   theta1 = theta2 = theta3 \u2026\u2026\u2026\u2026.. = thetak\n#      H1:  Al menos un thetai es diferente a los dem\u00e1s i = 1,2,3\u2026.,k\n#\n#   2) alfa = 0.05\n#\n#   3) p-valor\n#\n#            Prueba de Levene  =  0.04479 \n#            Prueba de Fligner =  0.006684\n#            Prueba de Cochran =  2.148e-06\n#\n#   4) Conclusi\u00f3n: A un alfa = 0.05, se puede afirmar que la variabilidad del tiempo de atenci\u00f3n\n#                  es diferente en al menos uno  de los distritos en evaluaci\u00f3n"
        }
    ], 
    "metadata": {
        "kernelspec": {
            "display_name": "R", 
            "name": "r", 
            "language": "R"
        }, 
        "language_info": {
            "mimetype": "text/x-r-source", 
            "version": "3.4.2", 
            "name": "R", 
            "pygments_lexer": "r", 
            "file_extension": ".r", 
            "codemirror_mode": "r"
        }
    }, 
    "nbformat": 4
}