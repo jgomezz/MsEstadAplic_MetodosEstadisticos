{
    "nbformat_minor": 1, 
    "cells": [
        {
            "execution_count": 1, 
            "cell_type": "code", 
            "metadata": {}, 
            "outputs": [], 
            "source": "#########################################\n## Curso : Metodos Estadisticos\n## Semana : 13\n## Tema : Pruebas no parametricas\n#########################################\n\nFILE2_URL <- \"https://raw.githubusercontent.com/jgomezz/MsEstadAplic_MetodosEstadisticos/master/data/metodos_estadisticos/semana-11/ANSI/Caso_D.csv\"\nFILE2_ENCONDING <- \"ISO-8859-1\"\n\n# Read file\nMuni.data <- read.csv(FILE2_URL, fileEncoding = FILE2_ENCONDING)"
        }, 
        {
            "execution_count": 2, 
            "cell_type": "code", 
            "metadata": {}, 
            "outputs": [
                {
                    "output_type": "display_data", 
                    "data": {
                        "text/html": "<table>\n<thead><tr><th scope=col>Distrito</th><th scope=col>G\u00e9nero</th><th scope=col>Pago.2014</th><th scope=col>Pago.2015</th><th scope=col>Robos</th><th scope=col>Atenci\u00f3n</th><th scope=col>Opini\u00f3n</th></tr></thead>\n<tbody>\n\t<tr><td>Comas    </td><td>Femenino </td><td>148.0    </td><td>167.3    </td><td> 8       </td><td>46.2     </td><td>Muy Buena</td></tr>\n\t<tr><td>Comas    </td><td>Femenino </td><td>159.4    </td><td>163.8    </td><td> 2       </td><td>33.3     </td><td>Excelente</td></tr>\n\t<tr><td>Comas    </td><td>Femenino </td><td>151.4    </td><td>158.6    </td><td> 8       </td><td>13.7     </td><td>P\u00e9sima   </td></tr>\n\t<tr><td>Comas    </td><td>Masculino</td><td>145.1    </td><td>160.1    </td><td> 5       </td><td> 6.0     </td><td>Excelente</td></tr>\n\t<tr><td>Comas    </td><td>Femenino </td><td>147.0    </td><td>158.4    </td><td> 8       </td><td>16.1     </td><td>P\u00e9sima   </td></tr>\n\t<tr><td>Comas    </td><td>Masculino</td><td>145.2    </td><td>161.6    </td><td>12       </td><td>18.3     </td><td>Regular  </td></tr>\n</tbody>\n</table>\n", 
                        "text/latex": "\\begin{tabular}{r|lllllll}\n Distrito & G\u00e9nero & Pago.2014 & Pago.2015 & Robos & Atenci\u00f3n & Opini\u00f3n\\\\\n\\hline\n\t Comas     & Femenino  & 148.0     & 167.3     &  8        & 46.2      & Muy Buena\\\\\n\t Comas     & Femenino  & 159.4     & 163.8     &  2        & 33.3      & Excelente\\\\\n\t Comas     & Femenino  & 151.4     & 158.6     &  8        & 13.7      & P\u00e9sima   \\\\\n\t Comas     & Masculino & 145.1     & 160.1     &  5        &  6.0      & Excelente\\\\\n\t Comas     & Femenino  & 147.0     & 158.4     &  8        & 16.1      & P\u00e9sima   \\\\\n\t Comas     & Masculino & 145.2     & 161.6     & 12        & 18.3      & Regular  \\\\\n\\end{tabular}\n", 
                        "text/markdown": "\nDistrito | G\u00e9nero | Pago.2014 | Pago.2015 | Robos | Atenci\u00f3n | Opini\u00f3n | \n|---|---|---|---|---|---|\n| Comas     | Femenino  | 148.0     | 167.3     |  8        | 46.2      | Muy Buena | \n| Comas     | Femenino  | 159.4     | 163.8     |  2        | 33.3      | Excelente | \n| Comas     | Femenino  | 151.4     | 158.6     |  8        | 13.7      | P\u00e9sima    | \n| Comas     | Masculino | 145.1     | 160.1     |  5        |  6.0      | Excelente | \n| Comas     | Femenino  | 147.0     | 158.4     |  8        | 16.1      | P\u00e9sima    | \n| Comas     | Masculino | 145.2     | 161.6     | 12        | 18.3      | Regular   | \n\n\n", 
                        "text/plain": "  Distrito G\u00e9nero    Pago.2014 Pago.2015 Robos Atenci\u00f3n Opini\u00f3n  \n1 Comas    Femenino  148.0     167.3      8    46.2     Muy Buena\n2 Comas    Femenino  159.4     163.8      2    33.3     Excelente\n3 Comas    Femenino  151.4     158.6      8    13.7     P\u00e9sima   \n4 Comas    Masculino 145.1     160.1      5     6.0     Excelente\n5 Comas    Femenino  147.0     158.4      8    16.1     P\u00e9sima   \n6 Comas    Masculino 145.2     161.6     12    18.3     Regular  "
                    }, 
                    "metadata": {}
                }
            ], 
            "source": "head(Muni.data)"
        }, 
        {
            "execution_count": null, 
            "cell_type": "code", 
            "metadata": {}, 
            "outputs": [
                {
                    "output_type": "stream", 
                    "name": "stderr", 
                    "text": "also installing the dependencies \u2018Kendall\u2019, \u2018VGAM\u2019\n\n"
                }
            ], 
            "source": "######################\n# Prueba de Levene\n######################\ninstall.packages(\"lawstat\")\nlibrary(lawstat)\n"
        }, 
        {
            "execution_count": null, 
            "cell_type": "code", 
            "metadata": {}, 
            "outputs": [], 
            "source": "levene.test(muni[,6], muni[,1], location=\"median\")      # mediana \nlevene.test(muni[,6], muni[,1], location=\"mean\")        # media\nlevene.test(muni[,6], muni[,1], location=\"trim.mean\")   # media podada"
        }
    ], 
    "metadata": {
        "kernelspec": {
            "display_name": "R", 
            "name": "r", 
            "language": "R"
        }, 
        "language_info": {
            "mimetype": "text/x-r-source", 
            "version": "3.4.2", 
            "name": "R", 
            "pygments_lexer": "r", 
            "file_extension": ".r", 
            "codemirror_mode": "r"
        }
    }, 
    "nbformat": 4
}