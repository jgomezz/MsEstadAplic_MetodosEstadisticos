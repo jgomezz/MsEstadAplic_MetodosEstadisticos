{
    "nbformat_minor": 1, 
    "cells": [
        {
            "execution_count": 17, 
            "cell_type": "code", 
            "metadata": {}, 
            "outputs": [
                {
                    "output_type": "display_data", 
                    "data": {
                        "image/png": "[encoded data removed]", 
                        "text/plain": "Plot with title \u201cHistogram of tiempo\u201d"
                    }, 
                    "metadata": {}
                }
            ], 
            "source": "###############################################################################\n##  Curso : Muestreo Estadistico\n##  Sesion : 06\n##  Tema : Intervalo de confianza en distribuciones NO NORMALES\n###############################################################################\n\n###################################################\n# Datos Exponenciales : Intervalo de Confianza \n###################################################\n\n# Semilla\nset.seed(10)\n# Creaci\u00f3n de dstos exponenciales\ntiempo <- rexp(50,1/5)\n# Crear histograma\nhist(tiempo)\n"
        }, 
        {
            "execution_count": 18, 
            "cell_type": "code", 
            "metadata": {}, 
            "outputs": [
                {
                    "output_type": "display_data", 
                    "data": {
                        "text/html": "<ol class=list-inline>\n\t<li>3.80504337124567</li>\n\t<li>6.82232534264184</li>\n</ol>\n", 
                        "text/latex": "\\begin{enumerate*}\n\\item 3.80504337124567\n\\item 6.82232534264184\n\\end{enumerate*}\n", 
                        "text/markdown": "1. 3.80504337124567\n2. 6.82232534264184\n\n\n", 
                        "text/plain": "[1] 3.805043 6.822325"
                    }, 
                    "metadata": {}
                }
            ], 
            "source": "# Intervalo de confianza para datos exponenciales\n\n# Creaci\u00f3n de una funci\u00f3n para hallar \n# el IC de una Distribuci\u00f3n Exponencial\nic.exp <- function(datos, conf.level){\n  n <- length(datos)\n  alfa <- (1- conf.level)\n  li <- sum(datos)/qgamma(1-alfa/2,n,1)\n  ls <- sum(datos)/qgamma(alfa/2,n,1)\n  limites <- c(li,ls)\n  return (limites)\n}\n\n# Para los datos \"tiempo\" se calcula el IC\n# para un nivel de confianza del 96%\nic.exp(tiempo, 0.96)\n\n# No es correcto hacer esto, es para la Distribuci\u00f3n Standard\n#t.test(tiempo, conf.level = 0.96) $conf"
        }, 
        {
            "execution_count": 25, 
            "cell_type": "code", 
            "metadata": {}, 
            "outputs": [], 
            "source": "###################################################\n# Datos Bernoulli : Intervalo de Confianza \n###################################################\n\n# Define path file\nFILE_URL <- \"https://raw.githubusercontent.com/jgomezz/MsEstadAplic_MetodosEstadisticos/master/data/universidad/ansi/CasoB.csv\"\nFILE_ENCONDING <- \"ISO-8859-1\"\n\n# Read file\nuniversidad.data <- read.csv(FILE_URL, fileEncoding = FILE_ENCONDING)\n\n# Solo datos de la universidad \"UNCI\"\nUNCI.universidad.data <- subset(universidad.data, Universidad==\"UNCI\" )"
        }, 
        {
            "execution_count": 26, 
            "cell_type": "code", 
            "metadata": {}, 
            "outputs": [
                {
                    "output_type": "stream", 
                    "name": "stderr", 
                    "text": "Updating HTML index of packages in '.Library'\nMaking 'packages.html' ... done\n"
                }, 
                {
                    "output_type": "display_data", 
                    "data": {
                        "text/plain": "\n Femenino Masculino \n       34        36 "
                    }, 
                    "metadata": {}
                }, 
                {
                    "output_type": "display_data", 
                    "data": {
                        "text/html": "<table>\n<thead><tr><th scope=col>est</th><th scope=col>lwr.ci</th><th scope=col>upr.ci</th></tr></thead>\n<tbody>\n\t<tr><td>0.5142857</td><td>0.3916008</td><td>0.6369706</td></tr>\n</tbody>\n</table>\n", 
                        "text/latex": "\\begin{tabular}{lll}\n est & lwr.ci & upr.ci\\\\\n\\hline\n\t 0.5142857 & 0.3916008 & 0.6369706\\\\\n\\end{tabular}\n", 
                        "text/markdown": "\nest | lwr.ci | upr.ci | \n|---|\n| 0.5142857 | 0.3916008 | 0.6369706 | \n\n\n", 
                        "text/plain": "     est       lwr.ci    upr.ci   \n[1,] 0.5142857 0.3916008 0.6369706"
                    }, 
                    "metadata": {}
                }
            ], 
            "source": "###################################################\n# Datos Bernoulli : \n#       Intervalo de Confianza -> M\u00e9todo Wald\n###################################################\n\n# Instalamos el paquete  \"DescTools\"\ninstall.packages(\"DescTools\")\n\n# Carga de libreria\nlibrary(DescTools)\n\n# M\u00e9todo de Wald (method=\"wald\")\n#\n# Para el grupo \"Femenino\" de UNCI.universidad.data$Genero\ntable(UNCI.universidad.data$Genero)\n\n# Femenino Masculino \n#      34        36 \nBinomCI(36, 34+36, conf.level = 0.96, method=\"wald\")"
        }, 
        {
            "execution_count": 27, 
            "cell_type": "code", 
            "metadata": {}, 
            "outputs": [
                {
                    "output_type": "display_data", 
                    "data": {
                        "text/plain": "\nAdministraci\u00f3n        Derecho     Ingenier\u00eda       Medicina \n            22             18             14             16 "
                    }, 
                    "metadata": {}
                }, 
                {
                    "output_type": "display_data", 
                    "data": {
                        "text/html": "<table>\n<thead><tr><th scope=col>est</th><th scope=col>lwr.ci</th><th scope=col>upr.ci</th></tr></thead>\n<tbody>\n\t<tr><td>0.2285714</td><td>0.1254955</td><td>0.3316473</td></tr>\n</tbody>\n</table>\n", 
                        "text/latex": "\\begin{tabular}{lll}\n est & lwr.ci & upr.ci\\\\\n\\hline\n\t 0.2285714 & 0.1254955 & 0.3316473\\\\\n\\end{tabular}\n", 
                        "text/markdown": "\nest | lwr.ci | upr.ci | \n|---|\n| 0.2285714 | 0.1254955 | 0.3316473 | \n\n\n", 
                        "text/plain": "     est       lwr.ci    upr.ci   \n[1,] 0.2285714 0.1254955 0.3316473"
                    }, 
                    "metadata": {}
                }
            ], 
            "source": "###################################################\n# Datos Bernoulli : \n#       Intervalo de Confianza -> M\u00e9todo Wald\n###################################################\n\n# M\u00e9todo de Wald (method=\"wald\")\n#\n# Para el grupo \"Medicina\" de UNCI.universidad.data$Facultad\ntable(UNCI.universidad.data$Facultad)\n\n# Administraci\u00f3n        Derecho     Ingenier\u00eda       Medicina \n#             22             18             14             16 \nBinomCI(16,22+18+14+16, conf.level = 0.96, method=\"wald\")"
        }, 
        {
            "execution_count": 29, 
            "cell_type": "code", 
            "metadata": {}, 
            "outputs": [
                {
                    "output_type": "display_data", 
                    "data": {
                        "text/plain": "\n Femenino Masculino \n       34        36 "
                    }, 
                    "metadata": {}
                }, 
                {
                    "output_type": "display_data", 
                    "data": {
                        "text/html": "<table>\n<thead><tr><th scope=col>est</th><th scope=col>lwr.ci</th><th scope=col>upr.ci</th></tr></thead>\n<tbody>\n\t<tr><td>0.5142857</td><td>0.3943234</td><td>0.6326243</td></tr>\n</tbody>\n</table>\n", 
                        "text/latex": "\\begin{tabular}{lll}\n est & lwr.ci & upr.ci\\\\\n\\hline\n\t 0.5142857 & 0.3943234 & 0.6326243\\\\\n\\end{tabular}\n", 
                        "text/markdown": "\nest | lwr.ci | upr.ci | \n|---|\n| 0.5142857 | 0.3943234 | 0.6326243 | \n\n\n", 
                        "text/plain": "     est       lwr.ci    upr.ci   \n[1,] 0.5142857 0.3943234 0.6326243"
                    }, 
                    "metadata": {}
                }
            ], 
            "source": "###################################################\n# Datos Bernoulli : \n#       Intervalo de Confianza -> M\u00e9todo Wilson\n###################################################\n\n# Para el grupo \"Femenino\" de UNCI.universidad.data$Genero\ntable(UNCI.universidad.data$Genero)\n\n# Femenino Masculino \n#      34        36 \nBinomCI(36,34+36, conf.level = 0.96, method=\"wilson\")"
        }, 
        {
            "execution_count": 28, 
            "cell_type": "code", 
            "metadata": {}, 
            "outputs": [
                {
                    "output_type": "display_data", 
                    "data": {
                        "text/plain": "\nAdministraci\u00f3n        Derecho     Ingenier\u00eda       Medicina \n            22             18             14             16 "
                    }, 
                    "metadata": {}
                }, 
                {
                    "output_type": "display_data", 
                    "data": {
                        "text/html": "<table>\n<thead><tr><th scope=col>est</th><th scope=col>lwr.ci</th><th scope=col>upr.ci</th></tr></thead>\n<tbody>\n\t<tr><td>0.2285714</td><td>0.1427114</td><td>0.3452827</td></tr>\n</tbody>\n</table>\n", 
                        "text/latex": "\\begin{tabular}{lll}\n est & lwr.ci & upr.ci\\\\\n\\hline\n\t 0.2285714 & 0.1427114 & 0.3452827\\\\\n\\end{tabular}\n", 
                        "text/markdown": "\nest | lwr.ci | upr.ci | \n|---|\n| 0.2285714 | 0.1427114 | 0.3452827 | \n\n\n", 
                        "text/plain": "     est       lwr.ci    upr.ci   \n[1,] 0.2285714 0.1427114 0.3452827"
                    }, 
                    "metadata": {}
                }
            ], 
            "source": "###################################################\n# Datos Bernoulli : \n#       Intervalo de Confianza -> M\u00e9todo Wilson\n###################################################\n\n# Para el grupo \"Medicina\" de UNCI.universidad.data$Facultad\ntable(UNCI.universidad.data$Facultad)\n\n# Administraci\u00f3n        Derecho     Ingenier\u00eda       Medicina \n#             22             18             14             16 \nBinomCI(16,22+18+14+16, conf.level = 0.96, method=\"wilson\")"
        }, 
        {
            "execution_count": 37, 
            "cell_type": "code", 
            "metadata": {}, 
            "outputs": [
                {
                    "output_type": "display_data", 
                    "data": {
                        "text/plain": "\n Femenino Masculino \n       34        36 "
                    }, 
                    "metadata": {}
                }, 
                {
                    "output_type": "display_data", 
                    "data": {
                        "text/html": "<ol class=list-inline>\n\t<li>0.386353002997686</li>\n\t<li>0.640869538465946</li>\n</ol>\n", 
                        "text/latex": "\\begin{enumerate*}\n\\item 0.386353002997686\n\\item 0.640869538465946\n\\end{enumerate*}\n", 
                        "text/markdown": "1. 0.386353002997686\n2. 0.640869538465946\n\n\n", 
                        "text/plain": "[1] 0.3863530 0.6408695\nattr(,\"conf.level\")\n[1] 0.96"
                    }, 
                    "metadata": {}
                }
            ], 
            "source": "###################################################\n# Datos Bernoulli : \n#       Intervalo de Confianza -> M\u00e9todo Exacto\n###################################################\n\n# Para el grupo \"Femenino\" de UNCI.universidad.data$Genero\ntable(UNCI.universidad.data$Genero)\n\n# Femenino Masculino \n#      34        36 \n#binom.test(36,34+36, conf.level = 0.96 )\n\n# Solo campo de IC\nbinom.test(36,34+36, conf.level = 0.96 )$conf"
        }, 
        {
            "execution_count": 38, 
            "cell_type": "code", 
            "metadata": {}, 
            "outputs": [
                {
                    "output_type": "display_data", 
                    "data": {
                        "text/plain": "\nAdministraci\u00f3n        Derecho     Ingenier\u00eda       Medicina \n            22             18             14             16 "
                    }, 
                    "metadata": {}
                }, 
                {
                    "output_type": "display_data", 
                    "data": {
                        "text/html": "<ol class=list-inline>\n\t<li>0.133120906519871</li>\n\t<li>0.349960639425259</li>\n</ol>\n", 
                        "text/latex": "\\begin{enumerate*}\n\\item 0.133120906519871\n\\item 0.349960639425259\n\\end{enumerate*}\n", 
                        "text/markdown": "1. 0.133120906519871\n2. 0.349960639425259\n\n\n", 
                        "text/plain": "[1] 0.1331209 0.3499606\nattr(,\"conf.level\")\n[1] 0.96"
                    }, 
                    "metadata": {}
                }
            ], 
            "source": "###################################################\n# Datos Bernoulli : \n#       Intervalo de Confianza -> M\u00e9todo Exacto\n###################################################\n\n# Para el grupo \"Medicina\" de UNCI.universidad.data$Facultad\ntable(UNCI.universidad.data$Facultad)\n\n# Administraci\u00f3n        Derecho     Ingenier\u00eda       Medicina \n#             22             18             14             16\n#binom.test(16,22+18+14+16, conf.level = 0.96 )\n\n# Solo campo de IC\nbinom.test(16,22+18+14+16, conf.level = 0.96 )$conf"
        }, 
        {
            "execution_count": 40, 
            "cell_type": "code", 
            "metadata": {}, 
            "outputs": [
                {
                    "output_type": "stream", 
                    "name": "stderr", 
                    "text": "Updating HTML index of packages in '.Library'\nMaking 'packages.html' ... done\n"
                }, 
                {
                    "output_type": "display_data", 
                    "data": {
                        "text/plain": "\n Femenino Masculino \n       34        36 "
                    }, 
                    "metadata": {}
                }, 
                {
                    "output_type": "display_data", 
                    "data": {
                        "text/html": "<ol class=list-inline>\n\t<li>0.394185388909826</li>\n\t<li>0.632841638117201</li>\n</ol>\n", 
                        "text/latex": "\\begin{enumerate*}\n\\item 0.394185388909826\n\\item 0.632841638117201\n\\end{enumerate*}\n", 
                        "text/markdown": "1. 0.394185388909826\n2. 0.632841638117201\n\n\n", 
                        "text/plain": "[1] 0.3941854 0.6328416\nattr(,\"conf.level\")\n[1] 0.96"
                    }, 
                    "metadata": {}
                }
            ], 
            "source": "###################################################\n# Datos Bernoulli : \n#    Intervalo de Confianza -> M\u00e9todo Agresti-Caffo\n###################################################\n\n## instalamos el paquete  \"ProCIs\"\ninstall.packages(\"PropCIs\")\nlibrary(PropCIs)\n\n# Para el grupo \"Femenino\" de UNCI.universidad.data$Genero\ntable(UNCI.universidad.data$Genero)\n\n# Femenino Masculino \n#      34        36 \n#add4ci(36,34+36, conf.level= 0.96)\n\nadd4ci(36,34+36, conf.level= 0.96)$conf.int\n"
        }, 
        {
            "execution_count": 42, 
            "cell_type": "code", 
            "metadata": {}, 
            "outputs": [
                {
                    "output_type": "display_data", 
                    "data": {
                        "text/plain": "\nAdministraci\u00f3n        Derecho     Ingenier\u00eda       Medicina \n            22             18             14             16 "
                    }, 
                    "metadata": {}
                }, 
                {
                    "output_type": "display_data", 
                    "data": {
                        "text/html": "<ol class=list-inline>\n\t<li>0.140812568741164</li>\n\t<li>0.345673917745322</li>\n</ol>\n", 
                        "text/latex": "\\begin{enumerate*}\n\\item 0.140812568741164\n\\item 0.345673917745322\n\\end{enumerate*}\n", 
                        "text/markdown": "1. 0.140812568741164\n2. 0.345673917745322\n\n\n", 
                        "text/plain": "[1] 0.1408126 0.3456739\nattr(,\"conf.level\")\n[1] 0.96"
                    }, 
                    "metadata": {}
                }, 
                {
                    "output_type": "display_data", 
                    "data": {
                        "text/html": "0.204861349004158", 
                        "text/latex": "0.204861349004158", 
                        "text/markdown": "0.204861349004158", 
                        "text/plain": "[1] 0.2048613"
                    }, 
                    "metadata": {}
                }
            ], 
            "source": "###################################################\n# Datos Bernoulli : \n#    Intervalo de Confianza -> M\u00e9todo Agresti-Caffo\n###################################################\n\n# Para el grupo \"Medicina\" (16) de UNCI.universidad.data$Facultad\ntable(UNCI.universidad.data$Facultad)\n\n# Administraci\u00f3n        Derecho     Ingenier\u00eda       Medicina \n#             22             18             14             16\nadd4ci(16,22+18+14+16, conf.level= 0.96)$conf.int\n\nm4 <- add4ci(16,22+18+14+16, conf.level= 0.96)$conf.int\n\n# Ancho del Intervalo\nm4[2]-m4[1]"
        }
    ], 
    "metadata": {
        "kernelspec": {
            "display_name": "R", 
            "name": "r", 
            "language": "R"
        }, 
        "language_info": {
            "mimetype": "text/x-r-source", 
            "version": "3.4.2", 
            "name": "R", 
            "pygments_lexer": "r", 
            "file_extension": ".r", 
            "codemirror_mode": "r"
        }
    }, 
    "nbformat": 4
}