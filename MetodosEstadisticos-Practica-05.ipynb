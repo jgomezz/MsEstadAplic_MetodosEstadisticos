{
    "nbformat_minor": 1, 
    "cells": [
        {
            "execution_count": 1, 
            "cell_type": "code", 
            "metadata": {}, 
            "outputs": [
                {
                    "output_type": "display_data", 
                    "data": {
                        "text/html": "<table>\n<thead><tr><th scope=col>Cl\u00c3.nica</th><th scope=col>Genero</th><th scope=col>M2</th><th scope=col>M6</th><th scope=col>M12</th><th scope=col>P2</th><th scope=col>P6</th><th scope=col>P12</th></tr></thead>\n<tbody>\n\t<tr><td>San Borja</td><td>Femenino </td><td>184.4    </td><td>208.0    </td><td>200.3    </td><td>1        </td><td>0        </td><td>1        </td></tr>\n\t<tr><td>San Borja</td><td>Masculino</td><td>187.4    </td><td>202.3    </td><td>193.2    </td><td>1        </td><td>1        </td><td>1        </td></tr>\n\t<tr><td>San Borja</td><td>Femenino </td><td>234.1    </td><td>198.4    </td><td>209.1    </td><td>0        </td><td>1        </td><td>1        </td></tr>\n\t<tr><td>San Borja</td><td>Masculino</td><td>219.9    </td><td>205.8    </td><td>232.7    </td><td>0        </td><td>0        </td><td>1        </td></tr>\n\t<tr><td>San Borja</td><td>Masculino</td><td>198.0    </td><td>203.8    </td><td>205.7    </td><td>1        </td><td>0        </td><td>0        </td></tr>\n\t<tr><td>San Borja</td><td>Femenino </td><td>191.6    </td><td>210.5    </td><td>201.6    </td><td>0        </td><td>1        </td><td>1        </td></tr>\n</tbody>\n</table>\n", 
                        "text/latex": "\\begin{tabular}{r|llllllll}\n Cl\u00c3.nica & Genero & M2 & M6 & M12 & P2 & P6 & P12\\\\\n\\hline\n\t San Borja & Femenino  & 184.4     & 208.0     & 200.3     & 1         & 0         & 1        \\\\\n\t San Borja & Masculino & 187.4     & 202.3     & 193.2     & 1         & 1         & 1        \\\\\n\t San Borja & Femenino  & 234.1     & 198.4     & 209.1     & 0         & 1         & 1        \\\\\n\t San Borja & Masculino & 219.9     & 205.8     & 232.7     & 0         & 0         & 1        \\\\\n\t San Borja & Masculino & 198.0     & 203.8     & 205.7     & 1         & 0         & 0        \\\\\n\t San Borja & Femenino  & 191.6     & 210.5     & 201.6     & 0         & 1         & 1        \\\\\n\\end{tabular}\n", 
                        "text/markdown": "\nCl\u00c3.nica | Genero | M2 | M6 | M12 | P2 | P6 | P12 | \n|---|---|---|---|---|---|\n| San Borja | Femenino  | 184.4     | 208.0     | 200.3     | 1         | 0         | 1         | \n| San Borja | Masculino | 187.4     | 202.3     | 193.2     | 1         | 1         | 1         | \n| San Borja | Femenino  | 234.1     | 198.4     | 209.1     | 0         | 1         | 1         | \n| San Borja | Masculino | 219.9     | 205.8     | 232.7     | 0         | 0         | 1         | \n| San Borja | Masculino | 198.0     | 203.8     | 205.7     | 1         | 0         | 0         | \n| San Borja | Femenino  | 191.6     | 210.5     | 201.6     | 0         | 1         | 1         | \n\n\n", 
                        "text/plain": "  Cl\u00c3.nica  Genero    M2    M6    M12   P2 P6 P12\n1 San Borja Femenino  184.4 208.0 200.3 1  0  1  \n2 San Borja Masculino 187.4 202.3 193.2 1  1  1  \n3 San Borja Femenino  234.1 198.4 209.1 0  1  1  \n4 San Borja Masculino 219.9 205.8 232.7 0  0  1  \n5 San Borja Masculino 198.0 203.8 205.7 1  0  0  \n6 San Borja Femenino  191.6 210.5 201.6 0  1  1  "
                    }, 
                    "metadata": {}
                }
            ], 
            "source": "##########################################\n#  PRACTICA 5 : METODOS ESTADISTICOS\n#########################################\n\n# Define path file\n#FILE_URL <- \"https://raw.githubusercontent.com/jgomezz/MsEstadAplic_MetodosEstadisticos/master/data/practica/Practica5_ANSI.csv\"\nFILE_URL <- \"https://raw.githubusercontent.com/jgomezz/MsEstadAplic_MetodosEstadisticos/master/data/practica/Caso_5.csv\"\n\nFILE_ENCONDING <- \"ISO-8859-1\"\n\n# Read file\n#Clinica.data <- read.csv(FILE_URL, fileEncoding = FILE_ENCONDING, sep = \";\")\nClinica.data <- read.csv(FILE_URL, fileEncoding = FILE_ENCONDING)\nhead(Clinica.data)\n# Filtro solo la municipalidad de San Martin de Porras\nSBO.muni.data <- subset(Clinica.data,  Cl\u00c3.nica ==\"San Borja\")\n\n# Filtro solo la municipalidad de Los Olivos\nSL.muni.data <- subset(Clinica.data, Cl\u00c3.nica  ==\"San Luis\")\n"
        }, 
        {
            "execution_count": 2, 
            "cell_type": "code", 
            "metadata": {}, 
            "outputs": [
                {
                    "output_type": "stream", 
                    "name": "stderr", 
                    "text": "also installing the dependency \u2018expm\u2019\n\nUpdating HTML index of packages in '.Library'\nMaking 'packages.html' ... done\n"
                }
            ], 
            "source": "# Prueba de Kolmogorov-Smirnov - librerias\ninstall.packages(\"DescTools\")\nlibrary(DescTools)"
        }, 
        {
            "execution_count": 3, 
            "cell_type": "code", 
            "metadata": {}, 
            "outputs": [
                {
                    "output_type": "stream", 
                    "name": "stderr", 
                    "text": "Warning message in ks.test(SBO.muni.data[, \"M2\"], SL.muni.data[, \"M2\"]):\n\u201ccannot compute exact p-value with ties\u201d"
                }, 
                {
                    "output_type": "display_data", 
                    "data": {
                        "text/plain": "\n\tTwo-sample Kolmogorov-Smirnov test\n\ndata:  SBO.muni.data[, \"M2\"] and SL.muni.data[, \"M2\"]\nD = 0.2, p-value = 0.7232\nalternative hypothesis: two-sided\n"
                    }, 
                    "metadata": {}
                }
            ], 
            "source": "# Prueba de Kolmogorov-Smirnov\nks.test(SBO.muni.data[,\"M2\"], SL.muni.data[,\"M2\"])"
        }, 
        {
            "execution_count": 4, 
            "cell_type": "code", 
            "metadata": {}, 
            "outputs": [
                {
                    "output_type": "stream", 
                    "name": "stderr", 
                    "text": "Updating HTML index of packages in '.Library'\nMaking 'packages.html' ... done\n Package \u2018exactRankTests\u2019 is no longer under development.\n Please consider using package \u2018coin\u2019 instead.\n\n"
                }
            ], 
            "source": "# Prueba de Mann Whitney - librerias\ninstall.packages(\"exactRankTests\")\nlibrary(exactRankTests)"
        }, 
        {
            "execution_count": 5, 
            "cell_type": "code", 
            "metadata": {}, 
            "outputs": [
                {
                    "output_type": "display_data", 
                    "data": {
                        "text/plain": "\n\tExact Wilcoxon rank sum test\n\ndata:  SBO.muni.data[, \"M2\"] and SL.muni.data[, \"M2\"]\nW = 216, p-value = 0.9523\nalternative hypothesis: true mu is greater than 10\n"
                    }, 
                    "metadata": {}
                }
            ], 
            "source": "# Prueba de Mann Whitney\nwilcox.exact(SBO.muni.data[,\"M2\"], SL.muni.data[,\"M2\"], mu = 10, alternative = \"g\", paired=F)\n\n"
        }, 
        {
            "execution_count": 6, 
            "cell_type": "code", 
            "metadata": {}, 
            "outputs": [
                {
                    "output_type": "stream", 
                    "name": "stderr", 
                    "text": "Updating HTML index of packages in '.Library'\nMaking 'packages.html' ... done\n"
                }
            ], 
            "source": "#####################################################\n# PREGUNTA 6\n#####################################################\n\n# Prueba de moments - librerias\ninstall.packages(\"moments\")\nlibrary(moments)"
        }, 
        {
            "execution_count": 7, 
            "cell_type": "code", 
            "metadata": {}, 
            "outputs": [
                {
                    "output_type": "display_data", 
                    "data": {
                        "text/plain": "\n\tD'Agostino skewness test\n\ndata:  SBO.muni.data[, \"M12\"]\nskew = 0.16599, z = 0.37209, p-value = 0.7098\nalternative hypothesis: data have a skewness\n"
                    }, 
                    "metadata": {}
                }
            ], 
            "source": "#\n# agostino.test(x, alternative = c(\"two.sided\", \"less\", \"greater\"))\n\n# Filtro solo la municipalidad de San Martin de Porras\nSBO.muni.data <- subset(Clinica.data,  Cl\u00c3.nica ==\"San Borja\")\n\nagostino.test(SBO.muni.data[,\"M12\"]) # , alternative = c(\"two.sided\", \"less\", \"greater\"))\n"
        }
    ], 
    "metadata": {
        "kernelspec": {
            "display_name": "R", 
            "name": "r", 
            "language": "R"
        }, 
        "language_info": {
            "mimetype": "text/x-r-source", 
            "version": "3.4.2", 
            "name": "R", 
            "pygments_lexer": "r", 
            "file_extension": ".r", 
            "codemirror_mode": "r"
        }
    }, 
    "nbformat": 4
}