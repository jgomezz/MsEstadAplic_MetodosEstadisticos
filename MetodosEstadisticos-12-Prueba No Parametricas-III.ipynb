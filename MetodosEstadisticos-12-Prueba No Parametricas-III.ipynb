{
    "nbformat_minor": 1, 
    "cells": [
        {
            "execution_count": 1, 
            "cell_type": "code", 
            "metadata": {}, 
            "outputs": [
                {
                    "output_type": "display_data", 
                    "data": {
                        "text/html": "<table>\n<thead><tr><th scope=col>Y</th><th scope=col>Pregunta</th><th scope=col>Alumno</th></tr></thead>\n<tbody>\n\t<tr><td>1</td><td>1</td><td>1</td></tr>\n\t<tr><td>1</td><td>1</td><td>2</td></tr>\n\t<tr><td>1</td><td>1</td><td>3</td></tr>\n\t<tr><td>1</td><td>1</td><td>4</td></tr>\n\t<tr><td>0</td><td>1</td><td>5</td></tr>\n\t<tr><td>0</td><td>1</td><td>6</td></tr>\n</tbody>\n</table>\n", 
                        "text/latex": "\\begin{tabular}{r|lll}\n Y & Pregunta & Alumno\\\\\n\\hline\n\t 1 & 1 & 1\\\\\n\t 1 & 1 & 2\\\\\n\t 1 & 1 & 3\\\\\n\t 1 & 1 & 4\\\\\n\t 0 & 1 & 5\\\\\n\t 0 & 1 & 6\\\\\n\\end{tabular}\n", 
                        "text/markdown": "\nY | Pregunta | Alumno | \n|---|---|---|---|---|---|\n| 1 | 1 | 1 | \n| 1 | 1 | 2 | \n| 1 | 1 | 3 | \n| 1 | 1 | 4 | \n| 0 | 1 | 5 | \n| 0 | 1 | 6 | \n\n\n", 
                        "text/plain": "  Y Pregunta Alumno\n1 1 1        1     \n2 1 1        2     \n3 1 1        3     \n4 1 1        4     \n5 0 1        5     \n6 0 1        6     "
                    }, 
                    "metadata": {}
                }
            ], 
            "source": "##########################\n# Prueba de Q de Cochran\n##########################\n\n# Define path file\nFILE_URL <-  \"https://raw.githubusercontent.com/jgomezz/MsEstadAplic_MetodosEstadisticos/master/data/metodos_estadisticos/semana-12/Datos_Sesion_11.csv\"\n\nFILE_ENCONDING <- \"ISO-8859-1\"\n\n# Read file\nExamen.data <- read.csv(FILE_URL, fileEncoding = FILE_ENCONDING)\n#\nhead(Examen.data)"
        }, 
        {
            "execution_count": 27, 
            "cell_type": "code", 
            "metadata": {}, 
            "outputs": [
                {
                    "output_type": "stream", 
                    "name": "stderr", 
                    "text": "also installing the dependencies \u2018rgl\u2019, \u2018mixOmics\u2019\n\nWarning message in install.packages(\"RVAideMemoire\"):\n\u201cinstallation of package \u2018rgl\u2019 had non-zero exit status\u201dWarning message in install.packages(\"RVAideMemoire\"):\n\u201cinstallation of package \u2018mixOmics\u2019 had non-zero exit status\u201dWarning message in install.packages(\"RVAideMemoire\"):\n\u201cinstallation of package \u2018RVAideMemoire\u2019 had non-zero exit status\u201dUpdating HTML index of packages in '.Library'\nMaking 'packages.html' ... done\n"
                }, 
                {
                    "ename": "ERROR", 
                    "evalue": "Error in library(RVAideMemoire): there is no package called \u2018RVAideMemoire\u2019\n", 
                    "traceback": [
                        "Error in library(RVAideMemoire): there is no package called \u2018RVAideMemoire\u2019\nTraceback:\n", 
                        "1. library(RVAideMemoire)", 
                        "2. stop(txt, domain = NA)"
                    ], 
                    "output_type": "error"
                }
            ], 
            "source": "# instalando librerias necesarias\n# para usar las pruebas Q de Cochran\ninstall.packages(\"RVAideMemoire\")\nlibrary(RVAideMemoire)\n"
        }, 
        {
            "execution_count": null, 
            "cell_type": "code", 
            "metadata": {}, 
            "outputs": [], 
            "source": "#\npreguntas <- as.factor(Examen.data[,\"Pregunta\"])\nestudiantes <- as.factor(Examen.data[,\"Alumno\"])\n\ncochran.qtest(Examen.data[,\"Y\"] ~ preguntas|estudiantes, p.method = \"none\" )\n"
        }, 
        {
            "execution_count": null, 
            "cell_type": "code", 
            "metadata": {}, 
            "outputs": [], 
            "source": "# otra forma\npreguntas2 <- gl(4,10, labels=letters[1:4])\nestudiantes2 <- rep(1:10,4)\ncochran.qtest(Examen.data[,\"Y\"] ~ preguntas2|estudiantes2, p.method = \"none\" )\n"
        }, 
        {
            "execution_count": 20, 
            "cell_type": "code", 
            "metadata": {}, 
            "outputs": [
                {
                    "output_type": "display_data", 
                    "data": {
                        "text/html": "<ol class=list-inline>\n\t<li>5</li>\n\t<li>4</li>\n\t<li>5</li>\n\t<li>5</li>\n\t<li>5</li>\n\t<li>2</li>\n</ol>\n", 
                        "text/latex": "\\begin{enumerate*}\n\\item 5\n\\item 4\n\\item 5\n\\item 5\n\\item 5\n\\item 2\n\\end{enumerate*}\n", 
                        "text/markdown": "1. 5\n2. 4\n3. 5\n4. 5\n5. 5\n6. 2\n\n\n", 
                        "text/plain": "[1] 5 4 5 5 5 2"
                    }, 
                    "metadata": {}
                }
            ], 
            "source": "##########################\n# Prueba de Friedman\n##########################\n# Se realiz\u00f3 un experimento para analizar el sabor de una\n# nueva marca de cola antes de que se lance al mercado. Las\n# marcas de colas en comparaci\u00f3n fueron dadas a 5 jueces\n# especializados y se estableci\u00f3 una escala de valores de (1-5)\n# donde 1 es el de peor sabor y 5 el de mejor sabor\n# Los resultados del experimento se muestran a continuaci\u00f3n\n\nsabor <- c(5,4,5,5,5,2,1,2,1,2,3,3,2,3,3,2,4,3,2,3)\nhead(sabor)"
        }, 
        {
            "execution_count": 17, 
            "cell_type": "code", 
            "metadata": {}, 
            "outputs": [
                {
                    "output_type": "display_data", 
                    "data": {
                        "text/html": "<ol class=list-inline>\n\t<li>1</li>\n\t<li>1</li>\n\t<li>1</li>\n\t<li>1</li>\n\t<li>1</li>\n\t<li>2</li>\n\t<li>2</li>\n\t<li>2</li>\n\t<li>2</li>\n\t<li>2</li>\n\t<li>3</li>\n\t<li>3</li>\n\t<li>3</li>\n\t<li>3</li>\n\t<li>3</li>\n\t<li>4</li>\n\t<li>4</li>\n\t<li>4</li>\n\t<li>4</li>\n\t<li>4</li>\n</ol>\n", 
                        "text/latex": "\\begin{enumerate*}\n\\item 1\n\\item 1\n\\item 1\n\\item 1\n\\item 1\n\\item 2\n\\item 2\n\\item 2\n\\item 2\n\\item 2\n\\item 3\n\\item 3\n\\item 3\n\\item 3\n\\item 3\n\\item 4\n\\item 4\n\\item 4\n\\item 4\n\\item 4\n\\end{enumerate*}\n", 
                        "text/markdown": "1. 1\n2. 1\n3. 1\n4. 1\n5. 1\n6. 2\n7. 2\n8. 2\n9. 2\n10. 2\n11. 3\n12. 3\n13. 3\n14. 3\n15. 3\n16. 4\n17. 4\n18. 4\n19. 4\n20. 4\n\n\n", 
                        "text/plain": " [1] 1 1 1 1 1 2 2 2 2 2 3 3 3 3 3 4 4 4 4 4"
                    }, 
                    "metadata": {}
                }, 
                {
                    "output_type": "display_data", 
                    "data": {
                        "text/html": "<ol class=list-inline>\n\t<li>1</li>\n\t<li>2</li>\n\t<li>3</li>\n\t<li>4</li>\n\t<li>5</li>\n\t<li>1</li>\n\t<li>2</li>\n\t<li>3</li>\n\t<li>4</li>\n\t<li>5</li>\n\t<li>1</li>\n\t<li>2</li>\n\t<li>3</li>\n\t<li>4</li>\n\t<li>5</li>\n\t<li>1</li>\n\t<li>2</li>\n\t<li>3</li>\n\t<li>4</li>\n\t<li>5</li>\n</ol>\n", 
                        "text/latex": "\\begin{enumerate*}\n\\item 1\n\\item 2\n\\item 3\n\\item 4\n\\item 5\n\\item 1\n\\item 2\n\\item 3\n\\item 4\n\\item 5\n\\item 1\n\\item 2\n\\item 3\n\\item 4\n\\item 5\n\\item 1\n\\item 2\n\\item 3\n\\item 4\n\\item 5\n\\end{enumerate*}\n", 
                        "text/markdown": "1. 1\n2. 2\n3. 3\n4. 4\n5. 5\n6. 1\n7. 2\n8. 3\n9. 4\n10. 5\n11. 1\n12. 2\n13. 3\n14. 4\n15. 5\n16. 1\n17. 2\n18. 3\n19. 4\n20. 5\n\n\n", 
                        "text/plain": " [1] 1 2 3 4 5 1 2 3 4 5 1 2 3 4 5 1 2 3 4 5"
                    }, 
                    "metadata": {}
                }
            ], 
            "source": "#\n#\nmarca <- rep(1:4, rep(5,4))\nmarca\njuez <- rep(1:5,4)\njuez"
        }, 
        {
            "execution_count": 21, 
            "cell_type": "code", 
            "metadata": {}, 
            "outputs": [
                {
                    "output_type": "display_data", 
                    "data": {
                        "text/plain": "\n\tFriedman rank sum test\n\ndata:  sabor, marca and juez\nFriedman chi-squared = 11.935, df = 3, p-value = 0.00761\n"
                    }, 
                    "metadata": {}
                }
            ], 
            "source": "friedman.test(sabor, marca, juez)"
        }, 
        {
            "execution_count": null, 
            "cell_type": "code", 
            "metadata": {}, 
            "outputs": [], 
            "source": "#\n# 1)\n#   H0 : me1 = me2 = me3 = me4\n#   H1 : me1 = me2 = me3 = me4\n#\n# 2) alfa = 0.05\n#\n# 3)  p-value = 0.00761 < alfa, Se rechaza H0\n#\n# 4)  Conclusion: A un alfa=0.05, se puede afirmar que la puntuaci\u00f3n\n#   mediana es diferente  en al menos en una de las marcas sabor cola\n#   de la evaluacion"
        }, 
        {
            "execution_count": 23, 
            "cell_type": "code", 
            "metadata": {}, 
            "outputs": [
                {
                    "output_type": "stream", 
                    "name": "stderr", 
                    "text": "also installing the dependencies \u2018e1071\u2019, \u2018classInt\u2019, \u2018labelled\u2019, \u2018gdata\u2019, \u2018combinat\u2019, \u2018questionr\u2019, \u2018spData\u2019, \u2018LearnBayes\u2019, \u2018deldir\u2019, \u2018coda\u2019, \u2018gmodels\u2019, \u2018expm\u2019, \u2018klaR\u2019, \u2018spdep\u2019, \u2018AlgDesign\u2019\n\nUpdating HTML index of packages in '.Library'\nMaking 'packages.html' ... done\n"
                }
            ], 
            "source": "install.packages(\"agricolae\")\nlibrary(agricolae)"
        }, 
        {
            "execution_count": 25, 
            "cell_type": "code", 
            "metadata": {}, 
            "outputs": [
                {
                    "output_type": "display_data", 
                    "data": {
                        "text/plain": "$statistics\n     Chisq Df    p.chisq        F DFerror          p.F  t.value      LSD\n  11.93478  3 0.00760994 15.57447      12 0.0001939151 2.178813 4.311995\n\n$parameters\n      test name.t ntr alpha\n  Friedman  marca   4  0.05\n\n$means\n  sabor rankSum       std r Min Max Q25 Q50 Q75\n1   4.8    19.5 0.4472136 5   4   5   5   5   5\n2   1.6     6.0 0.5477226 5   1   2   1   2   2\n3   2.8    12.0 0.4472136 5   2   3   3   3   3\n4   2.8    12.5 0.8366600 5   2   4   2   3   3\n\n$comparison\nNULL\n\n$groups\n  Sum of ranks groups\n1         19.5      a\n4         12.5      b\n3         12.0      b\n2          6.0      c\n\nattr(,\"class\")\n[1] \"group\""
                    }, 
                    "metadata": {}
                }
            ], 
            "source": "res <- friedman(juez, marca, sabor)\nres"
        }, 
        {
            "execution_count": null, 
            "cell_type": "code", 
            "metadata": {}, 
            "outputs": [], 
            "source": "#\n#  1)   H0 : mei =  mej \n#       H1 : mei <>  mej  \n#\n#  2) alfa = 0.05\n#\n#     Marca | Ri\n#   -------------- \n#       1   | 19.5  a\n#       2   | 12.5  b\n#       3   | 12.0  c\n#       4   |  6.0  d  \n#\n#   CONCLUSION : A un alfa = 0.05, se puede afirmar que la marca de mejor sabor es la marca 1"
        }, 
        {
            "execution_count": 26, 
            "cell_type": "code", 
            "metadata": {}, 
            "outputs": [
                {
                    "output_type": "stream", 
                    "name": "stderr", 
                    "text": "also installing the dependency \u2018lpSolve\u2019\n\nUpdating HTML index of packages in '.Library'\nMaking 'packages.html' ... done\nLoading required package: lpSolve\n\nAttaching package: \u2018irr\u2019\n\nThe following object is masked from \u2018package:agricolae\u2019:\n\n    kendall\n\n"
                }
            ], 
            "source": "##########################\n# Prueba de W de Kendall\n##########################\ninstall.packages(\"irr\")\nlibrary(irr)\n"
        }, 
        {
            "execution_count": null, 
            "cell_type": "code", 
            "metadata": {}, 
            "outputs": [], 
            "source": "\ntitle <- c(\"m1\",\"m2\",\"m3\")\ndf = data.frame(n, s, b)"
        }, 
        {
            "execution_count": null, 
            "cell_type": "code", 
            "metadata": {}, 
            "outputs": [], 
            "source": ""
        }
    ], 
    "metadata": {
        "kernelspec": {
            "display_name": "R", 
            "name": "r", 
            "language": "R"
        }, 
        "language_info": {
            "mimetype": "text/x-r-source", 
            "version": "3.4.2", 
            "name": "R", 
            "pygments_lexer": "r", 
            "file_extension": ".r", 
            "codemirror_mode": "r"
        }
    }, 
    "nbformat": 4
}