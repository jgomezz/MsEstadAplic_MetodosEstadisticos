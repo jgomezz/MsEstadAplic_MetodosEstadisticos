{
    "nbformat_minor": 1, 
    "cells": [
        {
            "execution_count": 1, 
            "cell_type": "code", 
            "metadata": {}, 
            "outputs": [
                {
                    "output_type": "display_data", 
                    "data": {
                        "text/html": "<table>\n<thead><tr><th scope=col>Y</th><th scope=col>Pregunta</th><th scope=col>Alumno</th></tr></thead>\n<tbody>\n\t<tr><td>1</td><td>1</td><td>1</td></tr>\n\t<tr><td>1</td><td>1</td><td>2</td></tr>\n\t<tr><td>1</td><td>1</td><td>3</td></tr>\n\t<tr><td>1</td><td>1</td><td>4</td></tr>\n\t<tr><td>0</td><td>1</td><td>5</td></tr>\n\t<tr><td>0</td><td>1</td><td>6</td></tr>\n</tbody>\n</table>\n", 
                        "text/latex": "\\begin{tabular}{r|lll}\n Y & Pregunta & Alumno\\\\\n\\hline\n\t 1 & 1 & 1\\\\\n\t 1 & 1 & 2\\\\\n\t 1 & 1 & 3\\\\\n\t 1 & 1 & 4\\\\\n\t 0 & 1 & 5\\\\\n\t 0 & 1 & 6\\\\\n\\end{tabular}\n", 
                        "text/markdown": "\nY | Pregunta | Alumno | \n|---|---|---|---|---|---|\n| 1 | 1 | 1 | \n| 1 | 1 | 2 | \n| 1 | 1 | 3 | \n| 1 | 1 | 4 | \n| 0 | 1 | 5 | \n| 0 | 1 | 6 | \n\n\n", 
                        "text/plain": "  Y Pregunta Alumno\n1 1 1        1     \n2 1 1        2     \n3 1 1        3     \n4 1 1        4     \n5 0 1        5     \n6 0 1        6     "
                    }, 
                    "metadata": {}
                }
            ], 
            "source": "##########################\n# Prueba de Q de Cochran\n##########################\n\n# Define path file\nFILE_URL <-  \"https://raw.githubusercontent.com/jgomezz/MsEstadAplic_MetodosEstadisticos/master/data/metodos_estadisticos/semana-12/Datos_Sesion_11.csv\"\n\nFILE_ENCONDING <- \"ISO-8859-1\"\n\n# Read file\nExamen.data <- read.csv(FILE_URL, fileEncoding = FILE_ENCONDING)\n#\nhead(Examen.data)"
        }, 
        {
            "execution_count": null, 
            "cell_type": "code", 
            "metadata": {}, 
            "outputs": [
                {
                    "output_type": "stream", 
                    "name": "stderr", 
                    "text": "also installing the dependencies \u2018cli\u2019, \u2018praise\u2019, \u2018testthat\u2019, \u2018processx\u2019, \u2018miniUI\u2019, \u2018webshot\u2019, \u2018crosstalk\u2019, \u2018manipulateWidget\u2019, \u2018RSpectra\u2019, \u2018ellipse\u2019, \u2018flashClust\u2019, \u2018leaps\u2019, \u2018scatterplot3d\u2019, \u2018igraph\u2019, \u2018rgl\u2019, \u2018corpcor\u2019, \u2018matrixStats\u2019, \u2018rARPACK\u2019, \u2018permute\u2019, \u2018ade4\u2019, \u2018cramer\u2019, \u2018dunn.test\u2019, \u2018FactoMineR\u2019, \u2018mixOmics\u2019, \u2018multcompView\u2019, \u2018pls\u2019, \u2018pspearman\u2019, \u2018vegan\u2019\n\n"
                }
            ], 
            "source": "# instalando librerias necesarias\ninstall.packages(\"RVAideMemoire\")\nlibrary(RVAideMomoire)\n"
        }
    ], 
    "metadata": {
        "kernelspec": {
            "display_name": "R", 
            "name": "r", 
            "language": "R"
        }, 
        "language_info": {
            "mimetype": "text/x-r-source", 
            "version": "3.4.2", 
            "name": "R", 
            "pygments_lexer": "r", 
            "file_extension": ".r", 
            "codemirror_mode": "r"
        }
    }, 
    "nbformat": 4
}