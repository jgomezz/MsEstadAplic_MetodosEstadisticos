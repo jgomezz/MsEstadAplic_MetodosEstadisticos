{
    "nbformat_minor": 1, 
    "cells": [
        {
            "execution_count": 1, 
            "cell_type": "code", 
            "metadata": {}, 
            "outputs": [
                {
                    "output_type": "display_data", 
                    "data": {
                        "text/html": "<table>\n<thead><tr><th scope=col>Y</th><th scope=col>Pregunta</th><th scope=col>Alumno</th></tr></thead>\n<tbody>\n\t<tr><td>1</td><td>1</td><td>1</td></tr>\n\t<tr><td>1</td><td>1</td><td>2</td></tr>\n\t<tr><td>1</td><td>1</td><td>3</td></tr>\n\t<tr><td>1</td><td>1</td><td>4</td></tr>\n\t<tr><td>0</td><td>1</td><td>5</td></tr>\n\t<tr><td>0</td><td>1</td><td>6</td></tr>\n</tbody>\n</table>\n", 
                        "text/latex": "\\begin{tabular}{r|lll}\n Y & Pregunta & Alumno\\\\\n\\hline\n\t 1 & 1 & 1\\\\\n\t 1 & 1 & 2\\\\\n\t 1 & 1 & 3\\\\\n\t 1 & 1 & 4\\\\\n\t 0 & 1 & 5\\\\\n\t 0 & 1 & 6\\\\\n\\end{tabular}\n", 
                        "text/markdown": "\nY | Pregunta | Alumno | \n|---|---|---|---|---|---|\n| 1 | 1 | 1 | \n| 1 | 1 | 2 | \n| 1 | 1 | 3 | \n| 1 | 1 | 4 | \n| 0 | 1 | 5 | \n| 0 | 1 | 6 | \n\n\n", 
                        "text/plain": "  Y Pregunta Alumno\n1 1 1        1     \n2 1 1        2     \n3 1 1        3     \n4 1 1        4     \n5 0 1        5     \n6 0 1        6     "
                    }, 
                    "metadata": {}
                }
            ], 
            "source": "##########################\n# Prueba de Q de Cochran\n##########################\n\n# Define path file\nFILE_URL <-  \"https://raw.githubusercontent.com/jgomezz/MsEstadAplic_MetodosEstadisticos/master/data/metodos_estadisticos/semana-12/Datos_Sesion_11.csv\"\n\nFILE_ENCONDING <- \"ISO-8859-1\"\n\n# Read file\nExamen.data <- read.csv(FILE_URL, fileEncoding = FILE_ENCONDING)\n#\nhead(Examen.data)"
        }, 
        {
            "execution_count": 5, 
            "cell_type": "code", 
            "metadata": {}, 
            "outputs": [
                {
                    "output_type": "stream", 
                    "name": "stderr", 
                    "text": "also installing the dependencies \u2018rgl\u2019, \u2018mixOmics\u2019\n\nWarning message in install.packages(\"RVAideMemoire\"):\n\u201cinstallation of package \u2018rgl\u2019 had non-zero exit status\u201dWarning message in install.packages(\"RVAideMemoire\"):\n\u201cinstallation of package \u2018mixOmics\u2019 had non-zero exit status\u201dWarning message in install.packages(\"RVAideMemoire\"):\n\u201cinstallation of package \u2018RVAideMemoire\u2019 had non-zero exit status\u201dUpdating HTML index of packages in '.Library'\nMaking 'packages.html' ... done\n"
                }, 
                {
                    "ename": "ERROR", 
                    "evalue": "Error in library(RVAideMemoire): there is no package called \u2018RVAideMemoire\u2019\n", 
                    "traceback": [
                        "Error in library(RVAideMemoire): there is no package called \u2018RVAideMemoire\u2019\nTraceback:\n", 
                        "1. library(RVAideMemoire)", 
                        "2. stop(txt, domain = NA)"
                    ], 
                    "output_type": "error"
                }
            ], 
            "source": "# instalando librerias necesarias\n# para usar las pruebas Q de Cochran\ninstall.packages(\"RVAideMemoire\")\nlibrary(RVAideMemoire)\n"
        }, 
        {
            "execution_count": null, 
            "cell_type": "code", 
            "metadata": {}, 
            "outputs": [], 
            "source": "#\npreguntas <- as.factor(Examen.data[,\"Pregunta\"])\nestudiantes <- as.factor(Examen.data[,\"Alumno\"])"
        }, 
        {
            "execution_count": 8, 
            "cell_type": "code", 
            "metadata": {}, 
            "outputs": [
                {
                    "output_type": "display_data", 
                    "data": {
                        "text/html": "<ol class=list-inline>\n\t<li>5</li>\n\t<li>4</li>\n\t<li>5</li>\n\t<li>5</li>\n\t<li>5</li>\n\t<li>2</li>\n</ol>\n", 
                        "text/latex": "\\begin{enumerate*}\n\\item 5\n\\item 4\n\\item 5\n\\item 5\n\\item 5\n\\item 2\n\\end{enumerate*}\n", 
                        "text/markdown": "1. 5\n2. 4\n3. 5\n4. 5\n5. 5\n6. 2\n\n\n", 
                        "text/plain": "[1] 5 4 5 5 5 2"
                    }, 
                    "metadata": {}
                }
            ], 
            "source": "##########################\n# Prueba de Friedman\n##########################\n# Se realiz\u00f3 un experimento para analizar el sabor de una\n# nueva marca de cola antes de que se lance al mercado. Las\n# marcas de colas en comparaci\u00f3n fueron dadas a 5 jueces\n# especializados y se estableci\u00f3 una escala de valores de (1-5)\n# donde 1 es el de peor sabor y 5 el de mejor sabor\n# Los resultados del experimento se muestran a continuaci\u00f3n\n\nSabor.data <- c(5,4,5,5,5,2,1,2,1,2,3,3,2,3,3,2,4,3,2,3)\nhead(Sabor.data)"
        }, 
        {
            "execution_count": 15, 
            "cell_type": "code", 
            "metadata": {}, 
            "outputs": [
                {
                    "output_type": "display_data", 
                    "data": {
                        "text/html": "<ol class=list-inline>\n\t<li>1</li>\n\t<li>2</li>\n\t<li>3</li>\n\t<li>4</li>\n\t<li>5</li>\n\t<li>1</li>\n\t<li>2</li>\n\t<li>3</li>\n\t<li>4</li>\n\t<li>5</li>\n\t<li>1</li>\n\t<li>2</li>\n\t<li>3</li>\n\t<li>4</li>\n\t<li>5</li>\n\t<li>1</li>\n\t<li>2</li>\n\t<li>3</li>\n\t<li>4</li>\n\t<li>5</li>\n</ol>\n", 
                        "text/latex": "\\begin{enumerate*}\n\\item 1\n\\item 2\n\\item 3\n\\item 4\n\\item 5\n\\item 1\n\\item 2\n\\item 3\n\\item 4\n\\item 5\n\\item 1\n\\item 2\n\\item 3\n\\item 4\n\\item 5\n\\item 1\n\\item 2\n\\item 3\n\\item 4\n\\item 5\n\\end{enumerate*}\n", 
                        "text/markdown": "1. 1\n2. 2\n3. 3\n4. 4\n5. 5\n6. 1\n7. 2\n8. 3\n9. 4\n10. 5\n11. 1\n12. 2\n13. 3\n14. 4\n15. 5\n16. 1\n17. 2\n18. 3\n19. 4\n20. 5\n\n\n", 
                        "text/plain": " [1] 1 2 3 4 5 1 2 3 4 5 1 2 3 4 5 1 2 3 4 5"
                    }, 
                    "metadata": {}
                }
            ], 
            "source": "juez <- rep(1:5,4)\njuez"
        }
    ], 
    "metadata": {
        "kernelspec": {
            "display_name": "R", 
            "name": "r", 
            "language": "R"
        }, 
        "language_info": {
            "mimetype": "text/x-r-source", 
            "version": "3.4.2", 
            "name": "R", 
            "pygments_lexer": "r", 
            "file_extension": ".r", 
            "codemirror_mode": "r"
        }
    }, 
    "nbformat": 4
}