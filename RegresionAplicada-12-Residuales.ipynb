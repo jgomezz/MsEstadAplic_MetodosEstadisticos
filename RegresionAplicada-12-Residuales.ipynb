{
    "nbformat_minor": 1, 
    "cells": [
        {
            "execution_count": 2, 
            "cell_type": "code", 
            "metadata": {}, 
            "outputs": [
                {
                    "output_type": "stream", 
                    "name": "stderr", 
                    "text": "The following objects are masked from Autopartes.data (pos = 3):\n\n    Region, X1, X2, X3, X4, X5, Y\n\n"
                }, 
                {
                    "output_type": "display_data", 
                    "data": {
                        "text/html": "<table>\n<thead><tr><th scope=col>Region</th><th scope=col>Y</th><th scope=col>X1</th><th scope=col>X2</th><th scope=col>X3</th><th scope=col>X4</th><th scope=col>X5</th></tr></thead>\n<tbody>\n\t<tr><td>1     </td><td>37.702</td><td>1739  </td><td> 9.27 </td><td>85.4  </td><td>3.5   </td><td> 9    </td></tr>\n\t<tr><td>2     </td><td>24.196</td><td>1221  </td><td> 5.86 </td><td>60.7  </td><td>5.0   </td><td> 5    </td></tr>\n\t<tr><td>3     </td><td>32.055</td><td>1846  </td><td> 8.81 </td><td>68.1  </td><td>4.4   </td><td> 7    </td></tr>\n\t<tr><td>4     </td><td> 3.611</td><td> 120  </td><td> 3.81 </td><td>20.2  </td><td>4.0   </td><td> 5    </td></tr>\n\t<tr><td>5     </td><td>17.625</td><td>1096  </td><td>10.31 </td><td>33.8  </td><td>3.5   </td><td> 7    </td></tr>\n\t<tr><td>6     </td><td>45.919</td><td>2290  </td><td>11.62 </td><td>95.1  </td><td>4.1   </td><td>13    </td></tr>\n</tbody>\n</table>\n", 
                        "text/latex": "\\begin{tabular}{r|lllllll}\n Region & Y & X1 & X2 & X3 & X4 & X5\\\\\n\\hline\n\t 1      & 37.702 & 1739   &  9.27  & 85.4   & 3.5    &  9    \\\\\n\t 2      & 24.196 & 1221   &  5.86  & 60.7   & 5.0    &  5    \\\\\n\t 3      & 32.055 & 1846   &  8.81  & 68.1   & 4.4    &  7    \\\\\n\t 4      &  3.611 &  120   &  3.81  & 20.2   & 4.0    &  5    \\\\\n\t 5      & 17.625 & 1096   & 10.31  & 33.8   & 3.5    &  7    \\\\\n\t 6      & 45.919 & 2290   & 11.62  & 95.1   & 4.1    & 13    \\\\\n\\end{tabular}\n", 
                        "text/markdown": "\nRegion | Y | X1 | X2 | X3 | X4 | X5 | \n|---|---|---|---|---|---|\n| 1      | 37.702 | 1739   |  9.27  | 85.4   | 3.5    |  9     | \n| 2      | 24.196 | 1221   |  5.86  | 60.7   | 5.0    |  5     | \n| 3      | 32.055 | 1846   |  8.81  | 68.1   | 4.4    |  7     | \n| 4      |  3.611 |  120   |  3.81  | 20.2   | 4.0    |  5     | \n| 5      | 17.625 | 1096   | 10.31  | 33.8   | 3.5    |  7     | \n| 6      | 45.919 | 2290   | 11.62  | 95.1   | 4.1    | 13     | \n\n\n", 
                        "text/plain": "  Region Y      X1   X2    X3   X4  X5\n1 1      37.702 1739  9.27 85.4 3.5  9\n2 2      24.196 1221  5.86 60.7 5.0  5\n3 3      32.055 1846  8.81 68.1 4.4  7\n4 4       3.611  120  3.81 20.2 4.0  5\n5 5      17.625 1096 10.31 33.8 3.5  7\n6 6      45.919 2290 11.62 95.1 4.1 13"
                    }, 
                    "metadata": {}
                }
            ], 
            "source": "#\nAutopartes.data <- read.table(file = \"http://tarwi.lamolina.edu.pe/~clopez/Regresion/Autopartes.txt\", header = T)\nattach(Autopartes.data)\nhead(Autopartes.data)\n"
        }, 
        {
            "execution_count": 3, 
            "cell_type": "code", 
            "metadata": {}, 
            "outputs": [
                {
                    "output_type": "display_data", 
                    "data": {
                        "text/html": "<strong>1:</strong> 36.7899880542069", 
                        "text/latex": "\\textbf{1:} 36.7899880542069", 
                        "text/markdown": "**1:** 36.7899880542069", 
                        "text/plain": "       1 \n36.78999 "
                    }, 
                    "metadata": {}
                }
            ], 
            "source": "# se omite la linea 1\nm1 <- lm(Y ~ X1 +X2 + X3 + X4 + X5, data = Autopartes.data[-1,])\n# se calcula la linea 1\npredict(m1, Autopartes.data[1,])\n"
        }, 
        {
            "execution_count": 9, 
            "cell_type": "code", 
            "metadata": {}, 
            "outputs": [
                {
                    "output_type": "display_data", 
                    "data": {
                        "text/html": "0.912009999999995", 
                        "text/latex": "0.912009999999995", 
                        "text/markdown": "0.912009999999995", 
                        "text/plain": "[1] 0.91201"
                    }, 
                    "metadata": {}
                }
            ], 
            "source": "# e sombrero     =  Y    - Y sombrero\n#           (1)       1           (1)\n#\n# e sombrero     =  37.702 - 36.789  = 0.91201\n#          (1)      \n#\n37.702 - 36.78999"
        }, 
        {
            "execution_count": 4, 
            "cell_type": "code", 
            "metadata": {
                "scrolled": true
            }, 
            "outputs": [
                {
                    "output_type": "display_data", 
                    "data": {
                        "text/html": "<strong>2:</strong> 25.2778409941591", 
                        "text/latex": "\\textbf{2:} 25.2778409941591", 
                        "text/markdown": "**2:** 25.2778409941591", 
                        "text/plain": "       2 \n25.27784 "
                    }, 
                    "metadata": {}
                }
            ], 
            "source": "# se omite la linea 2\nm1 <- lm(Y ~ X1 +X2 + X3 + X4 + X5, data = Autopartes.data[-2,])\n# se calcula la linea 1\npredict(m1, Autopartes.data[2,])"
        }, 
        {
            "execution_count": 6, 
            "cell_type": "code", 
            "metadata": {}, 
            "outputs": [
                {
                    "output_type": "display_data", 
                    "data": {
                        "text/html": "-1.0818", 
                        "text/latex": "-1.0818", 
                        "text/markdown": "-1.0818", 
                        "text/plain": "[1] -1.0818"
                    }, 
                    "metadata": {}
                }
            ], 
            "source": "# e sombrero     =  Y    - Y sombrero\n#           (2)       2           (2)\n#\n# e sombrero     =  24.196 - 25.2778  = -1.0818\n#          (2)      \n#\n24.196 - 25.2778"
        }, 
        {
            "execution_count": 11, 
            "cell_type": "code", 
            "metadata": {}, 
            "outputs": [
                {
                    "output_type": "display_data", 
                    "data": {
                        "text/html": "<dl class=dl-horizontal>\n\t<dt>1</dt>\n\t\t<dd>0.912011945793139</dd>\n\t<dt>2</dt>\n\t\t<dd>-1.08184099415911</dd>\n\t<dt>3</dt>\n\t\t<dd>1.54572869837483</dd>\n\t<dt>4</dt>\n\t\t<dd>2.33649769239892</dd>\n\t<dt>5</dt>\n\t\t<dd>-2.28087876155288</dd>\n\t<dt>6</dt>\n\t\t<dd>-0.135186557561302</dd>\n\t<dt>7</dt>\n\t\t<dd>-4.42357612067098</dd>\n\t<dt>8</dt>\n\t\t<dd>-3.11254387199293</dd>\n\t<dt>9</dt>\n\t\t<dd>3.79399907440426</dd>\n\t<dt>10</dt>\n\t\t<dd>2.11128074402319</dd>\n</dl>\n", 
                        "text/latex": "\\begin{description*}\n\\item[1] 0.912011945793139\n\\item[2] -1.08184099415911\n\\item[3] 1.54572869837483\n\\item[4] 2.33649769239892\n\\item[5] -2.28087876155288\n\\item[6] -0.135186557561302\n\\item[7] -4.42357612067098\n\\item[8] -3.11254387199293\n\\item[9] 3.79399907440426\n\\item[10] 2.11128074402319\n\\end{description*}\n", 
                        "text/markdown": "1\n:   0.9120119457931392\n:   -1.081840994159113\n:   1.545728698374834\n:   2.336497692398925\n:   -2.280878761552886\n:   -0.1351865575613027\n:   -4.423576120670988\n:   -3.112543871992939\n:   3.7939990744042610\n:   2.11128074402319\n\n", 
                        "text/plain": "         1          2          3          4          5          6          7 \n 0.9120119 -1.0818410  1.5457287  2.3364977 -2.2808788 -0.1351866 -4.4235761 \n         8          9         10 \n-3.1125439  3.7939991  2.1112807 "
                    }, 
                    "metadata": {}
                }
            ], 
            "source": "## FORMA 1 : Calculo de los residuales directamente\nm <- lm (Y ~ X1 +X2 + X3 + X4 + X5)\ne <- resid(m)\nhii <- hatvalues(m)\n\ne/(1-hii)"
        }, 
        {
            "execution_count": 12, 
            "cell_type": "code", 
            "metadata": {}, 
            "outputs": [
                {
                    "output_type": "stream", 
                    "name": "stderr", 
                    "text": "also installing the dependencies \u2018cli\u2019, \u2018praise\u2019, \u2018testthat\u2019, \u2018processx\u2019, \u2018miniUI\u2019, \u2018webshot\u2019, \u2018crosstalk\u2019, \u2018manipulateWidget\u2019, \u2018minpack.lm\u2019, \u2018rgl\u2019\n\nWarning message in install.packages(\"qpcR\"):\n\u201cinstallation of package \u2018rgl\u2019 had non-zero exit status\u201dWarning message in install.packages(\"qpcR\"):\n\u201cinstallation of package \u2018qpcR\u2019 had non-zero exit status\u201dUpdating HTML index of packages in '.Library'\nMaking 'packages.html' ... done\n"
                }, 
                {
                    "ename": "ERROR", 
                    "evalue": "Error in library(qpcR): there is no package called \u2018qpcR\u2019\n", 
                    "traceback": [
                        "Error in library(qpcR): there is no package called \u2018qpcR\u2019\nTraceback:\n", 
                        "1. library(qpcR)", 
                        "2. stop(txt, domain = NA)"
                    ], 
                    "output_type": "error"
                }
            ], 
            "source": "# FORMA 2 : Calculo de los residuales directamente : residual PRESS\ninstall.packages(\"qpcR\")\nlibrary(qpcR)\na <- PRESS(m)\na$residuals"
        }, 
        {
            "execution_count": 14, 
            "cell_type": "code", 
            "metadata": {}, 
            "outputs": [
                {
                    "output_type": "display_data", 
                    "data": {
                        "text/plain": "\nCall:\nlm(formula = Y ~ X1 + X2 + X3 + X4 + X5)\n\nResiduals:\n       1        2        3        4        5        6        7        8 \n 0.51432 -0.45018  0.92579  0.47761 -0.69260 -0.07109 -1.49579 -1.30332 \n       9       10 \n 1.72442  0.37083 \n\nCoefficients:\n              Estimate Std. Error t value Pr(>|t|)    \n(Intercept) -1.967e+01  5.422e+00  -3.628 0.022195 *  \nX1          -6.286e-04  2.638e-03  -0.238 0.823391    \nX2           1.740e+00  5.530e-01   3.146 0.034638 *  \nX3           4.099e-01  4.385e-02   9.348 0.000729 ***\nX4           2.036e+00  8.779e-01   2.319 0.081238 .  \nX5          -3.445e-02  1.880e-01  -0.183 0.863534    \n---\nSignif. codes:  0 \u2018***\u2019 0.001 \u2018**\u2019 0.01 \u2018*\u2019 0.05 \u2018.\u2019 0.1 \u2018 \u2019 1\n\nResidual standard error: 1.507 on 4 degrees of freedom\nMultiple R-squared:  0.9943,\tAdjusted R-squared:  0.9872 \nF-statistic: 140.4 on 5 and 4 DF,  p-value: 0.0001397\n"
                    }, 
                    "metadata": {}
                }
            ], 
            "source": "Autopartes.m1 <- lm(Y ~ X1 + X2 + X3 + X4 + X5)\nsummary(Autopartes.m1)"
        }, 
        {
            "execution_count": 15, 
            "cell_type": "code", 
            "metadata": {}, 
            "outputs": [
                {
                    "output_type": "display_data", 
                    "data": {
                        "text/html": "<dl class=dl-horizontal>\n\t<dt>1</dt>\n\t\t<dd>0.454467777316421</dd>\n\t<dt>2</dt>\n\t\t<dd>-0.463085375337602</dd>\n\t<dt>3</dt>\n\t\t<dd>0.793792115340266</dd>\n\t<dt>4</dt>\n\t\t<dd>0.700975278546852</dd>\n\t<dt>5</dt>\n\t\t<dd>-0.834019292557871</dd>\n\t<dt>6</dt>\n\t\t<dd>-0.0650534659801797</dd>\n\t<dt>7</dt>\n\t\t<dd>-1.70689129049955</dd>\n\t<dt>8</dt>\n\t\t<dd>-1.33649364067615</dd>\n\t<dt>9</dt>\n\t\t<dd>1.69728589389739</dd>\n\t<dt>10</dt>\n\t\t<dd>0.58714790967942</dd>\n</dl>\n", 
                        "text/latex": "\\begin{description*}\n\\item[1] 0.454467777316421\n\\item[2] -0.463085375337602\n\\item[3] 0.793792115340266\n\\item[4] 0.700975278546852\n\\item[5] -0.834019292557871\n\\item[6] -0.0650534659801797\n\\item[7] -1.70689129049955\n\\item[8] -1.33649364067615\n\\item[9] 1.69728589389739\n\\item[10] 0.58714790967942\n\\end{description*}\n", 
                        "text/markdown": "1\n:   0.4544677773164212\n:   -0.4630853753376023\n:   0.7937921153402664\n:   0.7009752785468525\n:   -0.8340192925578716\n:   -0.06505346598017977\n:   -1.706891290499558\n:   -1.336493640676159\n:   1.6972858938973910\n:   0.58714790967942\n\n", 
                        "text/plain": "          1           2           3           4           5           6 \n 0.45446778 -0.46308538  0.79379212  0.70097528 -0.83401929 -0.06505347 \n          7           8           9          10 \n-1.70689129 -1.33649364  1.69728589  0.58714791 "
                    }, 
                    "metadata": {}
                }
            ], 
            "source": "# Residuales estudentizados internamente\nr <- rstandard(Autopartes.m1)\nr"
        }, 
        {
            "execution_count": 16, 
            "cell_type": "code", 
            "metadata": {}, 
            "outputs": [
                {
                    "output_type": "display_data", 
                    "data": {
                        "text/html": "<dl class=dl-horizontal>\n\t<dt>1</dt>\n\t\t<dd>0.404153202168266</dd>\n\t<dt>2</dt>\n\t\t<dd>-0.412246605950736</dd>\n\t<dt>3</dt>\n\t\t<dd>0.74896113679406</dd>\n\t<dt>4</dt>\n\t\t<dd>0.648178044995646</dd>\n\t<dt>5</dt>\n\t\t<dd>-0.794675164997827</dd>\n\t<dt>6</dt>\n\t\t<dd>-0.0563677802617417</dd>\n\t<dt>7</dt>\n\t\t<dd>-2.8362675951026</dd>\n\t<dt>8</dt>\n\t\t<dd>-1.55582171386408</dd>\n\t<dt>9</dt>\n\t\t<dd>2.77880315158119</dd>\n\t<dt>10</dt>\n\t\t<dd>0.531923488242678</dd>\n</dl>\n", 
                        "text/latex": "\\begin{description*}\n\\item[1] 0.404153202168266\n\\item[2] -0.412246605950736\n\\item[3] 0.74896113679406\n\\item[4] 0.648178044995646\n\\item[5] -0.794675164997827\n\\item[6] -0.0563677802617417\n\\item[7] -2.8362675951026\n\\item[8] -1.55582171386408\n\\item[9] 2.77880315158119\n\\item[10] 0.531923488242678\n\\end{description*}\n", 
                        "text/markdown": "1\n:   0.4041532021682662\n:   -0.4122466059507363\n:   0.748961136794064\n:   0.6481780449956465\n:   -0.7946751649978276\n:   -0.05636778026174177\n:   -2.83626759510268\n:   -1.555821713864089\n:   2.7788031515811910\n:   0.531923488242678\n\n", 
                        "text/plain": "          1           2           3           4           5           6 \n 0.40415320 -0.41224661  0.74896114  0.64817804 -0.79467516 -0.05636778 \n          7           8           9          10 \n-2.83626760 -1.55582171  2.77880315  0.53192349 "
                    }, 
                    "metadata": {}
                }
            ], 
            "source": "# Residuales estudentizados externamente\nt <- rstudent(Autopartes.m1)\nt"
        }
    ], 
    "metadata": {
        "kernelspec": {
            "display_name": "R", 
            "name": "r", 
            "language": "R"
        }, 
        "language_info": {
            "mimetype": "text/x-r-source", 
            "version": "3.4.2", 
            "name": "R", 
            "pygments_lexer": "r", 
            "file_extension": ".r", 
            "codemirror_mode": "r"
        }
    }, 
    "nbformat": 4
}