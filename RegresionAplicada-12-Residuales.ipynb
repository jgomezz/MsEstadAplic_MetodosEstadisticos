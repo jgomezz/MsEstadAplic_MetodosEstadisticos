{
    "nbformat_minor": 1, 
    "cells": [
        {
            "execution_count": 40, 
            "cell_type": "code", 
            "metadata": {}, 
            "outputs": [
                {
                    "output_type": "stream", 
                    "name": "stderr", 
                    "text": "The following objects are masked from Autopartes.data (pos = 4):\n\n    Region, X1, X2, X3, X4, X5, Y\n\nThe following objects are masked from Autopartes.data (pos = 5):\n\n    Region, X1, X2, X3, X4, X5, Y\n\n"
                }, 
                {
                    "output_type": "display_data", 
                    "data": {
                        "text/html": "<table>\n<thead><tr><th scope=col>Region</th><th scope=col>Y</th><th scope=col>X1</th><th scope=col>X2</th><th scope=col>X3</th><th scope=col>X4</th><th scope=col>X5</th></tr></thead>\n<tbody>\n\t<tr><td>1     </td><td>37.702</td><td>1739  </td><td> 9.27 </td><td>85.4  </td><td>3.5   </td><td> 9    </td></tr>\n\t<tr><td>2     </td><td>24.196</td><td>1221  </td><td> 5.86 </td><td>60.7  </td><td>5.0   </td><td> 5    </td></tr>\n\t<tr><td>3     </td><td>32.055</td><td>1846  </td><td> 8.81 </td><td>68.1  </td><td>4.4   </td><td> 7    </td></tr>\n\t<tr><td>4     </td><td> 3.611</td><td> 120  </td><td> 3.81 </td><td>20.2  </td><td>4.0   </td><td> 5    </td></tr>\n\t<tr><td>5     </td><td>17.625</td><td>1096  </td><td>10.31 </td><td>33.8  </td><td>3.5   </td><td> 7    </td></tr>\n\t<tr><td>6     </td><td>45.919</td><td>2290  </td><td>11.62 </td><td>95.1  </td><td>4.1   </td><td>13    </td></tr>\n</tbody>\n</table>\n", 
                        "text/latex": "\\begin{tabular}{r|lllllll}\n Region & Y & X1 & X2 & X3 & X4 & X5\\\\\n\\hline\n\t 1      & 37.702 & 1739   &  9.27  & 85.4   & 3.5    &  9    \\\\\n\t 2      & 24.196 & 1221   &  5.86  & 60.7   & 5.0    &  5    \\\\\n\t 3      & 32.055 & 1846   &  8.81  & 68.1   & 4.4    &  7    \\\\\n\t 4      &  3.611 &  120   &  3.81  & 20.2   & 4.0    &  5    \\\\\n\t 5      & 17.625 & 1096   & 10.31  & 33.8   & 3.5    &  7    \\\\\n\t 6      & 45.919 & 2290   & 11.62  & 95.1   & 4.1    & 13    \\\\\n\\end{tabular}\n", 
                        "text/markdown": "\nRegion | Y | X1 | X2 | X3 | X4 | X5 | \n|---|---|---|---|---|---|\n| 1      | 37.702 | 1739   |  9.27  | 85.4   | 3.5    |  9     | \n| 2      | 24.196 | 1221   |  5.86  | 60.7   | 5.0    |  5     | \n| 3      | 32.055 | 1846   |  8.81  | 68.1   | 4.4    |  7     | \n| 4      |  3.611 |  120   |  3.81  | 20.2   | 4.0    |  5     | \n| 5      | 17.625 | 1096   | 10.31  | 33.8   | 3.5    |  7     | \n| 6      | 45.919 | 2290   | 11.62  | 95.1   | 4.1    | 13     | \n\n\n", 
                        "text/plain": "  Region Y      X1   X2    X3   X4  X5\n1 1      37.702 1739  9.27 85.4 3.5  9\n2 2      24.196 1221  5.86 60.7 5.0  5\n3 3      32.055 1846  8.81 68.1 4.4  7\n4 4       3.611  120  3.81 20.2 4.0  5\n5 5      17.625 1096 10.31 33.8 3.5  7\n6 6      45.919 2290 11.62 95.1 4.1 13"
                    }, 
                    "metadata": {}
                }
            ], 
            "source": "#\nAutopartes.data <- read.table(file = \"http://tarwi.lamolina.edu.pe/~clopez/Regresion/Autopartes.txt\", header = T)\nattach(Autopartes.data)\nhead(Autopartes.data)\n"
        }, 
        {
            "execution_count": 3, 
            "cell_type": "code", 
            "metadata": {}, 
            "outputs": [
                {
                    "output_type": "display_data", 
                    "data": {
                        "text/html": "<strong>1:</strong> 36.7899880542069", 
                        "text/latex": "\\textbf{1:} 36.7899880542069", 
                        "text/markdown": "**1:** 36.7899880542069", 
                        "text/plain": "       1 \n36.78999 "
                    }, 
                    "metadata": {}
                }
            ], 
            "source": "# se omite la linea 1\nm1 <- lm(Y ~ X1 +X2 + X3 + X4 + X5, data = Autopartes.data[-1,])\n# se calcula la linea 1\npredict(m1, Autopartes.data[1,])\n"
        }, 
        {
            "execution_count": 9, 
            "cell_type": "code", 
            "metadata": {}, 
            "outputs": [
                {
                    "output_type": "display_data", 
                    "data": {
                        "text/html": "0.912009999999995", 
                        "text/latex": "0.912009999999995", 
                        "text/markdown": "0.912009999999995", 
                        "text/plain": "[1] 0.91201"
                    }, 
                    "metadata": {}
                }
            ], 
            "source": "# e sombrero     =  Y    - Y sombrero\n#           (1)       1           (1)\n#\n# e sombrero     =  37.702 - 36.789  = 0.91201\n#          (1)      \n#\n37.702 - 36.78999"
        }, 
        {
            "execution_count": 4, 
            "cell_type": "code", 
            "metadata": {
                "scrolled": true
            }, 
            "outputs": [
                {
                    "output_type": "display_data", 
                    "data": {
                        "text/html": "<strong>2:</strong> 25.2778409941591", 
                        "text/latex": "\\textbf{2:} 25.2778409941591", 
                        "text/markdown": "**2:** 25.2778409941591", 
                        "text/plain": "       2 \n25.27784 "
                    }, 
                    "metadata": {}
                }
            ], 
            "source": "# se omite la linea 2\nm1 <- lm(Y ~ X1 +X2 + X3 + X4 + X5, data = Autopartes.data[-2,])\n# se calcula la linea 1\npredict(m1, Autopartes.data[2,])"
        }, 
        {
            "execution_count": 6, 
            "cell_type": "code", 
            "metadata": {}, 
            "outputs": [
                {
                    "output_type": "display_data", 
                    "data": {
                        "text/html": "-1.0818", 
                        "text/latex": "-1.0818", 
                        "text/markdown": "-1.0818", 
                        "text/plain": "[1] -1.0818"
                    }, 
                    "metadata": {}
                }
            ], 
            "source": "# e sombrero     =  Y    - Y sombrero\n#           (2)       2           (2)\n#\n# e sombrero     =  24.196 - 25.2778  = -1.0818\n#          (2)      \n#\n24.196 - 25.2778"
        }, 
        {
            "execution_count": 11, 
            "cell_type": "code", 
            "metadata": {}, 
            "outputs": [
                {
                    "output_type": "display_data", 
                    "data": {
                        "text/html": "<dl class=dl-horizontal>\n\t<dt>1</dt>\n\t\t<dd>0.912011945793139</dd>\n\t<dt>2</dt>\n\t\t<dd>-1.08184099415911</dd>\n\t<dt>3</dt>\n\t\t<dd>1.54572869837483</dd>\n\t<dt>4</dt>\n\t\t<dd>2.33649769239892</dd>\n\t<dt>5</dt>\n\t\t<dd>-2.28087876155288</dd>\n\t<dt>6</dt>\n\t\t<dd>-0.135186557561302</dd>\n\t<dt>7</dt>\n\t\t<dd>-4.42357612067098</dd>\n\t<dt>8</dt>\n\t\t<dd>-3.11254387199293</dd>\n\t<dt>9</dt>\n\t\t<dd>3.79399907440426</dd>\n\t<dt>10</dt>\n\t\t<dd>2.11128074402319</dd>\n</dl>\n", 
                        "text/latex": "\\begin{description*}\n\\item[1] 0.912011945793139\n\\item[2] -1.08184099415911\n\\item[3] 1.54572869837483\n\\item[4] 2.33649769239892\n\\item[5] -2.28087876155288\n\\item[6] -0.135186557561302\n\\item[7] -4.42357612067098\n\\item[8] -3.11254387199293\n\\item[9] 3.79399907440426\n\\item[10] 2.11128074402319\n\\end{description*}\n", 
                        "text/markdown": "1\n:   0.9120119457931392\n:   -1.081840994159113\n:   1.545728698374834\n:   2.336497692398925\n:   -2.280878761552886\n:   -0.1351865575613027\n:   -4.423576120670988\n:   -3.112543871992939\n:   3.7939990744042610\n:   2.11128074402319\n\n", 
                        "text/plain": "         1          2          3          4          5          6          7 \n 0.9120119 -1.0818410  1.5457287  2.3364977 -2.2808788 -0.1351866 -4.4235761 \n         8          9         10 \n-3.1125439  3.7939991  2.1112807 "
                    }, 
                    "metadata": {}
                }
            ], 
            "source": "## FORMA 1 : Calculo de los residuales directamente\nm <- lm (Y ~ X1 +X2 + X3 + X4 + X5)\ne <- resid(m)\nhii <- hatvalues(m)\n\ne/(1-hii)"
        }, 
        {
            "execution_count": 12, 
            "cell_type": "code", 
            "metadata": {}, 
            "outputs": [
                {
                    "output_type": "stream", 
                    "name": "stderr", 
                    "text": "also installing the dependencies \u2018cli\u2019, \u2018praise\u2019, \u2018testthat\u2019, \u2018processx\u2019, \u2018miniUI\u2019, \u2018webshot\u2019, \u2018crosstalk\u2019, \u2018manipulateWidget\u2019, \u2018minpack.lm\u2019, \u2018rgl\u2019\n\nWarning message in install.packages(\"qpcR\"):\n\u201cinstallation of package \u2018rgl\u2019 had non-zero exit status\u201dWarning message in install.packages(\"qpcR\"):\n\u201cinstallation of package \u2018qpcR\u2019 had non-zero exit status\u201dUpdating HTML index of packages in '.Library'\nMaking 'packages.html' ... done\n"
                }, 
                {
                    "ename": "ERROR", 
                    "evalue": "Error in library(qpcR): there is no package called \u2018qpcR\u2019\n", 
                    "traceback": [
                        "Error in library(qpcR): there is no package called \u2018qpcR\u2019\nTraceback:\n", 
                        "1. library(qpcR)", 
                        "2. stop(txt, domain = NA)"
                    ], 
                    "output_type": "error"
                }
            ], 
            "source": "# FORMA 2 : Calculo de los residuales directamente : residual PRESS\ninstall.packages(\"qpcR\")\nlibrary(qpcR)\na <- PRESS(m)\na$residuals"
        }, 
        {
            "execution_count": 44, 
            "cell_type": "code", 
            "metadata": {}, 
            "outputs": [
                {
                    "output_type": "display_data", 
                    "data": {
                        "text/plain": "\nCall:\nlm(formula = Y ~ X1 + X2 + X3 + X4 + X5)\n\nResiduals:\n       1        2        3        4        5        6        7        8 \n 0.51432 -0.45018  0.92579  0.47761 -0.69260 -0.07109 -1.49579 -1.30332 \n       9       10 \n 1.72442  0.37083 \n\nCoefficients:\n              Estimate Std. Error t value Pr(>|t|)    \n(Intercept) -1.967e+01  5.422e+00  -3.628 0.022195 *  \nX1          -6.286e-04  2.638e-03  -0.238 0.823391    \nX2           1.740e+00  5.530e-01   3.146 0.034638 *  \nX3           4.099e-01  4.385e-02   9.348 0.000729 ***\nX4           2.036e+00  8.779e-01   2.319 0.081238 .  \nX5          -3.445e-02  1.880e-01  -0.183 0.863534    \n---\nSignif. codes:  0 \u2018***\u2019 0.001 \u2018**\u2019 0.01 \u2018*\u2019 0.05 \u2018.\u2019 0.1 \u2018 \u2019 1\n\nResidual standard error: 1.507 on 4 degrees of freedom\nMultiple R-squared:  0.9943,\tAdjusted R-squared:  0.9872 \nF-statistic: 140.4 on 5 and 4 DF,  p-value: 0.0001397\n"
                    }, 
                    "metadata": {}
                }
            ], 
            "source": "Autopartes.m1 <- lm(Y ~ X1 + X2 + X3 + X4 + X5)\nsummary(Autopartes.m1)"
        }, 
        {
            "execution_count": 15, 
            "cell_type": "code", 
            "metadata": {}, 
            "outputs": [
                {
                    "output_type": "display_data", 
                    "data": {
                        "text/html": "<dl class=dl-horizontal>\n\t<dt>1</dt>\n\t\t<dd>0.454467777316421</dd>\n\t<dt>2</dt>\n\t\t<dd>-0.463085375337602</dd>\n\t<dt>3</dt>\n\t\t<dd>0.793792115340266</dd>\n\t<dt>4</dt>\n\t\t<dd>0.700975278546852</dd>\n\t<dt>5</dt>\n\t\t<dd>-0.834019292557871</dd>\n\t<dt>6</dt>\n\t\t<dd>-0.0650534659801797</dd>\n\t<dt>7</dt>\n\t\t<dd>-1.70689129049955</dd>\n\t<dt>8</dt>\n\t\t<dd>-1.33649364067615</dd>\n\t<dt>9</dt>\n\t\t<dd>1.69728589389739</dd>\n\t<dt>10</dt>\n\t\t<dd>0.58714790967942</dd>\n</dl>\n", 
                        "text/latex": "\\begin{description*}\n\\item[1] 0.454467777316421\n\\item[2] -0.463085375337602\n\\item[3] 0.793792115340266\n\\item[4] 0.700975278546852\n\\item[5] -0.834019292557871\n\\item[6] -0.0650534659801797\n\\item[7] -1.70689129049955\n\\item[8] -1.33649364067615\n\\item[9] 1.69728589389739\n\\item[10] 0.58714790967942\n\\end{description*}\n", 
                        "text/markdown": "1\n:   0.4544677773164212\n:   -0.4630853753376023\n:   0.7937921153402664\n:   0.7009752785468525\n:   -0.8340192925578716\n:   -0.06505346598017977\n:   -1.706891290499558\n:   -1.336493640676159\n:   1.6972858938973910\n:   0.58714790967942\n\n", 
                        "text/plain": "          1           2           3           4           5           6 \n 0.45446778 -0.46308538  0.79379212  0.70097528 -0.83401929 -0.06505347 \n          7           8           9          10 \n-1.70689129 -1.33649364  1.69728589  0.58714791 "
                    }, 
                    "metadata": {}
                }
            ], 
            "source": "# Residuales estudentizados internamente\nr <- rstandard(Autopartes.m1)\nr"
        }, 
        {
            "execution_count": 16, 
            "cell_type": "code", 
            "metadata": {}, 
            "outputs": [
                {
                    "output_type": "display_data", 
                    "data": {
                        "text/html": "<dl class=dl-horizontal>\n\t<dt>1</dt>\n\t\t<dd>0.404153202168266</dd>\n\t<dt>2</dt>\n\t\t<dd>-0.412246605950736</dd>\n\t<dt>3</dt>\n\t\t<dd>0.74896113679406</dd>\n\t<dt>4</dt>\n\t\t<dd>0.648178044995646</dd>\n\t<dt>5</dt>\n\t\t<dd>-0.794675164997827</dd>\n\t<dt>6</dt>\n\t\t<dd>-0.0563677802617417</dd>\n\t<dt>7</dt>\n\t\t<dd>-2.8362675951026</dd>\n\t<dt>8</dt>\n\t\t<dd>-1.55582171386408</dd>\n\t<dt>9</dt>\n\t\t<dd>2.77880315158119</dd>\n\t<dt>10</dt>\n\t\t<dd>0.531923488242678</dd>\n</dl>\n", 
                        "text/latex": "\\begin{description*}\n\\item[1] 0.404153202168266\n\\item[2] -0.412246605950736\n\\item[3] 0.74896113679406\n\\item[4] 0.648178044995646\n\\item[5] -0.794675164997827\n\\item[6] -0.0563677802617417\n\\item[7] -2.8362675951026\n\\item[8] -1.55582171386408\n\\item[9] 2.77880315158119\n\\item[10] 0.531923488242678\n\\end{description*}\n", 
                        "text/markdown": "1\n:   0.4041532021682662\n:   -0.4122466059507363\n:   0.748961136794064\n:   0.6481780449956465\n:   -0.7946751649978276\n:   -0.05636778026174177\n:   -2.83626759510268\n:   -1.555821713864089\n:   2.7788031515811910\n:   0.531923488242678\n\n", 
                        "text/plain": "          1           2           3           4           5           6 \n 0.40415320 -0.41224661  0.74896114  0.64817804 -0.79467516 -0.05636778 \n          7           8           9          10 \n-2.83626760 -1.55582171  2.77880315  0.53192349 "
                    }, 
                    "metadata": {}
                }
            ], 
            "source": "# Residuales estudentizados externamente\nt <- rstudent(Autopartes.m1)\nt"
        }, 
        {
            "execution_count": null, 
            "cell_type": "code", 
            "metadata": {}, 
            "outputs": [], 
            "source": "# e sombrero    : La data participa de la estimaci\u00f3n del modelo y del proceso de validaci\u00f3n\n#           i\n\n# e sombrero     =  Y    - Y sombrero\n#           i         i               i\n\n# Validaci\u00f3n Cruzada\n\n#   2\n#  R   =   \n\n\n# Todos los residuales te permite calcular el valor de "
        }, 
        {
            "execution_count": 19, 
            "cell_type": "code", 
            "metadata": {}, 
            "outputs": [
                {
                    "output_type": "display_data", 
                    "data": {
                        "text/plain": "\nCall:\nlm(formula = Y ~ X1 + X2 + X3 + X4 + X5, weights = c(1:10))\n\nCoefficients:\n(Intercept)           X1           X2           X3           X4           X5  \n -2.055e+01   -7.688e-04    1.803e+00    4.056e-01    2.090e+00    2.229e-03  \n"
                    }, 
                    "metadata": {}
                }
            ], 
            "source": "w <- runif(10)\n \n"
        }, 
        {
            "execution_count": 20, 
            "cell_type": "code", 
            "metadata": {}, 
            "outputs": [
                {
                    "output_type": "display_data", 
                    "data": {
                        "text/html": "<dl class=dl-horizontal>\n\t<dt>1</dt>\n\t\t<dd>0.214786405418041</dd>\n\t<dt>2</dt>\n\t\t<dd>0.0162803975076856</dd>\n\t<dt>3</dt>\n\t\t<dd>0.686903334836774</dd>\n\t<dt>4</dt>\n\t\t<dd>0.85585814357594</dd>\n\t<dt>5</dt>\n\t\t<dd>-0.671647572686915</dd>\n\t<dt>6</dt>\n\t\t<dd>0.100810689961183</dd>\n\t<dt>7</dt>\n\t\t<dd>-3.19511901653732</dd>\n\t<dt>8</dt>\n\t\t<dd>-3.04743852825143</dd>\n\t<dt>9</dt>\n\t\t<dd>4.05616206669533</dd>\n\t<dt>10</dt>\n\t\t<dd>0.738832493419154</dd>\n</dl>\n", 
                        "text/latex": "\\begin{description*}\n\\item[1] 0.214786405418041\n\\item[2] 0.0162803975076856\n\\item[3] 0.686903334836774\n\\item[4] 0.85585814357594\n\\item[5] -0.671647572686915\n\\item[6] 0.100810689961183\n\\item[7] -3.19511901653732\n\\item[8] -3.04743852825143\n\\item[9] 4.05616206669533\n\\item[10] 0.738832493419154\n\\end{description*}\n", 
                        "text/markdown": "1\n:   0.2147864054180412\n:   0.01628039750768563\n:   0.6869033348367744\n:   0.855858143575945\n:   -0.6716475726869156\n:   0.1008106899611837\n:   -3.195119016537328\n:   -3.047438528251439\n:   4.0561620666953310\n:   0.738832493419154\n\n", 
                        "text/plain": "         1          2          3          4          5          6          7 \n 0.2147864  0.0162804  0.6869033  0.8558581 -0.6716476  0.1008107 -3.1951190 \n         8          9         10 \n-3.0474385  4.0561621  0.7388325 "
                    }, 
                    "metadata": {}
                }
            ], 
            "source": "t <- rstudent(Autopartes.m1.p)\nt"
        }, 
        {
            "execution_count": 21, 
            "cell_type": "code", 
            "metadata": {}, 
            "outputs": [
                {
                    "output_type": "display_data", 
                    "data": {
                        "text/html": "<dl class=dl-horizontal>\n\t<dt>1</dt>\n\t\t<dd>0.246128746851795</dd>\n\t<dt>2</dt>\n\t\t<dd>0.0187981533728608</dd>\n\t<dt>3</dt>\n\t\t<dd>0.737303010981019</dd>\n\t<dt>4</dt>\n\t\t<dd>0.885997043463006</dd>\n\t<dt>5</dt>\n\t\t<dd>-0.723089433267145</dd>\n\t<dt>6</dt>\n\t\t<dd>0.116209488851291</dd>\n\t<dt>7</dt>\n\t\t<dd>-1.75827010226036</dd>\n\t<dt>8</dt>\n\t\t<dd>-1.73877790650487</dd>\n\t<dt>9</dt>\n\t\t<dd>1.83932355701136</dd>\n\t<dt>10</dt>\n\t\t<dd>0.784719358947593</dd>\n</dl>\n", 
                        "text/latex": "\\begin{description*}\n\\item[1] 0.246128746851795\n\\item[2] 0.0187981533728608\n\\item[3] 0.737303010981019\n\\item[4] 0.885997043463006\n\\item[5] -0.723089433267145\n\\item[6] 0.116209488851291\n\\item[7] -1.75827010226036\n\\item[8] -1.73877790650487\n\\item[9] 1.83932355701136\n\\item[10] 0.784719358947593\n\\end{description*}\n", 
                        "text/markdown": "1\n:   0.2461287468517952\n:   0.01879815337286083\n:   0.7373030109810194\n:   0.8859970434630065\n:   -0.7230894332671456\n:   0.1162094888512917\n:   -1.758270102260368\n:   -1.738777906504879\n:   1.8393235570113610\n:   0.784719358947593\n\n", 
                        "text/plain": "          1           2           3           4           5           6 \n 0.24612875  0.01879815  0.73730301  0.88599704 -0.72308943  0.11620949 \n          7           8           9          10 \n-1.75827010 -1.73877791  1.83932356  0.78471936 "
                    }, 
                    "metadata": {}
                }
            ], 
            "source": "r <- rstandard(Autopartes.m1.p)\nr"
        }, 
        {
            "execution_count": 22, 
            "cell_type": "code", 
            "metadata": {}, 
            "outputs": [
                {
                    "output_type": "display_data", 
                    "data": {
                        "text/html": "<table>\n<thead><tr><th></th><th scope=col>(Intercept)</th><th scope=col>X1</th><th scope=col>X2</th><th scope=col>X3</th><th scope=col>X4</th><th scope=col>X5</th></tr></thead>\n<tbody>\n\t<tr><th scope=row>1</th><td> 0.04361874 </td><td>-0.16056328 </td><td> 0.09416540 </td><td> 0.216999483</td><td>-0.11987021 </td><td>-0.043257212</td></tr>\n\t<tr><th scope=row>2</th><td> 0.06602249 </td><td>-0.11422548 </td><td> 0.09810761 </td><td>-0.002419788</td><td>-0.24548562 </td><td> 0.227407045</td></tr>\n\t<tr><th scope=row>3</th><td>-0.06410379 </td><td> 0.30251420 </td><td>-0.13873534 </td><td>-0.162024777</td><td> 0.23437820 </td><td>-0.217684602</td></tr>\n\t<tr><th scope=row>4</th><td> 0.98876658 </td><td> 0.02932507 </td><td>-0.51888843 </td><td>-0.161904051</td><td>-0.74585745 </td><td> 0.217553704</td></tr>\n\t<tr><th scope=row>5</th><td> 0.10723782 </td><td> 0.72633271 </td><td>-0.84305787 </td><td>-0.428776676</td><td> 0.15994198 </td><td> 0.574219643</td></tr>\n\t<tr><th scope=row>6</th><td> 0.02297477 </td><td> 0.01165064 </td><td>-0.01935056 </td><td>-0.023387658</td><td>-0.01030045 </td><td> 0.003461916</td></tr>\n\t<tr><th scope=row>7</th><td>-2.16567887 </td><td>-1.95761805 </td><td> 2.60561299 </td><td> 1.532594082</td><td> 2.14468151 </td><td>-3.438758938</td></tr>\n\t<tr><th scope=row>8</th><td> 0.91881538 </td><td> 0.61311029 </td><td>-0.61910496 </td><td>-0.371707466</td><td>-1.14285436 </td><td> 0.414711746</td></tr>\n\t<tr><th scope=row>9</th><td>-0.78284196 </td><td>-0.80902269 </td><td> 0.40401105 </td><td> 0.522778664</td><td> 0.56066346 </td><td> 1.254953341</td></tr>\n\t<tr><th scope=row>10</th><td> 0.22182428 </td><td> 0.62195667 </td><td>-0.21705395 </td><td>-0.878385703</td><td>-0.09721455 </td><td> 0.146111078</td></tr>\n</tbody>\n</table>\n", 
                        "text/latex": "\\begin{tabular}{r|llllll}\n  & (Intercept) & X1 & X2 & X3 & X4 & X5\\\\\n\\hline\n\t1 &  0.04361874  & -0.16056328  &  0.09416540  &  0.216999483 & -0.11987021  & -0.043257212\\\\\n\t2 &  0.06602249  & -0.11422548  &  0.09810761  & -0.002419788 & -0.24548562  &  0.227407045\\\\\n\t3 & -0.06410379  &  0.30251420  & -0.13873534  & -0.162024777 &  0.23437820  & -0.217684602\\\\\n\t4 &  0.98876658  &  0.02932507  & -0.51888843  & -0.161904051 & -0.74585745  &  0.217553704\\\\\n\t5 &  0.10723782  &  0.72633271  & -0.84305787  & -0.428776676 &  0.15994198  &  0.574219643\\\\\n\t6 &  0.02297477  &  0.01165064  & -0.01935056  & -0.023387658 & -0.01030045  &  0.003461916\\\\\n\t7 & -2.16567887  & -1.95761805  &  2.60561299  &  1.532594082 &  2.14468151  & -3.438758938\\\\\n\t8 &  0.91881538  &  0.61311029  & -0.61910496  & -0.371707466 & -1.14285436  &  0.414711746\\\\\n\t9 & -0.78284196  & -0.80902269  &  0.40401105  &  0.522778664 &  0.56066346  &  1.254953341\\\\\n\t10 &  0.22182428  &  0.62195667  & -0.21705395  & -0.878385703 & -0.09721455  &  0.146111078\\\\\n\\end{tabular}\n", 
                        "text/markdown": "\n| <!--/--> | (Intercept) | X1 | X2 | X3 | X4 | X5 | \n|---|---|---|---|---|---|---|---|---|---|\n| 1 |  0.04361874  | -0.16056328  |  0.09416540  |  0.216999483 | -0.11987021  | -0.043257212 | \n| 2 |  0.06602249  | -0.11422548  |  0.09810761  | -0.002419788 | -0.24548562  |  0.227407045 | \n| 3 | -0.06410379  |  0.30251420  | -0.13873534  | -0.162024777 |  0.23437820  | -0.217684602 | \n| 4 |  0.98876658  |  0.02932507  | -0.51888843  | -0.161904051 | -0.74585745  |  0.217553704 | \n| 5 |  0.10723782  |  0.72633271  | -0.84305787  | -0.428776676 |  0.15994198  |  0.574219643 | \n| 6 |  0.02297477  |  0.01165064  | -0.01935056  | -0.023387658 | -0.01030045  |  0.003461916 | \n| 7 | -2.16567887  | -1.95761805  |  2.60561299  |  1.532594082 |  2.14468151  | -3.438758938 | \n| 8 |  0.91881538  |  0.61311029  | -0.61910496  | -0.371707466 | -1.14285436  |  0.414711746 | \n| 9 | -0.78284196  | -0.80902269  |  0.40401105  |  0.522778664 |  0.56066346  |  1.254953341 | \n| 10 |  0.22182428  |  0.62195667  | -0.21705395  | -0.878385703 | -0.09721455  |  0.146111078 | \n\n\n", 
                        "text/plain": "   (Intercept) X1          X2          X3           X4          X5          \n1   0.04361874 -0.16056328  0.09416540  0.216999483 -0.11987021 -0.043257212\n2   0.06602249 -0.11422548  0.09810761 -0.002419788 -0.24548562  0.227407045\n3  -0.06410379  0.30251420 -0.13873534 -0.162024777  0.23437820 -0.217684602\n4   0.98876658  0.02932507 -0.51888843 -0.161904051 -0.74585745  0.217553704\n5   0.10723782  0.72633271 -0.84305787 -0.428776676  0.15994198  0.574219643\n6   0.02297477  0.01165064 -0.01935056 -0.023387658 -0.01030045  0.003461916\n7  -2.16567887 -1.95761805  2.60561299  1.532594082  2.14468151 -3.438758938\n8   0.91881538  0.61311029 -0.61910496 -0.371707466 -1.14285436  0.414711746\n9  -0.78284196 -0.80902269  0.40401105  0.522778664  0.56066346  1.254953341\n10  0.22182428  0.62195667 -0.21705395 -0.878385703 -0.09721455  0.146111078"
                    }, 
                    "metadata": {}
                }
            ], 
            "source": "# MEDIDAS DE INFLUENCIA\n\ndfbetas(Autopartes.m1)"
        }, 
        {
            "execution_count": 23, 
            "cell_type": "code", 
            "metadata": {}, 
            "outputs": [
                {
                    "output_type": "display_data", 
                    "data": {
                        "text/html": "<dl class=dl-horizontal>\n\t<dt>1</dt>\n\t\t<dd>0.355384759270919</dd>\n\t<dt>2</dt>\n\t\t<dd>-0.488318168487499</dd>\n\t<dt>3</dt>\n\t\t<dd>0.612884586881586</dd>\n\t<dt>4</dt>\n\t\t<dd>1.27874977523563</dd>\n\t<dt>5</dt>\n\t\t<dd>-1.20340751140436</dd>\n\t<dt>6</dt>\n\t\t<dd>-0.0535195397185149</dd>\n\t<dt>7</dt>\n\t\t<dd>-3.96809904023796</dd>\n\t<dt>8</dt>\n\t\t<dd>-1.83308168010766</dd>\n\t<dt>9</dt>\n\t\t<dd>3.04422290658913</dd>\n\t<dt>10</dt>\n\t\t<dd>1.15236314223931</dd>\n</dl>\n", 
                        "text/latex": "\\begin{description*}\n\\item[1] 0.355384759270919\n\\item[2] -0.488318168487499\n\\item[3] 0.612884586881586\n\\item[4] 1.27874977523563\n\\item[5] -1.20340751140436\n\\item[6] -0.0535195397185149\n\\item[7] -3.96809904023796\n\\item[8] -1.83308168010766\n\\item[9] 3.04422290658913\n\\item[10] 1.15236314223931\n\\end{description*}\n", 
                        "text/markdown": "1\n:   0.3553847592709192\n:   -0.4883181684874993\n:   0.6128845868815864\n:   1.278749775235635\n:   -1.203407511404366\n:   -0.05351953971851497\n:   -3.968099040237968\n:   -1.833081680107669\n:   3.0442229065891310\n:   1.15236314223931\n\n", 
                        "text/plain": "          1           2           3           4           5           6 \n 0.35538476 -0.48831817  0.61288459  1.27874978 -1.20340751 -0.05351954 \n          7           8           9          10 \n-3.96809904 -1.83308168  3.04422291  1.15236314 "
                    }, 
                    "metadata": {}
                }
            ], 
            "source": "dffits(Autopartes.m1)"
        }, 
        {
            "execution_count": 24, 
            "cell_type": "code", 
            "metadata": {}, 
            "outputs": [
                {
                    "output_type": "display_data", 
                    "data": {
                        "text/html": "<dl class=dl-horizontal>\n\t<dt>1</dt>\n\t\t<dd>7.24850703047076</dd>\n\t<dt>2</dt>\n\t\t<dd>9.70110708128102</dd>\n\t<dt>3</dt>\n\t\t<dd>3.35422189910758</dd>\n\t<dt>4</dt>\n\t\t<dd>12.5197244375456</dd>\n\t<dt>5</dt>\n\t\t<dd>5.88109939630895</dd>\n\t<dt>6</dt>\n\t\t<dd>10.6161993320895</dd>\n\t<dt>7</dt>\n\t\t<dd>0.0066743355073012</dd>\n\t<dt>8</dt>\n\t\t<dd>0.385612253278569</dd>\n\t<dt>9</dt>\n\t\t<dd>0.00593225626561742</dd>\n\t<dt>10</dt>\n\t\t<dd>18.6271317351432</dd>\n</dl>\n", 
                        "text/latex": "\\begin{description*}\n\\item[1] 7.24850703047076\n\\item[2] 9.70110708128102\n\\item[3] 3.35422189910758\n\\item[4] 12.5197244375456\n\\item[5] 5.88109939630895\n\\item[6] 10.6161993320895\n\\item[7] 0.0066743355073012\n\\item[8] 0.385612253278569\n\\item[9] 0.00593225626561742\n\\item[10] 18.6271317351432\n\\end{description*}\n", 
                        "text/markdown": "1\n:   7.248507030470762\n:   9.701107081281023\n:   3.354221899107584\n:   12.51972443754565\n:   5.881099396308956\n:   10.61619933208957\n:   0.00667433550730128\n:   0.3856122532785699\n:   0.0059322562656174210\n:   18.6271317351432\n\n", 
                        "text/plain": "           1            2            3            4            5            6 \n 7.248507030  9.701107081  3.354221899 12.519724438  5.881099396 10.616199332 \n           7            8            9           10 \n 0.006674336  0.385612253  0.005932256 18.627131735 "
                    }, 
                    "metadata": {}
                }
            ], 
            "source": "# COVRATIO\ncovratio(Autopartes.m1)"
        }, 
        {
            "execution_count": 25, 
            "cell_type": "code", 
            "metadata": {}, 
            "outputs": [
                {
                    "output_type": "display_data", 
                    "data": {
                        "text/html": "<dl class=dl-horizontal>\n\t<dt>1</dt>\n\t\t<dd>0.0266170850377692</dd>\n\t<dt>2</dt>\n\t\t<dd>0.0501490222196362</dd>\n\t<dt>3</dt>\n\t\t<dd>0.0703236080211954</dd>\n\t<dt>4</dt>\n\t\t<dd>0.31874006801851</dd>\n\t<dt>5</dt>\n\t\t<dd>0.265856386586447</dd>\n\t<dt>6</dt>\n\t\t<dd>0.000635846820468477</dd>\n\t<dt>7</dt>\n\t\t<dd>0.950453938495289</dd>\n\t<dt>8</dt>\n\t\t<dd>0.413262996305229</dd>\n\t<dt>9</dt>\n\t\t<dd>0.576230294291419</dd>\n\t<dt>10</dt>\n\t\t<dd>0.269664743791317</dd>\n</dl>\n", 
                        "text/latex": "\\begin{description*}\n\\item[1] 0.0266170850377692\n\\item[2] 0.0501490222196362\n\\item[3] 0.0703236080211954\n\\item[4] 0.31874006801851\n\\item[5] 0.265856386586447\n\\item[6] 0.000635846820468477\n\\item[7] 0.950453938495289\n\\item[8] 0.413262996305229\n\\item[9] 0.576230294291419\n\\item[10] 0.269664743791317\n\\end{description*}\n", 
                        "text/markdown": "1\n:   0.02661708503776922\n:   0.05014902221963623\n:   0.07032360802119544\n:   0.318740068018515\n:   0.2658563865864476\n:   0.0006358468204684777\n:   0.9504539384952898\n:   0.4132629963052299\n:   0.57623029429141910\n:   0.269664743791317\n\n", 
                        "text/plain": "           1            2            3            4            5            6 \n0.0266170850 0.0501490222 0.0703236080 0.3187400680 0.2658563866 0.0006358468 \n           7            8            9           10 \n0.9504539385 0.4132629963 0.5762302943 0.2696647438 "
                    }, 
                    "metadata": {}
                }
            ], 
            "source": "cooks.distance(Autopartes.m1)"
        }, 
        {
            "execution_count": 52, 
            "cell_type": "code", 
            "metadata": {}, 
            "outputs": [
                {
                    "output_type": "display_data", 
                    "data": {
                        "text/plain": "Influence measures of\n\t lm(formula = Y ~ X1 + X2 + X3 + X4 + X5) :\n\n    dfb.1_  dfb.X1  dfb.X2   dfb.X3  dfb.X4   dfb.X5   dffit    cov.r   cook.d\n1   0.0436 -0.1606  0.0942  0.21700 -0.1199 -0.04326  0.3554  7.24851 0.026617\n2   0.0660 -0.1142  0.0981 -0.00242 -0.2455  0.22741 -0.4883  9.70111 0.050149\n3  -0.0641  0.3025 -0.1387 -0.16202  0.2344 -0.21768  0.6129  3.35422 0.070324\n4   0.9888  0.0293 -0.5189 -0.16190 -0.7459  0.21755  1.2787 12.51972 0.318740\n5   0.1072  0.7263 -0.8431 -0.42878  0.1599  0.57422 -1.2034  5.88110 0.265856\n6   0.0230  0.0117 -0.0194 -0.02339 -0.0103  0.00346 -0.0535 10.61620 0.000636\n7  -2.1657 -1.9576  2.6056  1.53259  2.1447 -3.43876 -3.9681  0.00667 0.950454\n8   0.9188  0.6131 -0.6191 -0.37171 -1.1429  0.41471 -1.8331  0.38561 0.413263\n9  -0.7828 -0.8090  0.4040  0.52278  0.5607  1.25495  3.0442  0.00593 0.576230\n10  0.2218  0.6220 -0.2171 -0.87839 -0.0972  0.14611  1.1524 18.62713 0.269665\n     hat inf\n1  0.436   *\n2  0.584   *\n3  0.401    \n4  0.796   *\n5  0.696   *\n6  0.474   *\n7  0.662   *\n8  0.581   *\n9  0.545   *\n10 0.824   *"
                    }, 
                    "metadata": {}
                }
            ], 
            "source": "influence.measures(Autopartes.m1)\n"
        }, 
        {
            "execution_count": null, 
            "cell_type": "code", 
            "metadata": {}, 
            "outputs": [], 
            "source": "# la columna inf, nos indica que fila podrian tener un dato influencial"
        }, 
        {
            "execution_count": 46, 
            "cell_type": "code", 
            "metadata": {}, 
            "outputs": [
                {
                    "output_type": "display_data", 
                    "data": {
                        "text/html": "<table>\n<thead><tr><th></th><th scope=col>StudRes</th><th scope=col>Hat</th><th scope=col>CookD</th></tr></thead>\n<tbody>\n\t<tr><th scope=row>7</th><td>-2.8362676</td><td>0.6618605 </td><td>0.9504539 </td></tr>\n\t<tr><th scope=row>10</th><td> 0.5319235</td><td>0.8243556 </td><td>0.2696647 </td></tr>\n</tbody>\n</table>\n", 
                        "text/latex": "\\begin{tabular}{r|lll}\n  & StudRes & Hat & CookD\\\\\n\\hline\n\t7 & -2.8362676 & 0.6618605  & 0.9504539 \\\\\n\t10 &  0.5319235 & 0.8243556  & 0.2696647 \\\\\n\\end{tabular}\n", 
                        "text/markdown": "\n| <!--/--> | StudRes | Hat | CookD | \n|---|---|\n| 7 | -2.8362676 | 0.6618605  | 0.9504539  | \n| 10 |  0.5319235 | 0.8243556  | 0.2696647  | \n\n\n", 
                        "text/plain": "   StudRes    Hat       CookD    \n7  -2.8362676 0.6618605 0.9504539\n10  0.5319235 0.8243556 0.2696647"
                    }, 
                    "metadata": {}
                }, 
                {
                    "output_type": "display_data", 
                    "data": {
                        "image/png": "[encoded data removed]", 
                        "text/plain": "plot without title"
                    }, 
                    "metadata": {}
                }
            ], 
            "source": "library(car)\ninfluencePlot(Autopartes.m1)"
        }, 
        {
            "execution_count": 29, 
            "cell_type": "code", 
            "metadata": {}, 
            "outputs": [
                {
                    "output_type": "display_data", 
                    "data": {
                        "text/html": "<dl class=dl-horizontal>\n\t<dt>(Intercept)</dt>\n\t\t<dd>-19.6715109998534</dd>\n\t<dt>X1</dt>\n\t\t<dd>-0.00062861050205568</dd>\n\t<dt>X2</dt>\n\t\t<dd>1.73990110036959</dd>\n\t<dt>X3</dt>\n\t\t<dd>0.409935351132325</dd>\n\t<dt>X4</dt>\n\t\t<dd>2.03571256255528</dd>\n\t<dt>X5</dt>\n\t\t<dd>-0.0344461709046393</dd>\n</dl>\n", 
                        "text/latex": "\\begin{description*}\n\\item[(Intercept)] -19.6715109998534\n\\item[X1] -0.00062861050205568\n\\item[X2] 1.73990110036959\n\\item[X3] 0.409935351132325\n\\item[X4] 2.03571256255528\n\\item[X5] -0.0344461709046393\n\\end{description*}\n", 
                        "text/markdown": "(Intercept)\n:   -19.6715109998534X1\n:   -0.00062861050205568X2\n:   1.73990110036959X3\n:   0.409935351132325X4\n:   2.03571256255528X5\n:   -0.0344461709046393\n\n", 
                        "text/plain": "  (Intercept)            X1            X2            X3            X4 \n-1.967151e+01 -6.286105e-04  1.739901e+00  4.099354e-01  2.035713e+00 \n           X5 \n-3.444617e-02 "
                    }, 
                    "metadata": {}
                }
            ], 
            "source": "# calculo de coeficientes\ncoef(Autopartes.m1)"
        }, 
        {
            "execution_count": 50, 
            "cell_type": "code", 
            "metadata": {}, 
            "outputs": [
                {
                    "output_type": "display_data", 
                    "data": {
                        "text/html": "<dl class=dl-horizontal>\n\t<dt>(Intercept)</dt>\n\t\t<dd>-12.6051176629756</dd>\n\t<dt>X1</dt>\n\t\t<dd>0.00247970646074235</dd>\n\t<dt>X2</dt>\n\t\t<dd>0.872741986303985</dd>\n\t<dt>X3</dt>\n\t\t<dd>0.369490276926766</dd>\n\t<dt>X4</dt>\n\t\t<dd>0.902626029186887</dd>\n\t<dt>X5</dt>\n\t\t<dd>0.354614525093295</dd>\n</dl>\n", 
                        "text/latex": "\\begin{description*}\n\\item[(Intercept)] -12.6051176629756\n\\item[X1] 0.00247970646074235\n\\item[X2] 0.872741986303985\n\\item[X3] 0.369490276926766\n\\item[X4] 0.902626029186887\n\\item[X5] 0.354614525093295\n\\end{description*}\n", 
                        "text/markdown": "(Intercept)\n:   -12.6051176629756X1\n:   0.00247970646074235X2\n:   0.872741986303985X3\n:   0.369490276926766X4\n:   0.902626029186887X5\n:   0.354614525093295\n\n", 
                        "text/plain": "  (Intercept)            X1            X2            X3            X4 \n-12.605117663   0.002479706   0.872741986   0.369490277   0.902626029 \n           X5 \n  0.354614525 "
                    }, 
                    "metadata": {}
                }
            ], 
            "source": "# se quita el dato 7 porque es un posible dato influencial\nAutopartes.m7 <- lm(Y ~ X1 + X2 + X3 + X4 + X5, data=Autopartes.data[-7,])\ncoef(Autopartes.m7)"
        }, 
        {
            "execution_count": 51, 
            "cell_type": "code", 
            "metadata": {}, 
            "outputs": [
                {
                    "output_type": "display_data", 
                    "data": {
                        "text/html": "<dl class=dl-horizontal>\n\t<dt>(Intercept)</dt>\n\t\t<dd>-20.9990659933539</dd>\n\t<dt>X1</dt>\n\t\t<dd>-0.00243993875365593</dd>\n\t<dt>X2</dt>\n\t\t<dd>1.87239511898987</dd>\n\t<dt>X3</dt>\n\t\t<dd>0.452452432319368</dd>\n\t<dt>X4</dt>\n\t\t<dd>2.12991697634921</dd>\n\t<dt>X5</dt>\n\t\t<dd>-0.0647668179625883</dd>\n</dl>\n", 
                        "text/latex": "\\begin{description*}\n\\item[(Intercept)] -20.9990659933539\n\\item[X1] -0.00243993875365593\n\\item[X2] 1.87239511898987\n\\item[X3] 0.452452432319368\n\\item[X4] 2.12991697634921\n\\item[X5] -0.0647668179625883\n\\end{description*}\n", 
                        "text/markdown": "(Intercept)\n:   -20.9990659933539X1\n:   -0.00243993875365593X2\n:   1.87239511898987X3\n:   0.452452432319368X4\n:   2.12991697634921X5\n:   -0.0647668179625883\n\n", 
                        "text/plain": "  (Intercept)            X1            X2            X3            X4 \n-20.999065993  -0.002439939   1.872395119   0.452452432   2.129916976 \n           X5 \n -0.064766818 "
                    }, 
                    "metadata": {}
                }
            ], 
            "source": "# se quita el dato 10 porque es un posible dato influencial\nAutopartes.m10 <- lm(Y ~ X1 + X2 + X3 + X4 + X5, data=Autopartes.data[-10,])\ncoef(Autopartes.m10)"
        }, 
        {
            "execution_count": null, 
            "cell_type": "code", 
            "metadata": {}, 
            "outputs": [], 
            "source": "# en RSTUDIO, Salen 4 datos influenciales, 4,7,9,10"
        }, 
        {
            "execution_count": 57, 
            "cell_type": "code", 
            "metadata": {}, 
            "outputs": [
                {
                    "output_type": "display_data", 
                    "data": {
                        "text/html": "<dl class=dl-horizontal>\n\t<dt>(Intercept)</dt>\n\t\t<dd>-19.8698512152337</dd>\n\t<dt>X1</dt>\n\t\t<dd>-0.000899227717391871</dd>\n\t<dt>X2</dt>\n\t\t<dd>1.75969605599735</dd>\n\t<dt>X3</dt>\n\t\t<dd>0.416287515134016</dd>\n\t<dt>X4</dt>\n\t\t<dd>2.04978695029299</dd>\n\t<dt>X5</dt>\n\t\t<dd>-0.0389761554984116</dd>\n</dl>\n", 
                        "text/latex": "\\begin{description*}\n\\item[(Intercept)] -19.8698512152337\n\\item[X1] -0.000899227717391871\n\\item[X2] 1.75969605599735\n\\item[X3] 0.416287515134016\n\\item[X4] 2.04978695029299\n\\item[X5] -0.0389761554984116\n\\end{description*}\n", 
                        "text/markdown": "(Intercept)\n:   -19.8698512152337X1\n:   -0.000899227717391871X2\n:   1.75969605599735X3\n:   0.416287515134016X4\n:   2.04978695029299X5\n:   -0.0389761554984116\n\n", 
                        "text/plain": "  (Intercept)            X1            X2            X3            X4 \n-1.986985e+01 -8.992277e-04  1.759696e+00  4.162875e-01  2.049787e+00 \n           X5 \n-3.897616e-02 "
                    }, 
                    "metadata": {}
                }, 
                {
                    "output_type": "display_data", 
                    "data": {
                        "text/html": "<dl class=dl-horizontal>\n\t<dt>(Intercept)</dt>\n\t\t<dd>-19.6715109998534</dd>\n\t<dt>X1</dt>\n\t\t<dd>-0.00062861050205568</dd>\n\t<dt>X2</dt>\n\t\t<dd>1.73990110036959</dd>\n\t<dt>X3</dt>\n\t\t<dd>0.409935351132325</dd>\n\t<dt>X4</dt>\n\t\t<dd>2.03571256255528</dd>\n\t<dt>X5</dt>\n\t\t<dd>-0.0344461709046393</dd>\n</dl>\n", 
                        "text/latex": "\\begin{description*}\n\\item[(Intercept)] -19.6715109998534\n\\item[X1] -0.00062861050205568\n\\item[X2] 1.73990110036959\n\\item[X3] 0.409935351132325\n\\item[X4] 2.03571256255528\n\\item[X5] -0.0344461709046393\n\\end{description*}\n", 
                        "text/markdown": "(Intercept)\n:   -19.6715109998534X1\n:   -0.00062861050205568X2\n:   1.73990110036959X3\n:   0.409935351132325X4\n:   2.03571256255528X5\n:   -0.0344461709046393\n\n", 
                        "text/plain": "  (Intercept)            X1            X2            X3            X4 \n-1.967151e+01 -6.286105e-04  1.739901e+00  4.099354e-01  2.035713e+00 \n           X5 \n-3.444617e-02 "
                    }, 
                    "metadata": {}
                }
            ], 
            "source": "# Para escoger a que dato debo seleccionar como influenciador es medir el cambio\n# por ejemplo como cambia el coeficiente de regresion, etc...\n\n# Reduzco peso en el dato 10 usando una ponderaci\u00f3n modular\nAutopartes.m1.p <- lm(Y ~ X1 + X2 + X3 + X4 + X5, weights=c(1,1,1,1,1,1,1,1,1,0.5))\ncoef(Autopartes.m1.p)\n"
        }, 
        {
            "execution_count": null, 
            "cell_type": "code", 
            "metadata": {}, 
            "outputs": [], 
            "source": ""
        }
    ], 
    "metadata": {
        "kernelspec": {
            "display_name": "R", 
            "name": "r", 
            "language": "R"
        }, 
        "language_info": {
            "mimetype": "text/x-r-source", 
            "version": "3.4.2", 
            "name": "R", 
            "pygments_lexer": "r", 
            "file_extension": ".r", 
            "codemirror_mode": "r"
        }
    }, 
    "nbformat": 4
}