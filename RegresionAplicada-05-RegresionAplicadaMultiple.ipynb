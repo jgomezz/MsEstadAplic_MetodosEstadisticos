{
    "nbformat_minor": 1, 
    "cells": [
        {
            "execution_count": 2, 
            "cell_type": "code", 
            "metadata": {}, 
            "outputs": [], 
            "source": "###############################################################################\n##  Curso : Regresi\u00f3n Aplicada\n##  Sesion : 05\n##  Tema : Regresi\u00f3n Aplicada M\u00faltiple\n###############################################################################\n\n\nGasolina2001.data <- read.table(file = \"http://tarwi.lamolina.edu.pe/~clopez/Regresion/Gasolina2001.txt\", header = T)\nattach(Gasolina2001.data)\nTasaLic <- 1000*Licencias/Poblacion\nTasaComb <- 1000*Combustible/Poblacion\nIngreso <- Ingreso/1000\nlogMillas <- log2(Millas)\n"
        }, 
        {
            "execution_count": 3, 
            "cell_type": "code", 
            "metadata": {}, 
            "outputs": [
                {
                    "output_type": "display_data", 
                    "data": {
                        "text/plain": "\nCall:\nlm(formula = TasaComb ~ Impuesto + TasaLic + Ingreso + logMillas)\n\nResiduals:\n     Min       1Q   Median       3Q      Max \n-163.145  -33.039    5.895   31.989  183.499 \n\nCoefficients:\n            Estimate Std. Error t value Pr(>|t|)    \n(Intercept) 154.1928   194.9062   0.791 0.432938    \nImpuesto     -4.2280     2.0301  -2.083 0.042873 *  \nTasaLic       0.4719     0.1285   3.672 0.000626 ***\nIngreso      -6.1353     2.1936  -2.797 0.007508 ** \nlogMillas    18.5453     6.4722   2.865 0.006259 ** \n---\nSignif. codes:  0 \u2018***\u2019 0.001 \u2018**\u2019 0.01 \u2018*\u2019 0.05 \u2018.\u2019 0.1 \u2018 \u2019 1\n\nResidual standard error: 64.89 on 46 degrees of freedom\nMultiple R-squared:  0.5105,\tAdjusted R-squared:  0.4679 \nF-statistic: 11.99 on 4 and 46 DF,  p-value: 9.331e-07\n"
                    }, 
                    "metadata": {}
                }
            ], 
            "source": "Gasolina2001.m5 <- lm(TasaComb ~ Impuesto + TasaLic + Ingreso + logMillas)\nsummary(Gasolina2001.m5)"
        }, 
        {
            "execution_count": 4, 
            "cell_type": "code", 
            "metadata": {}, 
            "outputs": [
                {
                    "output_type": "display_data", 
                    "data": {
                        "text/html": "<table>\n<thead><tr><th scope=col></th><th scope=col>Impuesto</th><th scope=col>TasaLic</th><th scope=col>Ingreso</th><th scope=col>logMillas</th></tr></thead>\n<tbody>\n\t<tr><td>1        </td><td>18.0     </td><td>1031.3801</td><td>23.471   </td><td>16.52711 </td></tr>\n\t<tr><td>1        </td><td> 8.0     </td><td>1031.6411</td><td>30.064   </td><td>13.73429 </td></tr>\n\t<tr><td>1        </td><td>18.0     </td><td> 908.5972</td><td>25.578   </td><td>15.75356 </td></tr>\n\t<tr><td>1        </td><td>21.7     </td><td> 946.5706</td><td>22.257   </td><td>16.58244 </td></tr>\n\t<tr><td>1        </td><td>18.0     </td><td> 844.7033</td><td>32.275   </td><td>17.36471 </td></tr>\n\t<tr><td>1        </td><td>22.0     </td><td> 989.6062</td><td>32.949   </td><td>16.38960 </td></tr>\n</tbody>\n</table>\n", 
                        "text/latex": "\\begin{tabular}{lllll}\n  & Impuesto & TasaLic & Ingreso & logMillas\\\\\n\\hline\n\t 1         & 18.0      & 1031.3801 & 23.471    & 16.52711 \\\\\n\t 1         &  8.0      & 1031.6411 & 30.064    & 13.73429 \\\\\n\t 1         & 18.0      &  908.5972 & 25.578    & 15.75356 \\\\\n\t 1         & 21.7      &  946.5706 & 22.257    & 16.58244 \\\\\n\t 1         & 18.0      &  844.7033 & 32.275    & 17.36471 \\\\\n\t 1         & 22.0      &  989.6062 & 32.949    & 16.38960 \\\\\n\\end{tabular}\n", 
                        "text/markdown": "\n | Impuesto | TasaLic | Ingreso | logMillas | \n|---|---|---|---|---|---|\n| 1         | 18.0      | 1031.3801 | 23.471    | 16.52711  | \n| 1         |  8.0      | 1031.6411 | 30.064    | 13.73429  | \n| 1         | 18.0      |  908.5972 | 25.578    | 15.75356  | \n| 1         | 21.7      |  946.5706 | 22.257    | 16.58244  | \n| 1         | 18.0      |  844.7033 | 32.275    | 17.36471  | \n| 1         | 22.0      |  989.6062 | 32.949    | 16.38960  | \n\n\n", 
                        "text/plain": "       Impuesto TasaLic   Ingreso logMillas\n[1,] 1 18.0     1031.3801 23.471  16.52711 \n[2,] 1  8.0     1031.6411 30.064  13.73429 \n[3,] 1 18.0      908.5972 25.578  15.75356 \n[4,] 1 21.7      946.5706 22.257  16.58244 \n[5,] 1 18.0      844.7033 32.275  17.36471 \n[6,] 1 22.0      989.6062 32.949  16.38960 "
                    }, 
                    "metadata": {}
                }
            ], 
            "source": "# Se realizara en terminos matriciales\n\n#  Y sombrero =  154.1928 -4.2280  0.4719 -6135.3310   18.5453 \n\n\n# Creamos la matriz \nY <- TasaComb\nX <- cbind(1, Impuesto, TasaLic ,Ingreso, logMillas ) ## solo se uso el 1 para estimar los parametros\nhead(X)"
        }, 
        {
            "execution_count": 5, 
            "cell_type": "code", 
            "metadata": {}, 
            "outputs": [
                {
                    "output_type": "display_data", 
                    "data": {
                        "text/html": "<table>\n<tbody>\n\t<tr><th scope=row></th><td>154.1928446</td></tr>\n\t<tr><th scope=row>Impuesto</th><td> -4.2279832</td></tr>\n\t<tr><th scope=row>TasaLic</th><td>  0.4718712</td></tr>\n\t<tr><th scope=row>Ingreso</th><td> -6.1353310</td></tr>\n\t<tr><th scope=row>logMillas</th><td> 18.5452745</td></tr>\n</tbody>\n</table>\n", 
                        "text/latex": "\\begin{tabular}{r|l}\n\t & 154.1928446\\\\\n\tImpuesto &  -4.2279832\\\\\n\tTasaLic &   0.4718712\\\\\n\tIngreso &  -6.1353310\\\\\n\tlogMillas &  18.5452745\\\\\n\\end{tabular}\n", 
                        "text/markdown": "\n|  | 154.1928446 | \n| Impuesto |  -4.2279832 | \n| TasaLic |   0.4718712 | \n| Ingreso |  -6.1353310 | \n| logMillas |  18.5452745 | \n\n\n", 
                        "text/plain": "          [,1]       \n          154.1928446\nImpuesto   -4.2279832\nTasaLic     0.4718712\nIngreso    -6.1353310\nlogMillas  18.5452745"
                    }, 
                    "metadata": {}
                }
            ], 
            "source": "#\n## Calcular el estimador de beta  ---> beta es el vector de coeficientes de regresion\n#\n# estimador beta = ( X transpuerta * X) inversa * X transpuesta * Y con marca abaja\n#\n# R multiplicacion de matrices     t(x)% * %X\n\n##\nbeta <- solve(t(X)%*%X)%*%t(X)%*%Y\nbeta"
        }, 
        {
            "execution_count": 6, 
            "cell_type": "code", 
            "metadata": {}, 
            "outputs": [
                {
                    "output_type": "display_data", 
                    "data": {
                        "text/html": "51", 
                        "text/latex": "51", 
                        "text/markdown": "51", 
                        "text/plain": "[1] 51"
                    }, 
                    "metadata": {}
                }
            ], 
            "source": "## Calcular la dimension de Y \n## dim(Y) ## si en caso Y fuera matriz, pero Y es un vector\nlength(Y) ## Y es un valor"
        }, 
        {
            "execution_count": 7, 
            "cell_type": "code", 
            "metadata": {}, 
            "outputs": [
                {
                    "output_type": "display_data", 
                    "data": {
                        "text/html": "<table>\n<tbody>\n\t<tr><td>19567968</td></tr>\n</tbody>\n</table>\n", 
                        "text/latex": "\\begin{tabular}{l}\n\t 19567968\\\\\n\\end{tabular}\n", 
                        "text/markdown": "\n| 19567968 | \n\n\n", 
                        "text/plain": "     [,1]    \n[1,] 19567968"
                    }, 
                    "metadata": {}
                }
            ], 
            "source": "## Ejemplo de multiplicar la transpuesta de Y con sigo misma\nt(Y)%*%Y"
        }, 
        {
            "execution_count": 8, 
            "cell_type": "code", 
            "metadata": {}, 
            "outputs": [
                {
                    "output_type": "display_data", 
                    "data": {
                        "text/html": "<table>\n<thead><tr><th></th><th scope=col>Df</th><th scope=col>Sum Sq</th><th scope=col>Mean Sq</th><th scope=col>F value</th><th scope=col>Pr(&gt;F)</th></tr></thead>\n<tbody>\n\t<tr><th scope=row>Impuesto</th><td> 1          </td><td> 26635.28   </td><td>26635.28    </td><td> 6.325362   </td><td>1.546017e-02</td></tr>\n\t<tr><th scope=row>TasaLic</th><td> 1          </td><td> 79377.53   </td><td>79377.53    </td><td>18.850625   </td><td>7.691688e-05</td></tr>\n\t<tr><th scope=row>Ingreso</th><td> 1          </td><td> 61408.18   </td><td>61408.18    </td><td>14.583252   </td><td>3.997055e-04</td></tr>\n\t<tr><th scope=row>logMillas</th><td> 1          </td><td> 34573.07   </td><td>34573.07    </td><td> 8.210434   </td><td>6.259180e-03</td></tr>\n\t<tr><th scope=row>Residuals</th><td>46          </td><td>193700.02   </td><td> 4210.87    </td><td>       NA   </td><td>          NA</td></tr>\n</tbody>\n</table>\n", 
                        "text/latex": "\\begin{tabular}{r|lllll}\n  & Df & Sum Sq & Mean Sq & F value & Pr(>F)\\\\\n\\hline\n\tImpuesto &  1           &  26635.28    & 26635.28     &  6.325362    & 1.546017e-02\\\\\n\tTasaLic &  1           &  79377.53    & 79377.53     & 18.850625    & 7.691688e-05\\\\\n\tIngreso &  1           &  61408.18    & 61408.18     & 14.583252    & 3.997055e-04\\\\\n\tlogMillas &  1           &  34573.07    & 34573.07     &  8.210434    & 6.259180e-03\\\\\n\tResiduals & 46           & 193700.02    &  4210.87     &        NA    &           NA\\\\\n\\end{tabular}\n", 
                        "text/markdown": "\n| <!--/--> | Df | Sum Sq | Mean Sq | F value | Pr(>F) | \n|---|---|---|---|---|\n| Impuesto |  1           |  26635.28    | 26635.28     |  6.325362    | 1.546017e-02 | \n| TasaLic |  1           |  79377.53    | 79377.53     | 18.850625    | 7.691688e-05 | \n| Ingreso |  1           |  61408.18    | 61408.18     | 14.583252    | 3.997055e-04 | \n| logMillas |  1           |  34573.07    | 34573.07     |  8.210434    | 6.259180e-03 | \n| Residuals | 46           | 193700.02    |  4210.87     |        NA    |           NA | \n\n\n", 
                        "text/plain": "          Df Sum Sq    Mean Sq  F value   Pr(>F)      \nImpuesto   1  26635.28 26635.28  6.325362 1.546017e-02\nTasaLic    1  79377.53 79377.53 18.850625 7.691688e-05\nIngreso    1  61408.18 61408.18 14.583252 3.997055e-04\nlogMillas  1  34573.07 34573.07  8.210434 6.259180e-03\nResiduals 46 193700.02  4210.87        NA           NA"
                    }, 
                    "metadata": {}
                }
            ], 
            "source": "## Analisis de varianza\n\nanova(Gasolina2001.m5)\n"
        }, 
        {
            "execution_count": 9, 
            "cell_type": "code", 
            "metadata": {}, 
            "outputs": [
                {
                    "output_type": "display_data", 
                    "data": {
                        "text/html": "<table>\n<thead><tr><th scope=col>Impuesto</th><th scope=col>TasaLic</th><th scope=col>Ingreso</th><th scope=col>logMillas</th></tr></thead>\n<tbody>\n\t<tr><td>18.0     </td><td>1031.3801</td><td>23.471   </td><td>16.52711 </td></tr>\n\t<tr><td> 8.0     </td><td>1031.6411</td><td>30.064   </td><td>13.73429 </td></tr>\n\t<tr><td>18.0     </td><td> 908.5972</td><td>25.578   </td><td>15.75356 </td></tr>\n\t<tr><td>21.7     </td><td> 946.5706</td><td>22.257   </td><td>16.58244 </td></tr>\n\t<tr><td>18.0     </td><td> 844.7033</td><td>32.275   </td><td>17.36471 </td></tr>\n\t<tr><td>22.0     </td><td> 989.6062</td><td>32.949   </td><td>16.38960 </td></tr>\n</tbody>\n</table>\n", 
                        "text/latex": "\\begin{tabular}{llll}\n Impuesto & TasaLic & Ingreso & logMillas\\\\\n\\hline\n\t 18.0      & 1031.3801 & 23.471    & 16.52711 \\\\\n\t  8.0      & 1031.6411 & 30.064    & 13.73429 \\\\\n\t 18.0      &  908.5972 & 25.578    & 15.75356 \\\\\n\t 21.7      &  946.5706 & 22.257    & 16.58244 \\\\\n\t 18.0      &  844.7033 & 32.275    & 17.36471 \\\\\n\t 22.0      &  989.6062 & 32.949    & 16.38960 \\\\\n\\end{tabular}\n", 
                        "text/markdown": "\nImpuesto | TasaLic | Ingreso | logMillas | \n|---|---|---|---|---|---|\n| 18.0      | 1031.3801 | 23.471    | 16.52711  | \n|  8.0      | 1031.6411 | 30.064    | 13.73429  | \n| 18.0      |  908.5972 | 25.578    | 15.75356  | \n| 21.7      |  946.5706 | 22.257    | 16.58244  | \n| 18.0      |  844.7033 | 32.275    | 17.36471  | \n| 22.0      |  989.6062 | 32.949    | 16.38960  | \n\n\n", 
                        "text/plain": "     Impuesto TasaLic   Ingreso logMillas\n[1,] 18.0     1031.3801 23.471  16.52711 \n[2,]  8.0     1031.6411 30.064  13.73429 \n[3,] 18.0      908.5972 25.578  15.75356 \n[4,] 21.7      946.5706 22.257  16.58244 \n[5,] 18.0      844.7033 32.275  17.36471 \n[6,] 22.0      989.6062 32.949  16.38960 "
                    }, 
                    "metadata": {}
                }
            ], 
            "source": "# Creamos una matriz con solo las variables predictoras, retiramos el valor 1\nY <- TasaComb\nX <- cbind(Impuesto, TasaLic ,Ingreso, logMillas ) \nhead(X)\n"
        }, 
        {
            "execution_count": 10, 
            "cell_type": "code", 
            "metadata": {}, 
            "outputs": [
                {
                    "output_type": "display_data", 
                    "data": {
                        "text/html": "<table>\n<thead><tr><th></th><th scope=col>Df</th><th scope=col>Sum Sq</th><th scope=col>Mean Sq</th><th scope=col>F value</th><th scope=col>Pr(&gt;F)</th></tr></thead>\n<tbody>\n\t<tr><th scope=row>X</th><td> 4         </td><td>201994     </td><td>50498.51   </td><td>11.99242   </td><td>9.33078e-07</td></tr>\n\t<tr><th scope=row>Residuals</th><td>46         </td><td>193700     </td><td> 4210.87   </td><td>      NA   </td><td>         NA</td></tr>\n</tbody>\n</table>\n", 
                        "text/latex": "\\begin{tabular}{r|lllll}\n  & Df & Sum Sq & Mean Sq & F value & Pr(>F)\\\\\n\\hline\n\tX &  4          & 201994      & 50498.51    & 11.99242    & 9.33078e-07\\\\\n\tResiduals & 46          & 193700      &  4210.87    &       NA    &          NA\\\\\n\\end{tabular}\n", 
                        "text/markdown": "\n| <!--/--> | Df | Sum Sq | Mean Sq | F value | Pr(>F) | \n|---|---|\n| X |  4          | 201994      | 50498.51    | 11.99242    | 9.33078e-07 | \n| Residuals | 46          | 193700      |  4210.87    |       NA    |          NA | \n\n\n", 
                        "text/plain": "          Df Sum Sq Mean Sq  F value  Pr(>F)     \nX          4 201994 50498.51 11.99242 9.33078e-07\nResiduals 46 193700  4210.87       NA          NA"
                    }, 
                    "metadata": {}
                }
            ], 
            "source": "# nuevo modelo\nGasolina2001.m6 <- lm(TasaComb ~ X)\nanova(Gasolina2001.m6)"
        }, 
        {
            "execution_count": 11, 
            "cell_type": "code", 
            "metadata": {}, 
            "outputs": [], 
            "source": "## modelo de regresion que incluye todas las variables predictorias menos el impuesto\nGasolina2001.m7 <- lm(TasaComb ~  TasaLic + Ingreso + logMillas)\n"
        }, 
        {
            "execution_count": 12, 
            "cell_type": "code", 
            "metadata": {}, 
            "outputs": [
                {
                    "output_type": "display_data", 
                    "data": {
                        "text/html": "<table>\n<thead><tr><th scope=col>Res.Df</th><th scope=col>RSS</th><th scope=col>Df</th><th scope=col>Sum of Sq</th><th scope=col>F</th><th scope=col>Pr(&gt;F)</th></tr></thead>\n<tbody>\n\t<tr><td>47        </td><td>211964    </td><td>NA        </td><td>      NA  </td><td>      NA  </td><td>        NA</td></tr>\n\t<tr><td>46        </td><td>193700    </td><td> 1        </td><td>18263.94  </td><td>4.337332  </td><td>0.04287333</td></tr>\n</tbody>\n</table>\n", 
                        "text/latex": "\\begin{tabular}{r|llllll}\n Res.Df & RSS & Df & Sum of Sq & F & Pr(>F)\\\\\n\\hline\n\t 47         & 211964     & NA         &       NA   &       NA   &         NA\\\\\n\t 46         & 193700     &  1         & 18263.94   & 4.337332   & 0.04287333\\\\\n\\end{tabular}\n", 
                        "text/markdown": "\nRes.Df | RSS | Df | Sum of Sq | F | Pr(>F) | \n|---|---|\n| 47         | 211964     | NA         |       NA   |       NA   |         NA | \n| 46         | 193700     |  1         | 18263.94   | 4.337332   | 0.04287333 | \n\n\n", 
                        "text/plain": "  Res.Df RSS    Df Sum of Sq F        Pr(>F)    \n1 47     211964 NA       NA        NA         NA\n2 46     193700  1 18263.94  4.337332 0.04287333"
                    }, 
                    "metadata": {}
                }
            ], 
            "source": "## Uso anova para comparar modelos\n## el primer parametro es el modelo que tiene menos variables predictorias\n## el segundo parametro es el modelo que tiene mas variables predictorias\nanova(Gasolina2001.m7, Gasolina2001.m5)"
        }
    ], 
    "metadata": {
        "kernelspec": {
            "display_name": "R", 
            "name": "r", 
            "language": "R"
        }, 
        "language_info": {
            "mimetype": "text/x-r-source", 
            "version": "3.4.2", 
            "name": "R", 
            "pygments_lexer": "r", 
            "file_extension": ".r", 
            "codemirror_mode": "r"
        }
    }, 
    "nbformat": 4
}