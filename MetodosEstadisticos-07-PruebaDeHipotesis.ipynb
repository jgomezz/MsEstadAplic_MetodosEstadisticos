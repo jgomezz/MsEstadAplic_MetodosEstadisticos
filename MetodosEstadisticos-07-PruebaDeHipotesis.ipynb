{
    "nbformat_minor": 1, 
    "cells": [
        {
            "execution_count": 2, 
            "cell_type": "code", 
            "metadata": {}, 
            "outputs": [
                {
                    "output_type": "display_data", 
                    "data": {
                        "text/plain": "\n\tShapiro-Wilk normality test\n\ndata:  pesos\nW = 0.98567, p-value = 0.9191\n"
                    }, 
                    "metadata": {}
                }
            ], 
            "source": "# Calculo de p_valor\n\n# distribuci\u00f3 normal\npesos <- rnorm(35,70,3)\n\n# calculo del p_valor con el metodo de Shapiro\nshapiro.test(pesos)"
        }, 
        {
            "execution_count": 3, 
            "cell_type": "code", 
            "metadata": {}, 
            "outputs": [
                {
                    "output_type": "display_data", 
                    "data": {
                        "text/plain": "\n\tShapiro-Wilk normality test\n\ndata:  tiempo\nW = 0.80954, p-value = 1.077e-05\n"
                    }, 
                    "metadata": {}
                }
            ], 
            "source": "# distribuci\u00f3 exponencial\ntiempo <- rexp(40,1/5)\n\n# calculo del p_valor con el metodo de Shapiro\nshapiro.test(tiempo)"
        }, 
        {
            "execution_count": 5, 
            "cell_type": "code", 
            "metadata": {}, 
            "outputs": [
                {
                    "output_type": "stream", 
                    "name": "stderr", 
                    "text": "Updating HTML index of packages in '.Library'\nMaking 'packages.html' ... done\n"
                }
            ], 
            "source": "# Uso de paquetes para calcular \n# las pruebas de normalidad\ninstall.packages(\"nortest\")\nlibrary(\"nortest\")"
        }, 
        {
            "execution_count": 9, 
            "cell_type": "code", 
            "metadata": {}, 
            "outputs": [
                {
                    "output_type": "display_data", 
                    "data": {
                        "text/plain": "\n\tAnderson-Darling normality test\n\ndata:  pesos\nA = 0.14157, p-value = 0.9692\n"
                    }, 
                    "metadata": {}
                }, 
                {
                    "output_type": "display_data", 
                    "data": {
                        "text/plain": "\n\tPearson chi-square normality test\n\ndata:  pesos\nP = 4.3429, p-value = 0.6304\n"
                    }, 
                    "metadata": {}
                }
            ], 
            "source": "# nortest\nad.test(pesos)\npearson.test(pesos)"
        }, 
        {
            "execution_count": 8, 
            "cell_type": "code", 
            "metadata": {}, 
            "outputs": [
                {
                    "output_type": "stream", 
                    "name": "stderr", 
                    "text": "Updating HTML index of packages in '.Library'\nMaking 'packages.html' ... done\n"
                }
            ], 
            "source": "# Uso deotro paquetes para calcular \n# las pruebas de normalidad\n# no es recomendable\ninstall.packages(\"normtest\")\nlibrary(\"normtest\")"
        }, 
        {
            "execution_count": 10, 
            "cell_type": "code", 
            "metadata": {}, 
            "outputs": [
                {
                    "output_type": "display_data", 
                    "data": {
                        "text/plain": "\n\tJarque-Bera test for normality\n\ndata:  pesos\nJB = 0.44292, p-value = 0.7665\n"
                    }, 
                    "metadata": {}
                }
            ], 
            "source": "# normtest\njb.norm.test(pesos)"
        }, 
        {
            "execution_count": null, 
            "cell_type": "code", 
            "metadata": {}, 
            "outputs": [], 
            "source": "################################################################\n# Comparaci\u00f3n de la potencia de prueba de normal\n################################################################\n\nr <- 1000\n\nad <- rep(0.r)\nsw <- rep(0.r)\ncp <- rep(0.r)\n\nfor (i in 1:r) {\n    muestra <- exp(35, 1/5) # generamos 35 datos con una media de 1/5\n    ad[i] <- ad.test(muestra)$p.val\n    sw[i] <- shapiro.test(muestra)$p.val\n    cp[i] <- pearson.test(muestra)$p.val\n    \n}\n\n\n\n"
        }
    ], 
    "metadata": {
        "kernelspec": {
            "display_name": "R", 
            "name": "r", 
            "language": "R"
        }, 
        "language_info": {
            "mimetype": "text/x-r-source", 
            "version": "3.4.2", 
            "name": "R", 
            "pygments_lexer": "r", 
            "file_extension": ".r", 
            "codemirror_mode": "r"
        }
    }, 
    "nbformat": 4
}