{
    "nbformat_minor": 1, 
    "cells": [
        {
            "execution_count": 8, 
            "cell_type": "code", 
            "metadata": {}, 
            "outputs": [
                {
                    "output_type": "display_data", 
                    "data": {
                        "text/html": "<table>\n<thead><tr><th scope=col>Grasa</th><th scope=col>Edad</th><th scope=col>Peso</th><th scope=col>Altura</th><th scope=col>Cuello</th><th scope=col>Pecho</th><th scope=col>Abdomen</th><th scope=col>Cadera</th><th scope=col>Muslo</th><th scope=col>Rodilla</th><th scope=col>Tobillo</th><th scope=col>Biceps</th><th scope=col>Antebrazo</th><th scope=col>Mu\u00f1eca</th></tr></thead>\n<tbody>\n\t<tr><td>12.3  </td><td>23    </td><td>154.25</td><td>67.75 </td><td>36.2  </td><td> 93.1 </td><td> 85.2 </td><td> 94.5 </td><td>59.0  </td><td>37.3  </td><td>21.9  </td><td>32.0  </td><td>27.4  </td><td>17.1  </td></tr>\n\t<tr><td> 6.1  </td><td>22    </td><td>173.25</td><td>72.25 </td><td>38.5  </td><td> 93.6 </td><td> 83.0 </td><td> 98.7 </td><td>58.7  </td><td>37.3  </td><td>23.4  </td><td>30.5  </td><td>28.9  </td><td>18.2  </td></tr>\n\t<tr><td>25.3  </td><td>22    </td><td>154.00</td><td>66.25 </td><td>34.0  </td><td> 95.8 </td><td> 87.9 </td><td> 99.2 </td><td>59.6  </td><td>38.9  </td><td>24.0  </td><td>28.8  </td><td>25.2  </td><td>16.6  </td></tr>\n\t<tr><td>10.4  </td><td>26    </td><td>184.75</td><td>72.25 </td><td>37.4  </td><td>101.8 </td><td> 86.4 </td><td>101.2 </td><td>60.1  </td><td>37.3  </td><td>22.8  </td><td>32.4  </td><td>29.4  </td><td>18.2  </td></tr>\n\t<tr><td>28.7  </td><td>24    </td><td>184.25</td><td>71.25 </td><td>34.4  </td><td> 97.3 </td><td>100.0 </td><td>101.9 </td><td>63.2  </td><td>42.2  </td><td>24.0  </td><td>32.2  </td><td>27.7  </td><td>17.7  </td></tr>\n\t<tr><td>20.9  </td><td>24    </td><td>210.25</td><td>74.75 </td><td>39.0  </td><td>104.5 </td><td> 94.4 </td><td>107.8 </td><td>66.0  </td><td>42.0  </td><td>25.6  </td><td>35.7  </td><td>30.6  </td><td>18.8  </td></tr>\n</tbody>\n</table>\n", 
                        "text/latex": "\\begin{tabular}{r|llllllllllllll}\n Grasa & Edad & Peso & Altura & Cuello & Pecho & Abdomen & Cadera & Muslo & Rodilla & Tobillo & Biceps & Antebrazo & Mu\u00f1eca\\\\\n\\hline\n\t 12.3   & 23     & 154.25 & 67.75  & 36.2   &  93.1  &  85.2  &  94.5  & 59.0   & 37.3   & 21.9   & 32.0   & 27.4   & 17.1  \\\\\n\t  6.1   & 22     & 173.25 & 72.25  & 38.5   &  93.6  &  83.0  &  98.7  & 58.7   & 37.3   & 23.4   & 30.5   & 28.9   & 18.2  \\\\\n\t 25.3   & 22     & 154.00 & 66.25  & 34.0   &  95.8  &  87.9  &  99.2  & 59.6   & 38.9   & 24.0   & 28.8   & 25.2   & 16.6  \\\\\n\t 10.4   & 26     & 184.75 & 72.25  & 37.4   & 101.8  &  86.4  & 101.2  & 60.1   & 37.3   & 22.8   & 32.4   & 29.4   & 18.2  \\\\\n\t 28.7   & 24     & 184.25 & 71.25  & 34.4   &  97.3  & 100.0  & 101.9  & 63.2   & 42.2   & 24.0   & 32.2   & 27.7   & 17.7  \\\\\n\t 20.9   & 24     & 210.25 & 74.75  & 39.0   & 104.5  &  94.4  & 107.8  & 66.0   & 42.0   & 25.6   & 35.7   & 30.6   & 18.8  \\\\\n\\end{tabular}\n", 
                        "text/markdown": "\nGrasa | Edad | Peso | Altura | Cuello | Pecho | Abdomen | Cadera | Muslo | Rodilla | Tobillo | Biceps | Antebrazo | Mu\u00f1eca | \n|---|---|---|---|---|---|\n| 12.3   | 23     | 154.25 | 67.75  | 36.2   |  93.1  |  85.2  |  94.5  | 59.0   | 37.3   | 21.9   | 32.0   | 27.4   | 17.1   | \n|  6.1   | 22     | 173.25 | 72.25  | 38.5   |  93.6  |  83.0  |  98.7  | 58.7   | 37.3   | 23.4   | 30.5   | 28.9   | 18.2   | \n| 25.3   | 22     | 154.00 | 66.25  | 34.0   |  95.8  |  87.9  |  99.2  | 59.6   | 38.9   | 24.0   | 28.8   | 25.2   | 16.6   | \n| 10.4   | 26     | 184.75 | 72.25  | 37.4   | 101.8  |  86.4  | 101.2  | 60.1   | 37.3   | 22.8   | 32.4   | 29.4   | 18.2   | \n| 28.7   | 24     | 184.25 | 71.25  | 34.4   |  97.3  | 100.0  | 101.9  | 63.2   | 42.2   | 24.0   | 32.2   | 27.7   | 17.7   | \n| 20.9   | 24     | 210.25 | 74.75  | 39.0   | 104.5  |  94.4  | 107.8  | 66.0   | 42.0   | 25.6   | 35.7   | 30.6   | 18.8   | \n\n\n", 
                        "text/plain": "  Grasa Edad Peso   Altura Cuello Pecho Abdomen Cadera Muslo Rodilla Tobillo\n1 12.3  23   154.25 67.75  36.2    93.1  85.2    94.5  59.0  37.3    21.9   \n2  6.1  22   173.25 72.25  38.5    93.6  83.0    98.7  58.7  37.3    23.4   \n3 25.3  22   154.00 66.25  34.0    95.8  87.9    99.2  59.6  38.9    24.0   \n4 10.4  26   184.75 72.25  37.4   101.8  86.4   101.2  60.1  37.3    22.8   \n5 28.7  24   184.25 71.25  34.4    97.3 100.0   101.9  63.2  42.2    24.0   \n6 20.9  24   210.25 74.75  39.0   104.5  94.4   107.8  66.0  42.0    25.6   \n  Biceps Antebrazo Mu\u00f1eca\n1 32.0   27.4      17.1  \n2 30.5   28.9      18.2  \n3 28.8   25.2      16.6  \n4 32.4   29.4      18.2  \n5 32.2   27.7      17.7  \n6 35.7   30.6      18.8  "
                    }, 
                    "metadata": {}
                }
            ], 
            "source": "FILE_URL <- \"http://tarwi.lamolina.edu.pe/~clopez/Regresion/Grasa.txt\"\nFILE_ENCONDING <- \"ISO-8859-1\"\nSEPARATOR <- \"\\t\"\n\n# Read file\nGrasa.data <- read.csv(FILE_URL, fileEncoding = FILE_ENCONDING, sep = SEPARATOR)\n\n# Mostrar datos\nhead(Grasa.data)"
        }, 
        {
            "execution_count": 9, 
            "cell_type": "code", 
            "metadata": {}, 
            "outputs": [], 
            "source": "library(car)"
        }, 
        {
            "execution_count": 10, 
            "cell_type": "code", 
            "metadata": {}, 
            "outputs": [
                {
                    "output_type": "display_data", 
                    "data": {
                        "text/html": "<dl class=dl-horizontal>\n\t<dt>Edad</dt>\n\t\t<dd>2.25045023586223</dd>\n\t<dt>Peso</dt>\n\t\t<dd>33.50931979125</dd>\n\t<dt>Altura</dt>\n\t\t<dd>1.67459083959811</dd>\n\t<dt>Cuello</dt>\n\t\t<dd>4.32446326424943</dd>\n\t<dt>Pecho</dt>\n\t\t<dd>9.46087732137425</dd>\n\t<dt>Abdomen</dt>\n\t\t<dd>11.7670733753212</dd>\n\t<dt>Cadera</dt>\n\t\t<dd>14.7965198369229</dd>\n\t<dt>Muslo</dt>\n\t\t<dd>7.77786469219344</dd>\n\t<dt>Rodilla</dt>\n\t\t<dd>4.61214673600487</dd>\n\t<dt>Tobillo</dt>\n\t\t<dd>1.9079609950702</dd>\n\t<dt>Biceps</dt>\n\t\t<dd>3.61974357536549</dd>\n\t<dt>Antebrazo</dt>\n\t\t<dd>2.1924921166644</dd>\n\t<dt>Mu\u00f1eca</dt>\n\t\t<dd>3.37751489619544</dd>\n</dl>\n", 
                        "text/latex": "\\begin{description*}\n\\item[Edad] 2.25045023586223\n\\item[Peso] 33.50931979125\n\\item[Altura] 1.67459083959811\n\\item[Cuello] 4.32446326424943\n\\item[Pecho] 9.46087732137425\n\\item[Abdomen] 11.7670733753212\n\\item[Cadera] 14.7965198369229\n\\item[Muslo] 7.77786469219344\n\\item[Rodilla] 4.61214673600487\n\\item[Tobillo] 1.9079609950702\n\\item[Biceps] 3.61974357536549\n\\item[Antebrazo] 2.1924921166644\n\\item[Mu\u00f1eca] 3.37751489619544\n\\end{description*}\n", 
                        "text/markdown": "Edad\n:   2.25045023586223Peso\n:   33.50931979125Altura\n:   1.67459083959811Cuello\n:   4.32446326424943Pecho\n:   9.46087732137425Abdomen\n:   11.7670733753212Cadera\n:   14.7965198369229Muslo\n:   7.77786469219344Rodilla\n:   4.61214673600487Tobillo\n:   1.9079609950702Biceps\n:   3.61974357536549Antebrazo\n:   2.1924921166644Mu\u00f1eca\n:   3.37751489619544\n\n", 
                        "text/plain": "     Edad      Peso    Altura    Cuello     Pecho   Abdomen    Cadera     Muslo \n 2.250450 33.509320  1.674591  4.324463  9.460877 11.767073 14.796520  7.777865 \n  Rodilla   Tobillo    Biceps Antebrazo    Mu\u00f1eca \n 4.612147  1.907961  3.619744  2.192492  3.377515 "
                    }, 
                    "metadata": {}
                }
            ], 
            "source": "# Creamos nuestro primer modelo\nGrasa.m1 <- lm(Grasa ~ ., data = Grasa.data)\n\n# Calculo de los factores de inflacion de varianza\nvif(Grasa.m1)\n\n# se recomienda no considerar las variables predictores que tienen un valor > 10"
        }
    ], 
    "metadata": {
        "kernelspec": {
            "display_name": "R", 
            "name": "r", 
            "language": "R"
        }, 
        "language_info": {
            "mimetype": "text/x-r-source", 
            "version": "3.4.2", 
            "name": "R", 
            "pygments_lexer": "r", 
            "file_extension": ".r", 
            "codemirror_mode": "r"
        }
    }, 
    "nbformat": 4
}